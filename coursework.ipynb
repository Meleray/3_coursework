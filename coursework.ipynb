{
  "nbformat": 4,
  "nbformat_minor": 0,
  "metadata": {
    "colab": {
      "name": "coursework.ipynb",
      "provenance": [],
      "collapsed_sections": []
    },
    "kernelspec": {
      "display_name": "Python 3",
      "name": "python3"
    },
    "accelerator": "GPU"
  },
  "cells": [
    {
      "cell_type": "code",
      "metadata": {
        "colab": {
          "base_uri": "https://localhost:8080/"
        },
        "id": "LtXrJ7KkO6TW",
        "outputId": "dd7dadb6-197b-4b0c-ee74-a3d102fa214a"
      },
      "source": [
        "from google.colab import drive\n",
        "drive.mount('/content/drive')"
      ],
      "execution_count": null,
      "outputs": [
        {
          "output_type": "stream",
          "text": [
            "Mounted at /content/drive\n"
          ],
          "name": "stdout"
        }
      ]
    },
    {
      "cell_type": "code",
      "metadata": {
        "id": "T2Obs6NGnQnR",
        "colab": {
          "base_uri": "https://localhost:8080/"
        },
        "outputId": "cf99ca7d-4d56-4420-d312-f93894efa0b7"
      },
      "source": [
        "import sys\n",
        "print(sys.version_info)"
      ],
      "execution_count": null,
      "outputs": [
        {
          "output_type": "stream",
          "text": [
            "sys.version_info(major=3, minor=6, micro=9, releaselevel='final', serial=0)\n"
          ],
          "name": "stdout"
        }
      ]
    },
    {
      "cell_type": "code",
      "metadata": {
        "colab": {
          "base_uri": "https://localhost:8080/"
        },
        "id": "9HxfQWI47j9b",
        "outputId": "9fd7c25a-5caa-4925-8b0c-e406ff445375"
      },
      "source": [
        "!pip install rotation-forest\n",
        "import numpy as np\n",
        "import os\n",
        "import tarfile\n",
        "import zipfile\n",
        "import email\n",
        "from bs4 import BeautifulSoup\n",
        "import nltk\n",
        "from nltk.tokenize import word_tokenize\n",
        "from string import punctuation\n",
        "from nltk.corpus import stopwords\n",
        "from nltk.tokenize import word_tokenize\n",
        "from nltk.stem import WordNetLemmatizer\n",
        "nltk.download('punkt')\n",
        "nltk.download('stopwords')\n",
        "nltk.download('wordnet')\n",
        "from nltk.corpus import stopwords\n",
        "import re\n",
        "from collections import Counter\n",
        "import sklearn\n",
        "from sklearn.neighbors import KNeighborsClassifier\n",
        "from sklearn.svm import SVC\n",
        "from bs4 import Comment\n",
        "from sklearn.metrics import roc_auc_score\n",
        "from sklearn.feature_extraction.text import CountVectorizer\n",
        "from sklearn.feature_selection import SelectKBest, chi2\n",
        "from sklearn.model_selection import train_test_split\n",
        "from sklearn.svm import SVC\n",
        "from rotation_forest import RotationForestClassifier\n",
        "from sklearn.tree import DecisionTreeClassifier\n",
        "import gc\n",
        "from sklearn.feature_extraction.text import TfidfVectorizer, TfidfTransformer\n",
        "rf = RotationForestClassifier(max_depth=50, n_estimators=5)\n",
        "svm = SVC(max_iter=10000)\n",
        "cert = DecisionTreeClassifier()"
      ],
      "execution_count": null,
      "outputs": [
        {
          "output_type": "stream",
          "text": [
            "Collecting rotation-forest\n",
            "  Downloading https://files.pythonhosted.org/packages/3e/70/83b4776a92f9442819538c3fc3bdb1e240af43a17b2592bfe8574d32ce02/rotation_forest-0.4-py3-none-any.whl\n",
            "Requirement already satisfied: scipy in /usr/local/lib/python3.6/dist-packages (from rotation-forest) (1.4.1)\n",
            "Requirement already satisfied: numpy in /usr/local/lib/python3.6/dist-packages (from rotation-forest) (1.18.5)\n",
            "Requirement already satisfied: scikit-learn in /usr/local/lib/python3.6/dist-packages (from rotation-forest) (0.22.2.post1)\n",
            "Requirement already satisfied: joblib>=0.11 in /usr/local/lib/python3.6/dist-packages (from scikit-learn->rotation-forest) (0.17.0)\n",
            "Installing collected packages: rotation-forest\n",
            "Successfully installed rotation-forest-0.4\n",
            "[nltk_data] Downloading package punkt to /root/nltk_data...\n",
            "[nltk_data]   Unzipping tokenizers/punkt.zip.\n",
            "[nltk_data] Downloading package stopwords to /root/nltk_data...\n",
            "[nltk_data]   Unzipping corpora/stopwords.zip.\n",
            "[nltk_data] Downloading package wordnet to /root/nltk_data...\n",
            "[nltk_data]   Unzipping corpora/wordnet.zip.\n"
          ],
          "name": "stdout"
        }
      ]
    },
    {
      "cell_type": "code",
      "metadata": {
        "colab": {
          "base_uri": "https://localhost:8080/"
        },
        "id": "3ONi1SehjwE_",
        "outputId": "ebbe928a-e408-4ee7-b351-727d8636b87f"
      },
      "source": [
        "%tensorflow_version 2.x\n",
        "import tensorflow as tf\n",
        "device_name = tf.test.gpu_device_name()\n",
        "if device_name != '/device:GPU:0':\n",
        "  raise SystemError('GPU device not found')\n",
        "print('Found GPU at: {}'.format(device_name))"
      ],
      "execution_count": null,
      "outputs": [
        {
          "output_type": "stream",
          "text": [
            "Found GPU at: /device:GPU:0\n"
          ],
          "name": "stdout"
        }
      ]
    },
    {
      "cell_type": "code",
      "metadata": {
        "id": "vVxQ0i0w-SEF"
      },
      "source": [
        "\"\"\"\n",
        "Unzip datasets\n",
        "\"\"\"\n",
        "\n",
        "ceas = tarfile.open('/content/drive/My Drive/Colab Notebooks/Coursework/datasets/ceas08-1.tgz', 'r:gz')\n",
        "trec = tarfile.open('/content/drive/My Drive/Colab Notebooks/Coursework/datasets/trec07p.tgz', 'r:gz')\n",
        "enron = zipfile.ZipFile('/content/drive/MyDrive/Colab Notebooks/Coursework/datasets/archive.zip', 'r')\n",
        "ceas.extractall()\n",
        "trec.extractall()\n",
        "enron.extractall()\n",
        "spamassassin = zipfile.ZipFile('/content/drive/MyDrive/Colab Notebooks/Coursework/datasets/spamassassin.zip', 'r')\n",
        "spamassassin.extractall()"
      ],
      "execution_count": null,
      "outputs": []
    },
    {
      "cell_type": "code",
      "metadata": {
        "id": "5fxdsuEHAxSl"
      },
      "source": [
        "\"\"\"\n",
        "Extract emails from datasets TREC07 and CEAS08\n",
        "\"\"\"\n",
        "def extract_emails_tc(index_path, dataset_tag):\n",
        "  index_file = open(index_path, 'r')\n",
        "  index_list = index_file.readlines()\n",
        "  email_texts = np.empty(len(index_list), dtype=object)\n",
        "  email_classes = np.zeros(len(index_list), dtype=bool)\n",
        "  service_info = {}\n",
        "  with tf.device('/device:GPU:0'):\n",
        "    for i, index in enumerate(index_list):\n",
        "      info = index.strip().split()\n",
        "      email_classes[i] = True if 'spam' in info[0].lower() else False\n",
        "      curr_email = open(os.path.normpath(os.path.join(os.path.dirname(index_path), info[1])), encoding='latin-1')\n",
        "      #line = curr_email.readline()\n",
        "      #if dataset_tag == 'ceas':\n",
        "        #while not 'x-ceas-tracking:' in line:\n",
        "          #line = curr_email.readline()\n",
        "      #elif dataset_tag == 'trec':\n",
        "        #while not line == '\\n':\n",
        "          #line = curr_email.readline()\n",
        "      email_texts[i] = curr_email.read()\n",
        "  return email_texts, email_classes"
      ],
      "execution_count": null,
      "outputs": []
    },
    {
      "cell_type": "code",
      "metadata": {
        "colab": {
          "base_uri": "https://localhost:8080/"
        },
        "id": "igUQq32eh6Sq",
        "outputId": "4e8fe380-5a90-4cba-9d7a-f0455adeb288"
      },
      "source": [
        "ceas_texts, ceas_classes = extract_emails_tc('/content/ceas08-1/full-pretrain-nofeedback/index', 'ceas')\n",
        "print(len(ceas_texts))"
      ],
      "execution_count": null,
      "outputs": [
        {
          "output_type": "stream",
          "text": [
            "140772\n"
          ],
          "name": "stdout"
        }
      ]
    },
    {
      "cell_type": "code",
      "metadata": {
        "colab": {
          "base_uri": "https://localhost:8080/"
        },
        "id": "m4zFQJGz_2WU",
        "outputId": "91011d64-e8d7-4df4-a03e-140284d1b8f9"
      },
      "source": [
        "trec_texts, trec_classes = extract_emails_tc('/content/trec07p/full/index', 'trec')\n",
        "print(len(trec_texts))"
      ],
      "execution_count": null,
      "outputs": [
        {
          "output_type": "stream",
          "text": [
            "75419\n"
          ],
          "name": "stdout"
        }
      ]
    },
    {
      "cell_type": "code",
      "metadata": {
        "id": "-Q1abATiEXdC"
      },
      "source": [
        "def extract_emails_enron(data_dir):\n",
        "  spamdir = os.path.join(data_dir, 'spam')\n",
        "  hamdir = os.path.join(data_dir, 'ham')\n",
        "  nspam = len(os.listdir(spamdir))\n",
        "  nham = len(os.listdir(hamdir))\n",
        "  enron_classes = np.concatenate((np.ones(nspam), np.zeros(nham))).astype(bool)\n",
        "  enron_texts = np.empty(nspam + nham, dtype=object)\n",
        "  for i, filename in enumerate(os.listdir(spamdir)):\n",
        "    curr_email = open(os.path.join(spamdir, filename), encoding='latin-1')\n",
        "    enron_texts[i] = curr_email.read()\n",
        "  for i, filename in enumerate(os.listdir(hamdir)):\n",
        "    curr_email = open(os.path.join(hamdir, filename), encoding='latin-1')\n",
        "    enron_texts[i + nspam] = curr_email.read()\n",
        "  return enron_texts, enron_classes"
      ],
      "execution_count": null,
      "outputs": []
    },
    {
      "cell_type": "code",
      "metadata": {
        "colab": {
          "base_uri": "https://localhost:8080/"
        },
        "id": "zW8Kg3lSEEko",
        "outputId": "1549b770-5dee-4839-c628-67be579ceab0"
      },
      "source": [
        "en1t, en1c = extract_emails_enron('/content/enron1')\n",
        "en2t, en2c = extract_emails_enron('/content/enron2')\n",
        "en3t, en3c = extract_emails_enron('/content/enron3')\n",
        "en4t, en4c = extract_emails_enron('/content/enron4')\n",
        "en5t, en5c = extract_emails_enron('/content/enron5')\n",
        "en6t, en6c = extract_emails_enron('/content/enron6')\n",
        "print(en1t)"
      ],
      "execution_count": null,
      "outputs": [
        {
          "output_type": "stream",
          "text": [
            "['Subject: get prescri ) ption d ) rugs to your door !\\n'\n",
            " 'Subject: i tried , it worked infinitesimal ingest\\nyour dog derm\\ni begin by taking . i shall find scholars later to demonstrate my perfect right . - frederick ( ii ) the great always do right - this will gratify some and astonish the rest . - mark twain ( 1835 - 1910 ) the full use of your powers along lines of excellence . - definition ofhappiness by john f . kennedy ( 1917 - 1963 )\\n'\n",
            " \"Subject: i ' ll never stop loving you\\nat what age is it easiest to fall in love . ?\\nit doesnt matterif you can meet the right person .\\nbut the question iswhere do you find the right person .\\nclick on the link below and discover where thousands of people have fallen in love and its free .\\nclick here :\\nhttp : / / keeponlovinme . com / search / ? oc = 5303\\n\"\n",
            " ...\n",
            " 'Subject: vastar resources , inc .\\ngary , production from the high island larger block a - 1 # 2 commenced on\\nsaturday at 2 : 00 p . m . at about 6 , 500 gross . carlos expects between 9 , 500 and\\n10 , 000 gross for tomorrow . vastar owns 68 % of the gross production .\\ngeorge x 3 - 6992\\n- - - - - - - - - - - - - - - - - - - - - - forwarded by george weissman / hou / ect on 12 / 13 / 99 10 : 16\\nam - - - - - - - - - - - - - - - - - - - - - - - - - - -\\ndaren j farmer\\n12 / 10 / 99 10 : 38 am\\nto : carlos j rodriguez / hou / ect @ ect\\ncc : george weissman / hou / ect @ ect , melissa graves / hou / ect @ ect\\nsubject : vastar resources , inc .\\ncarlos ,\\nplease call linda and get everything set up .\\ni \\' m going to estimate 4 , 500 coming up tomorrow , with a 2 , 000 increase each\\nfollowing day based on my conversations with bill fischer at bmar .\\nd .\\n- - - - - - - - - - - - - - - - - - - - - - forwarded by daren j farmer / hou / ect on 12 / 10 / 99 10 : 34\\nam - - - - - - - - - - - - - - - - - - - - - - - - - - -\\nenron north america corp .\\nfrom : george weissman 12 / 10 / 99 10 : 00 am\\nto : daren j farmer / hou / ect @ ect\\ncc : gary bryan / hou / ect @ ect , melissa graves / hou / ect @ ect\\nsubject : vastar resources , inc .\\ndarren ,\\nthe attached appears to be a nomination from vastar resources , inc . for the\\nhigh island larger block a - 1 # 2 ( previously , erroneously referred to as the\\n# 1 well ) . vastar now expects the well to commence production sometime\\ntomorrow . i told linda harris that we \\' d get her a telephone number in gas\\ncontrol so she can provide notification of the turn - on tomorrow . linda \\' s\\nnumbers , for the record , are 281 . 584 . 3359 voice and 713 . 312 . 1689 fax .\\nwould you please see that someone contacts linda and advises her how to\\nsubmit future nominations via e - mail , fax or voice ? thanks .\\ngeorge x 3 - 6992\\n- - - - - - - - - - - - - - - - - - - - - - forwarded by george weissman / hou / ect on 12 / 10 / 99 09 : 44\\nam - - - - - - - - - - - - - - - - - - - - - - - - - - -\\n\" linda harris \" on 12 / 10 / 99 09 : 38 : 43 am\\nto : george weissman / hou / ect @ ect\\ncc :\\nsubject : hi a - 1 # 2\\neffective 12 - 11 - 99\\n| - - - - - - - - + - - - - - - - - - - + - - - - - - - - - - - |\\n| | | |\\n| mscf / d | min ftp | time |\\n| | | |\\n| - - - - - - - - + - - - - - - - - - - + - - - - - - - - - - - |\\n| | | |\\n| 4 , 500 | 9 , 925 | 24 hours |\\n| | | |\\n| - - - - - - - - + - - - - - - - - - - + - - - - - - - - - - - |\\n| | | |\\n| 6 , 000 | 9 , 908 | 24 hours |\\n| | | |\\n| - - - - - - - - + - - - - - - - - - - + - - - - - - - - - - - |\\n| | | |\\n| 8 , 000 | 9 , 878 | 24 hours |\\n| | | |\\n| - - - - - - - - + - - - - - - - - - - + - - - - - - - - - - - |\\n| | | |\\n| 10 , 000 | 9 , 840 | 24 hours |\\n| | | |\\n| - - - - - - - - + - - - - - - - - - - + - - - - - - - - - - - |\\n| | | |\\n| 12 , 000 | 9 , 793 | 24 hours |\\n| | | |\\n| - - - - - - - - + - - - - - - - - - - + - - - - - - - - - - - |\\n| | | |\\n| 14 , 000 | 9 , 738 | 24 hours |\\n| | | |\\n| - - - - - - - - + - - - - - - - - - - + - - - - - - - - - - - |\\n| | | |\\n| 16 , 000 | 9 , 674 | 24 hours |\\n| | | |\\n| - - - - - - - - + - - - - - - - - - - + - - - - - - - - - - - |\\n| | | |\\n| 18 , 000 | 9 , 602 | 24 hours |\\n| | | |\\n| - - - - - - - - + - - - - - - - - - - + - - - - - - - - - - - |\\n| | | |\\n| 20 , 000 | 9 , 521 | 24 hours |\\n| | | |\\n| - - - - - - - - + - - - - - - - - - - + - - - - - - - - - - - |\\n| | | |\\n| 22 , 000 | 9 , 431 | 24 hours |\\n| | | |\\n| - - - - - - - - + - - - - - - - - - - + - - - - - - - - - - - |\\n| | | |\\n| 24 , 000 | 9 , 332 | 24 hours |\\n| | | |\\n| - - - - - - - - + - - - - - - - - - - + - - - - - - - - - - - |\\n| | | |\\n| 26 , 000 | 9 , 224 | 24 hours |\\n| | | |\\n| - - - - - - - - + - - - - - - - - - - + - - - - - - - - - - - |\\n| | | |\\n| 28 , 000 | 9 , 108 | 24 hours |\\n| | | |\\n| - - - - - - - - + - - - - - - - - - - + - - - - - - - - - - - |\\n| | | |\\n| 30 , 000 | 8 , 982 | 24 hours |\\n| | | |\\n| - - - - - - - - + - - - - - - - - - - + - - - - - - - - - - - |\\n| | | |\\n| 32 , 000 | 8 , 847 | 24 hours |\\n| | | |\\n| - - - - - - - - + - - - - - - - - - - + - - - - - - - - - - - |\\n| | | |\\n| 34 , 000 | 8 , 703 | 24 hours |\\n| | | |\\n| - - - - - - - - + - - - - - - - - - - + - - - - - - - - - - - |\\n| | | |\\n| 36 , 000 | 8 , 549 | 24 hours |\\n| | | |\\n| - - - - - - - - + - - - - - - - - - - + - - - - - - - - - - - |'\n",
            " \"Subject: re : republic royalty 5 / 00\\ndaren . . . i talked to cynthia in contracts and she said that ces deals cannot\\nbe extended and that a new contract has to be set up . how do you want to\\nhandle it ?\\ndaren j farmer @ ect\\n06 / 28 / 2000 04 : 17 pm\\nto : ami chokshi / corp / enron @ enron , megan parker / corp / enron @ enron , o ' neal d\\nwinfree / hou / ect @ ect , nelson ferries / corp / enron @ enron , hillary\\nmack / corp / enron @ enron\\ncc :\\nsubject : re : republic royalty 5 / 00\\ni have rolled # 143559 through july 2000 to cover the purchase from\\nrepublic . we sell this gas to duke energy field services ( # 143558 for jan -\\napr , ces - duke energy field services , inc ) . the counterparty on this deal\\nhas been suspeneded , so i created # 316727 under the counterparty of duke\\nenergy field services marketing , llc .\\nhillary - please extend the ces - duke counterparty or attach the correct duke\\ncounterparty to this deal .\\nif you have any questions , let me know .\\nd\\nfrom : ami chokshi @ enron 06 / 28 / 2000 10 : 45 am\\nto : megan parker / corp / enron @ enron , o ' neal d winfree / hou / ect @ ect\\ncc : nelson ferries / corp / enron @ enron , daren j farmer / hou / ect @ ect\\nsubject : republic royalty 5 / 00\\nthis deal was terminated by nelson ferries .\\nami\\n- - - - - - - - - - - - - - - - - - - - - - forwarded by ami chokshi / corp / enron on 06 / 28 / 2000\\n10 : 42 am - - - - - - - - - - - - - - - - - - - - - - - - - - -\\nfrom : megan parker 06 / 28 / 2000 10 : 28 am\\nto : ami chokshi / corp / enron @ enron , o ' neal d winfree / hou / ect @ ect\\ncc :\\nsubject : republic royalty 5 / 00\\nrepublic royalty is one of my ces deals . they sent me an invoice for may\\n2000 production , but i do not see a deal for may . does either of you know if\\nthis deal was extended under a new deal number ?\\nmegan\"\n",
            " 'Subject: re : exxon company , usa global # 96035668 / sitara # 212225\\nin response to cheryl \\' s note , in looking at a copy of a confirmation letter confirming the proposed agreement reached on march 1 , 2000 to be effective april 1 , 2000 through march 31 , 2001 , there is evergreen language .\\na termination letter is being prepared to be faxed to exxon with an original to follow for their records .\\ncheryl , this gtc is different from the ones we usually see in that hpl required signatures from both parties executed by exxon on 3 / 30 / 00 and hpl on 8 / 21 / 00 .\\nif you have any questions , please call me at x 35231 .\\nthanks , kim\\ncheryl dudley\\n03 / 16 / 2001 08 : 58 am\\nto : elsa villarreal / hou / ect @ ect\\ncc : amelia alland / hou / ect @ ect , daren j farmer / hou / ect @ ect , kimberlee a bennick / hou / ect @ ect\\nsubject : re : exxon company , usa global # 96035668 / sitara # 212225\\ni have re - checked sitara & verified that the above deal was a term , firm deal . this resulted in a gtc purchase firm contract being set - up in the global contracts system . the term of the gtc was set as the term of the deal ( 4 / 1 / 00 thru 3 / 31 / 01 ) with no evergreen , meaning that the contract will expire at the end of this month .\\nto the best of my knowledge , all gtc purchase firms have the same language & they do not have evergreen . they expire at the end of the primary term .\\nso , unless exxon negotiated a deal with different , special language to allow for evergreen & included something about a \" 10 day notification \" to terminate , there isn \\' t any reason to \" terminate \" this contract .\\nif this is the case , please advise . otherwise , i don \\' t think we need to do anything . the contract will expire at the end of this month on its own .\\nelsa villarreal\\n03 / 15 / 2001 02 : 42 pm\\nto : amelia alland / hou / ect @ ect , cheryl dudley / hou / ect @ ect\\ncc : daren j farmer / hou / ect @ ect\\nsubject : exxon company , usa global # 96035668 / sitara # 212225\\nplease prepare and send a termination letter by tomorrow march 16 , 2001 on the above referenced deal . houston pipe line company has not renegotiated a price and have no interest in buying the gas on an evergreen basis . it is my understanding that we need to notify them within 10 days of the end of the delivery period\\n. if you need any additional information or have any questions , please contact me at 35656 . thanks . emv\\n']\n"
          ],
          "name": "stdout"
        }
      ]
    },
    {
      "cell_type": "code",
      "metadata": {
        "id": "uzF6IKQ8A5Sc"
      },
      "source": [
        "def extract_emails_spamassassin():\n",
        "  spamdir = '/content/spam_2/spam_2'\n",
        "  ehamdir = '/content/easy_ham/easy_ham'\n",
        "  hhamdir = '/content/hard_ham/hard_ham'\n",
        "  nspam = len(os.listdir(spamdir))\n",
        "  neham = len(os.listdir(ehamdir))\n",
        "  nhham = len(os.listdir(hhamdir))\n",
        "  sa_classes = np.concatenate((np.ones(nspam), np.zeros(neham + nhham))).astype(bool)\n",
        "  sa_texts = np.empty(nspam + nhham + neham, dtype=object)\n",
        "  for i, filename in enumerate(os.listdir(spamdir)):\n",
        "    curr_email = open(os.path.join(spamdir, filename), encoding='latin-1')\n",
        "    sa_texts[i] = curr_email.read()\n",
        "  for i, filename in enumerate(os.listdir(ehamdir)):\n",
        "    curr_email = open(os.path.join(ehamdir, filename), encoding='latin-1')\n",
        "    sa_texts[i + nspam] = curr_email.read()\n",
        "  for i, filename in enumerate(os.listdir(hhamdir)):\n",
        "    curr_email = open(os.path.join(hhamdir, filename), encoding='latin-1')\n",
        "    sa_texts[i + nspam + neham] = curr_email.read()\n",
        "  return sa_texts, sa_classes"
      ],
      "execution_count": null,
      "outputs": []
    },
    {
      "cell_type": "code",
      "metadata": {
        "colab": {
          "base_uri": "https://localhost:8080/"
        },
        "id": "iQTIVQaHEwAF",
        "outputId": "ecc04198-0fac-433f-f4f8-031e20390d04"
      },
      "source": [
        "sa_texts, sa_classes = extract_emails_spamassassin()\n",
        "print(sa_texts)"
      ],
      "execution_count": null,
      "outputs": [
        {
          "output_type": "stream",
          "text": [
            "['From scott@hetnet.nl  Fri Aug  9 07:11:07 2002\\nReturn-Path: <scott@hetnet.nl>\\nDelivered-To: yyyy@localhost.netnoteinc.com\\nReceived: from localhost (localhost [127.0.0.1])\\n\\tby phobos.labs.netnoteinc.com (Postfix) with ESMTP id ABD99440CF\\n\\tfor <jm@localhost>; Fri,  9 Aug 2002 02:11:07 -0400 (EDT)\\nReceived: from mail.webnote.net [193.120.211.219]\\n\\tby localhost with POP3 (fetchmail-5.9.0)\\n\\tfor jm@localhost (single-drop); Fri, 09 Aug 2002 07:11:07 +0100 (IST)\\nReceived: from smtp.easydns.com (smtp.easydns.com [205.210.42.30])\\n\\tby webnote.net (8.9.3/8.9.3) with ESMTP id HAA03799;\\n\\tFri, 9 Aug 2002 07:06:53 +0100\\nFrom: scott@hetnet.nl\\nReceived: from hetnet.nl (dsl-200-67-211-23.prodigy.net.mx [200.67.211.23])\\n\\tby smtp.easydns.com (Postfix) with SMTP\\n\\tid 65FEB2F44A; Fri,  9 Aug 2002 02:05:47 -0400 (EDT)\\nReply-To: <scott@hetnet.nl>\\nMessage-ID: <006c66d63bed$3826c0e8$5be04cb4@sqkorj>\\nTo: micon@hotmail.com\\nSubject: HELP WANTED. WORK FROM HOME. FREE INFO\\nMiME-Version: 1.0\\nContent-Type: text/plain;\\n\\tcharset=\"iso-8859-1\"\\nX-Priority: 3 (Normal)\\nX-MSMail-Priority: Normal\\nX-Mailer: Internet Mail Service (5.5.2650.21)\\nImportance: Normal\\nDate: Fri,  9 Aug 2002 02:05:47 -0400 (EDT)\\nContent-Transfer-Encoding: 8bit\\n\\nWE NEED HELP.  We are a 14 year old fortune 500 company, and we have \\ngrown 1000%!  We cannot keep up.  We are looking for individuals who \\nwant to work at home, and make a good living.\\n\\nSo if you are looking to be employed from home with a career that has\\nvast opportunities, then go:\\n\\nhttp://www.basetel.com/homebiz\\n\\nand fill out our info form.  NO EXPERIENCE REQUIRED, WE WILL TRAIN YOU.\\nNO COMMITTMENT IS REQUIRED BY FILLING OUT THE FORM, IT IS FOR INFO\\nONLY.\\n\\nhttp://www.basetel.com/homebiz\\n\\nYou want to be independent?  THEN MAKE IT HAPPEN!\\nHAPPEN!\\n\\nSIMPLY CLICK ON THE LINK BELOW FOR FREE, NO OBLIGATED INFORMATION!\\nGUARANTEED!\\n\\nhttp://www.basetel.com/homebiz\\n\\n\\nTo be removed from our link simple go to:\\n\\nhttp://www.basetel.com/remove.html\\n\\n\\n8828sLjB6-098naGl15\\n\\n'\n",
            " 'From cre-repair@china.com  Mon Jun 24 17:05:28 2002\\nReturn-Path: cre-repair@china.com\\nDelivery-Date: Tue May 21 05:00:09 2002\\nReceived: from mandark.labs.netnoteinc.com ([213.105.180.140]) by\\n    dogma.slashnull.org (8.11.6/8.11.6) with ESMTP id g4L405e20257 for\\n    <jm@jmason.org>; Tue, 21 May 2002 05:00:06 +0100\\nReceived: from server (letstalkcounseling.com [209.61.187.216]) by\\n    mandark.labs.netnoteinc.com (8.11.2/8.11.2) with ESMTP id g4L403D23562;\\n    Tue, 21 May 2002 05:00:04 +0100\\nReceived: from m10.caramail.com ([62.194.204.103]) by server with\\n    Microsoft SMTPSVC(5.0.2195.1600); Mon, 20 May 2002 18:44:03 -0700\\nMessage-Id: <0000417d486c$00004cb0$00006863@pineapple.arctic.net>\\nTo: <Imagesoft42@luukku.com>\\nFrom: cre-repair@china.com\\nSubject: Fix your credit... Online.\\nDate: Mon, 20 May 2002 19:43:33 -1600\\nMIME-Version: 1.0\\nX-Originalarrivaltime: 21 May 2002 01:44:03.0437 (UTC) FILETIME=[FC9A61D0:01C20068]\\nX-Keywords: \\nContent-Type: text/html; charset=\"iso-8859-1\"\\nContent-Transfer-Encoding: quoted-printable\\n\\n<HTML><P ALIGN=3DCENTER><FONT  COLOR=3D\"#ff0000\" SIZE=3D3 PTSIZE=3D12 FAMIL=\\nY=3D\"SANSSERIF\" FACE=3D\"Arial\" LANG=3D\"0\"><B>Is Your Credit A Mess?</b></F=\\nONT><B><FONT  COLOR=3D\"#000000\" BACK=3D\"#ffffff\" style=3D\"BACKGROUND-COLOR=\\n: #ffffff\" SIZE=3D2 PTSIZE=3D10 FAMILY=3D\"SANSSERIF\" FACE=3D\"Arial\" LANG=3D=\\n\"0\"><BR>\\nDo you want Perfect Credit again?<BR>\\nWouldn\\'t it be nice to easily get loans for cars, boats, and houses?</font=\\n></B><FONT  COLOR=3D\"#000000\" BACK=3D\"#ffffff\" style=3D\"BACKGROUND-COLOR: =\\n#ffffff\" SIZE=3D2 PTSIZE=3D10 FAMILY=3D\"SANSSERIF\" FACE=3D\"Arial\" LANG=3D\"=\\n0\"><BR>\\n</FONT><P ALIGN=3DLEFT><FONT  COLOR=3D\"#000000\" BACK=3D\"#ffffff\" style=3D\"=\\nBACKGROUND-COLOR: #ffffff\" SIZE=3D2 PTSIZE=3D10 FAMILY=3D\"SANSSERIF\" FACE=3D=\\n\"Arial\" LANG=3D\"0\"><BR>\\n  <B>We have the Solution!!</B> <B>ONLINE CREDIT REPAIR!!!</B><BR>\\n<BR>\\n  Now you can clean up and repair your bad credit online from the convenie=\\nnce \\n  of your home computer. Our program is <B>100% effective</B> for helping =\\nyou \\n  fix your credit, and <B>you can watch your credit with real-time updates=\\n</B>.<B> \\n  </B>Its been called the #1 program for fixing bad credit!<BR>\\n<BR>\\n  </font><FONT  COLOR=3D\"#0000ff\" BACK=3D\"#ffffff\" style=3D\"BACKGROUND-COL=\\nOR: #ffffff\" SIZE=3D3 PTSIZE=3D12 FAMILY=3D\"SANSSERIF\" FACE=3D\"Arial\" LANG=\\n=3D\"0\"><B><A HREF=3D\"http://www.webcredit2002.com/?CID=3D1010&amp;MID=3D11=\\n002\">Click \\n  Here for FREE information Now!</A><BR>\\n<BR>\\n<BR>\\n  </b></FONT><B><FONT  COLOR=3D\"#000000\" BACK=3D\"#ffffff\" style=3D\"BACKGRO=\\nUND-COLOR: #ffffff\" SIZE=3D1 PTSIZE=3D8 FAMILY=3D\"SANSSERIF\" FACE=3D\"Verda=\\nna\" LANG=3D\"0\"></font></B><FONT  COLOR=3D\"#000000\" BACK=3D\"#ffffff\" style=3D=\\n\"BACKGROUND-COLOR: #ffffff\" SIZE=3D1 PTSIZE=3D8 FAMILY=3D\"SANSSERIF\" FACE=3D=\\n\"Verdana\" LANG=3D\"0\">Your \\n  email address was obtained from a purchased list, Reference # 1010-11002=\\n&nbsp; \\n  If you wish to unsubscribe from this list, please <A HREF=3D\"http://213.=\\n139.76.100/PHP/remove.php\">Click \\n  here</A> and enter your name into the remove box. </FONT><FONT  COLOR=3D=\\n\"#000000\" BACK=3D\"#ffffff\" style=3D\"BACKGROUND-COLOR: #ffffff\" SIZE=3D3 PT=\\nSIZE=3D12 FAMILY=3D\"SANSSERIF\" FACE=3D\"Verdana\" LANG=3D\"0\">\\t\\n  <BR>\\n\\t<BR>\\n<BR>\\n<BR>\\n<BR>\\n</font></P><FONT  COLOR=3D\"#000000\" BACK=3D\"#ffffff\" style=3D\"BACKGROUND-C=\\nOLOR: #ffffff\" SIZE=3D3 PTSIZE=3D12 FAMILY=3D\"SANSSERIF\" FACE=3D\"Verdana\" =\\nLANG=3D\"0\"><p></P></FONT></HTML>\\n\\n\\n\\n'\n",
            " 'From webmake-talk-admin@lists.sourceforge.net  Mon Jul 22 18:43:39 2002\\nReturn-Path: <webmake-talk-admin@example.sourceforge.net>\\nDelivered-To: yyyy@localhost.netnoteinc.com\\nReceived: from localhost (localhost [127.0.0.1])\\n\\tby phobos.labs.netnoteinc.com (Postfix) with ESMTP id 92774440C9\\n\\tfor <jm@localhost>; Mon, 22 Jul 2002 13:43:37 -0400 (EDT)\\nReceived: from dogma.slashnull.org [212.17.35.15]\\n\\tby localhost with IMAP (fetchmail-5.9.0)\\n\\tfor jm@localhost (single-drop); Mon, 22 Jul 2002 18:43:37 +0100 (IST)\\nReceived: from webnote.net (mail.webnote.net [193.120.211.219]) by\\n    dogma.slashnull.org (8.11.6/8.11.6) with ESMTP id g6MG18Y16432 for\\n    <jm@jmason.org>; Mon, 22 Jul 2002 17:01:08 +0100\\nReceived: from usw-sf-list2.sourceforge.net (usw-sf-fw2.sourceforge.net\\n    [216.136.171.252]) by webnote.net (8.9.3/8.9.3) with ESMTP id MAA27362 for\\n    <jm@jmason.org>; Sun, 21 Jul 2002 12:43:30 +0100\\nReceived: from usw-sf-list1-b.sourceforge.net ([10.3.1.13]\\n    helo=usw-sf-list1.sourceforge.net) by usw-sf-list2.sourceforge.net with\\n    esmtp (Exim 3.31-VA-mm2 #1 (Debian)) id 17WF79-0000KE-00; Sun,\\n    21 Jul 2002 04:43:03 -0700\\nReceived: from [218.0.72.36] (helo=localhost.com) by\\n    usw-sf-list1.sourceforge.net with smtp (Exim 3.31-VA-mm2 #1 (Debian)) id\\n    17WF6h-0003GW-00 for <webmake-talk@lists.sourceforge.net>; Sun,\\n    21 Jul 2002 04:42:35 -0700\\nFrom: targetemailextractor@btamail.net.cn\\nReply-To: targetemailextractor@btamail.net.cn\\nTo: webmake-talk@example.sourceforge.net\\nX-Mailer: QuickSender 1.05\\nMIME-Version: 1.0\\nMessage-Id: <E17WF6h-0003GW-00@usw-sf-list1.sourceforge.net>\\nSubject: [WM] ADV:  Direct email blaster, email address extractor, maillist manager, maillist verify ............\\nSender: webmake-talk-admin@example.sourceforge.net\\nErrors-To: webmake-talk-admin@example.sourceforge.net\\nX-Beenthere: webmake-talk@example.sourceforge.net\\nX-Mailman-Version: 2.0.9-sf.net\\nPrecedence: bulk\\nList-Help: <mailto:webmake-talk-request@example.sourceforge.net?subject=help>\\nList-Post: <mailto:webmake-talk@example.sourceforge.net>\\nList-Subscribe: <https://example.sourceforge.net/lists/listinfo/webmake-talk>,\\n    <mailto:webmake-talk-request@lists.sourceforge.net?subject=subscribe>\\nList-Id: Discussion of WebMake. <webmake-talk.example.sourceforge.net>\\nList-Unsubscribe: <https://example.sourceforge.net/lists/listinfo/webmake-talk>,\\n    <mailto:webmake-talk-request@lists.sourceforge.net?subject=unsubscribe>\\nList-Archive: <http://www.geocrawler.com/redir-sf.php3?list=webmake-talk>\\nX-Original-Date: Sun, 21 Jul 2002 19:42:28 +0800\\nDate: Sun, 21 Jul 2002 19:42:28 +0800\\nContent-Type: text/html; charset=\"us-ascii\"\\nContent-Transfer-Encoding: quoted-printable\\n\\n=3CBODY bgColor=3D#ffffff=3E\\n=3CDIV=3E=3CFONT face=3D&#23435=3B&#20307=3B size=3D2=3E\\n=3CDIV=3E=3CSTRONG=3E=3CFONT color=3D#ff0080 face=3DArial size=3D4=3EDirect Email \\nBlaster=3C=2FFONT=3E=3C=2FSTRONG=3E =3C=2FDIV=3E=3CFONT size=3D2=3E\\n=3CP=3E=3CFONT face=3DArial=3E=3CB=3E=3CFONT color=3D#006600=3E=3CI=3EThe program will send mail at the \\nrate of over 1=2C 000 e-mails per minute=2E&nbsp=3B=3C=2FI=3E=3C=2FFONT=3E=3CBR=3ELegal and Fast \\nsending bulk emails&nbsp=3B=3CBR=3E=3CFONT color=3D#006600=3E=3CI=3EBuilt in SMTP \\nserver&nbsp=3B=3C=2FI=3E=3C=2FFONT=3E=3CBR=3EHave Return Path&nbsp=3B=3CBR=3ECan Check Mail \\nAddress&nbsp=3B=3CBR=3E=3CFONT color=3D#006600=3E=3CI=3EMake Error Send Address List=28 Remove or \\nSend Again=29&nbsp=3B=3C=2FI=3E=3C=2FFONT=3E=3CBR=3ESupport multi-threads=2E&nbsp=3B=3CBR=3ESupport \\nmulti-smtp servers=2E&nbsp=3B=3CBR=3EManages your opt-in E-Mail Lists&nbsp=3B=3CBR=3EOffers an \\neasy-to-use interface!&nbsp=3B=3CBR=3EEasy to configure and use&nbsp=3B=3C=2FB=3E=3C=2FFONT=3E=3C=2FP=3E\\n=3CP=3E=3CFONT face=3DArial=3E=3CA \\nhref=3D=22http=3A=2F=2Fwww=2Ewldinfo=2Ecom=2Fbj=5Fdownload=2Fedeb=5Fset=2Ezip=22=3E=3CSTRONG=3EDownload \\nNow=3C=2FSTRONG=3E=3C=2FA=3E=3C=2FFONT=3E=3C=2FP=3E\\n=3CP=3E=3CSTRONG=3E=3CFONT color=3D#ff0080 face=3DArial size=3D4=3EMaillist \\nVerify=3C=2FFONT=3E=3C=2FSTRONG=3E=3C=2FP=3E\\n=3CP=3E=3CFONT face=3DArial=3EMaillist Verify is intended for e-mail addresses and mail \\nlists verifying=2E The main task is to determine which of addresses in the mail \\nlist are dead=2E The program is oriented=2C basically=2C on programmers which have \\ntheir own mail lists to inform their users about new versions of their \\nprograms=2E=3C=2FFONT=3E=3C=2FP=3E\\n=3CP=3E=3CFONT face=3DArial=3EThe program works on the same algorithm as ISP mail systems \\ndo=2E Mail servers addresses for specified address are extracted from DNS=2E The \\nprogram tries to connect with found SMTP-servers and simulates the sending of \\nmessage=2E It does not come to the message =3CNOBR=3Esending &#8255=3B=2FNOBR&gt=3B EMV disconnect \\nas soon as mail server informs does this address exist or not=2E EMV can \\nfind=3C=2FNOBR=3E=3C=2FFONT=3E=3C=2FP=3E\\n=3CP=3E=3CFONT face=3DArial=3E=3CNOBR=3E&nbsp=3Babout 90% of dead addresses &#8255=3B=2FNOBR&gt=3B some mail \\nsystems receive all messages and only then see their&nbsp=3B=3C=2FNOBR=3E=3C=2FFONT=3E=3C=2FP=3E\\n=3CP=3E=3CFONT face=3DArial=3E=3CNOBR=3Eaddresses and if the address is dead send the message \\nback with remark about it=2E=3C=2FNOBR=3E=3C=2FFONT=3E=3C=2FP=3E=3CNOBR=3E\\n=3CP=3E=3CA href=3D=22http=3A=2F=2Fwww=2Ewldinfo=2Ecom=2Fbj=5Fdownload=2Fbemv=5Fset=2Ezip=22=3E=3CSTRONG=3E=3CFONT \\nface=3DArial size=3D3=3EDownload Now=3C=2FFONT=3E=3C=2FSTRONG=3E=3C=2FA=3E=3C=2FP=3E\\n=3CP=3E=3CSTRONG=3E=3CFONT color=3D#ff0080 face=3DArial size=3D4=3EExpress Email \\nBlaster&nbsp=3B=3C=2FFONT=3E=3C=2FSTRONG=3E=3C=2FP=3E\\n=3CP=3E=3CFONT face=3DArial=3EExpress Email Blaster&nbsp=3B is a very fast=2C powerful yet \\nsimple to use email sender=2E Utilizing multiple threads=2Fconnections=3C=2FFONT=3E=3C=2FP=3E\\n=3CP=3E=3CFONT face=3DArial=3E&nbsp=3Band multiple SMTP servers your emails will be sent out \\nfast and easily=2E There are User Information=2C Attach Files=2C&nbsp=3B=3C=2FFONT=3E=3C=2FP=3E\\n=3CP=3E=3CFONT face=3DArial=3EAddress and Mail Logs four tabbed area for the E-mails \\ndetails for sending=2E About 25 SMTP servers come with the&nbsp=3B=3C=2FFONT=3E=3C=2FP=3E\\n=3CP=3E=3CFONT face=3DArial=3Edemo version=2C and users may Add and Delete SMTP servers=2E \\nAbout =3CFONT color=3D#008000=3E=3CB=3E60=2C000=3C=2FB=3E=3C=2FFONT=3E E-mails will be sent out per \\nhour=2E=22=3C=2FFONT=3E=3C=2FP=3E\\n=3CP=3E=3CSTRONG=3E=3CA href=3D=22http=3A=2F=2Fwww=2Ewldinfo=2Ecom=2Fbj=5Fdownload=2Fbeeb=5Fset=2Ezip=22=3E=3CFONT \\nface=3DArial size=3D3=3EDownload Now=3C=2FFONT=3E=3C=2FA=3E=3C=2FSTRONG=3E=3C=2FP=3E\\n=3CP=3E=3CSTRONG=3E=3CFONT color=3D#ff0080 face=3DArial size=3D4=3EExpress Email Address \\nExtractor=3C=2FFONT=3E=3C=2FSTRONG=3E=3C=2FP=3E=3CFONT size=3D4=3E\\n=3CP=3E=3CFONT color=3D#008000 size=3D3=3EThis program is the most efficient=2C easy to use \\nemail address collector available on the =3C=2FFONT=3E=3C=2FP=3E\\n=3CP=3E=3CFONT face=3DArial=3E=3CFONT color=3D#008000 size=3D3=3E&nbsp=3Binternet! =3C=2FFONT=3E=3CFONT \\ncolor=3D#000000 size=3D3=3EBeijing Express Email Address Extractor =28ExpressEAE=29 is \\ndesigned to extract=3C=2FFONT=3E=3C=2FFONT=3E=3C=2FP=3E\\n=3CP=3E=3CFONT color=3D#000000 size=3D3=3E&nbsp=3Be-mail addresses from web-pages on the \\nInternet =28using HTTP protocols=29 =2EExpressEAE=3C=2FFONT=3E=3C=2FP=3E\\n=3CP=3E=3CFONT color=3D#000000 size=3D3=3E&nbsp=3Bsupports operation through many proxy-server \\nand works very fast=2C as it is able of&nbsp=3B=3C=2FFONT=3E=3C=2FP=3E\\n=3CP=3E=3CFONT color=3D#000000 size=3D3=3Eloading several pages simultaneously=2C and requires \\nvery few resources=2E=3C=2FFONT=3E=3C=2FP=3E\\n=3CP=3E=3CFONT color=3D#000000 face=3DArial=3E=3CFONT size=3D3=3EWith it=2C you will be able \\nto=3C=2FFONT=3E=3CFONT size=3D2=3E =3C=2FFONT=3E=3CFONT size=3D3=3Euse targeted searches to crawl the \\nworld wide web=2C extracting&nbsp=3B=3C=2FFONT=3E=3C=2FFONT=3E \\n=3CP=3E=3CFONT color=3D#000000 face=3DArial size=3D3=3Ethousands of clean=2C fresh email \\naddresses=2E Ably Email address Extractor is unlike other&nbsp=3B=3C=2FFONT=3E \\n=3CP=3E=3CFONT color=3D#000000 face=3DArial size=3D3=3Eaddress collecting programs=2C which \\nlimit you to one or two search engines and are unable=3C=2FFONT=3E \\n=3CP=3E=3CFONT color=3D#000000 face=3DArial size=3D3=3E&nbsp=3Bto do auto searches HUGE address=2E \\nMost of them collect a high percentage of incomplete=2C&nbsp=3B=3C=2FFONT=3E \\n=3CP=3E=3CFONT color=3D#000000 face=3DArial size=3D3=3Eunusable addresses which will cause you \\nserious problems when using them in a mailing=2E&nbsp=3B=3C=2FFONT=3E \\n=3CUL=3E\\n  =3CLI=3E=3CFONT color=3D#008000 face=3DArial size=3D3=3EEasier to learn and use than any \\n  other email address collector program available=2E=3C=2FFONT=3E \\n  =3CLI=3E=3CFONT color=3D#008000 face=3DArial size=3D3=3EAccesses eight search \\n  engines&nbsp=3B=3C=2FFONT=3E \\n  =3CLI=3E=3CFONT color=3D#008000 face=3DArial size=3D3=3EAdd your own URLs to the list to be \\n  searched=3C=2FFONT=3E \\n  =3CLI=3E=3CFONT face=3DArial size=3D3=3E=3CFONT color=3D#008000=3ESupports operation through \\n  =3C=2FFONT=3E=3CFONT color=3D#ff00ff=3Ea lot of=3C=2FFONT=3E=3CFONT color=3D#008000=3E proxy-server \\n  and works very fast =28HTTP Proxy=29=3C=2FFONT=3E=3C=2FFONT=3E \\n  =3CLI=3E=3CFONT color=3D#008000 face=3DArial size=3D3=3EAble of loading several pages \\n  simultaneously=3C=2FFONT=3E \\n  =3CLI=3E=3CFONT color=3D#008000 face=3DArial size=3D3=3ERequires very few resources=3C=2FFONT=3E \\n  =3CLI=3E=3CFONT color=3D#008000 face=3DArial size=3D3=3ETimeout feature allows user to limit \\n  the amount of time crawling in dead sites and traps=2E=3C=2FFONT=3E \\n  =3CLI=3E=3CFONT face=3DArial size=3D3=3E=3CFONT color=3D#008000=3EEasy to make =3C=2FFONT=3E=3CFONT \\n  color=3D#ff00ff=3EHuge=3C=2FFONT=3E=3CFONT color=3D#008000=3E address list=3C=2FFONT=3E=3C=2FFONT=3E \\n  =3CLI=3E=3CFONT color=3D#008000 face=3DArial size=3D3=3EPause=2Fcontinue extraction at any \\n  time=2E=3C=2FFONT=3E \\n  =3CLI=3E=3CFONT color=3D#008000 face=3DArial size=3D3=3EAuto connection to the \\n  Internet=3C=2FFONT=3E =3C=2FLI=3E=3C=2FUL=3E\\n=3CDIV=3E=3CSTRONG=3E=3CA href=3D=22http=3A=2F=2Fwww=2Ewldinfo=2Ecom=2Fbj=5Fdownload=2Feeae=5Fset=2Ezip=22=3E=3CFONT \\ncolor=3D#008000 face=3DArial size=3D3=3EDownload Now=3C=2FFONT=3E=3C=2FA=3E=3C=2FSTRONG=3E =3C=2FDIV=3E\\n=3CDIV=3E=3CSTRONG=3E=3CFONT color=3D#ff0080 face=3DArial=3EExpress Email Address \\nDownloader=3C=2FFONT=3E=3C=2FSTRONG=3E =3C=2FDIV=3E\\n=3CUL=3E\\n  =3CLI=3E=3CFONT face=3DArial=3E=3CSTRONG=3E=3CFONT color=3D#006600 size=3D2=3EExpressEAD&nbsp=3B \\n  =3C=2FFONT=3E=3CFONT color=3D#000000 size=3D2=3Eis a 32 bit Windows Program for e-mail \\n  marketing=2E It is intended for easy and convenient=3C=2FFONT=3E=3C=2FSTRONG=3E=3C=2FFONT=3E \\n  =3CLI=3E=3CFONT face=3DArial=3E=3CSTRONG=3E=3CFONT color=3D#000000 size=3D2=3E&nbsp=3Bsearch large \\n  e-mail address lists from mail servers=2E The program can be operated \\n  on&nbsp=3B=3C=2FFONT=3E=3C=2FSTRONG=3E=3C=2FFONT=3E \\n  =3CLI=3E=3CFONT face=3DArial=3E=3CSTRONG=3E=3CFONT color=3D#000000 size=3D2=3EWindows 95=2F98=2FME=2F2000 \\n  and NT=2E=3C=2FFONT=3E=3C=2FSTRONG=3E=3C=2FFONT=3E \\n  =3CLI=3E=3CFONT face=3DArial=3E=3CSTRONG=3E=3CFONT color=3D#006600 size=3D2=3EExpressEAD&nbsp=3B \\n  =3C=2FFONT=3E=3CFONT color=3D#000000 size=3D2=3Esupport multi-threads =28up to 1024 \\n  connections=29=2E=3C=2FFONT=3E=3C=2FSTRONG=3E=3C=2FFONT=3E \\n  =3CLI=3E=3CFONT face=3DArial=3E=3CSTRONG=3E=3CFONT color=3D#006600 size=3D2=3EExpressEAD&nbsp=3B \\n  =3C=2FFONT=3E=3CFONT color=3D#000000 size=3D2=3Ehas the ability&nbsp=3B to reconnect to the \\n  mail server if the server has disconnected and&nbsp=3B=3C=2FFONT=3E=3C=2FSTRONG=3E=3C=2FFONT=3E \\n  =3CLI=3E=3CFONT face=3DArial=3E=3CSTRONG=3E=3CFONT color=3D#000000 size=3D2=3Econtinue the searching \\n  at the point where it has been interrupted=2E=3C=2FFONT=3E=3C=2FSTRONG=3E=3C=2FFONT=3E \\n  =3CLI=3E=3CFONT face=3DArial=3E=3CSTRONG=3E=3CFONT color=3D#006600 size=3D2=3EExpressEAD&nbsp=3B \\n  =3C=2FFONT=3E=3CFONT color=3D#000000 size=3D2=3Ehas an ergonomic interface that is easy to \\n  set up and simple to use=2E=3C=2FFONT=3E=3C=2FSTRONG=3E=3C=2FFONT=3E =3C=2FLI=3E=3C=2FUL=3E\\n=3CDIV=3E=3CFONT face=3DArial=3E&nbsp=3B=3C=2FFONT=3E =3C=2FDIV=3E\\n=3CP=3E=3CFONT face=3DArial=3E=3CSTRONG=3E=3CFONT color=3D#008000 face=3DArial \\nsize=3D4=3EFeatures=3A=3C=2FFONT=3E=3C=2FSTRONG=3E=3C=2FFONT=3E \\n=3CUL type=3Ddisc=3E\\n  =3CLI=3E=3CFONT face=3DArial=3E=3CSTRONG=3E=3CFONT face=3DArial size=3D2=3Esupport \\n  multi-threads=2E=3C=2FFONT=3E=3C=2FSTRONG=3E=3C=2FFONT=3E \\n  =3CLI=3E=3CFONT face=3DArial=3E=3CSTRONG=3E=3CFONT face=3DArial size=3D2=3Eauto get smtp server \\n  address=2Csupport multi-smtp servers=2E=3C=2FFONT=3E=3C=2FSTRONG=3E=3C=2FFONT=3E \\n  =3CLI=3E=3CFONT face=3DArial=3E=3CSTRONG=3E=3CFONT face=3DArial size=3D2=3Eauto save&nbsp=3B E-Mail \\n  Lists=3C=2FFONT=3E=3C=2FSTRONG=3E=3C=2FFONT=3E \\n  =3CLI=3E=3CFONT face=3DArial=3E=3CSTRONG=3E=3CFONT face=3DArial size=3D2=3Eoffers an easy-to-use \\n  interface!=3C=2FFONT=3E=3C=2FSTRONG=3E=3C=2FFONT=3E =3C=2FLI=3E=3C=2FUL=3E\\n=3CDIV=3E=3CSTRONG=3E=3CA href=3D=22http=3A=2F=2Fwww=2Ewldinfo=2Ecom=2Fbj=5Fdownload=2Feead=5Fset=2Ezip=22=3E=3CFONT \\ncolor=3D#008000 face=3DArial size=3D3=3EDownload Now=3C=2FFONT=3E=3C=2FA=3E=3C=2FSTRONG=3E =3C=2FDIV=3E\\n=3CDIV=3E=3CFONT face=3DArial=3E&nbsp=3B=3C=2FFONT=3E =3C=2FDIV=3E\\n=3CDIV=3E=3CSTRONG=3E=3CFONT color=3D#ff0080 face=3DArial=3EExpress Maillist \\nManager=3C=2FFONT=3E=3C=2FSTRONG=3E =3C=2FDIV=3E\\n=3CDIV=3E=3CFONT face=3DArial=3E&nbsp=3B=3C=2FFONT=3E =3C=2FDIV=3E\\n=3CDIV=3E=3CFONT size=3D2=3E\\n=3CP=3E=3CFONT face=3DArial=3E=3CFONT color=3Dblack size=3D3=3EThis program was designed to be a \\ncomplement to the =3C=2FFONT=3E=3CFONT color=3D#800080 size=3D3=3EDirect Email Blaster&nbsp=3B \\n=3C=2FFONT=3E=3CFONT color=3Dblack size=3D3=3Eand =3C=2FFONT=3E=3CFONT color=3D#800080 size=3D3=3EEmail \\nBlaster =3C=2FFONT=3E=3C=2FFONT=3E=3C=2FP=3E\\n=3CP=3E=3CFONT face=3DArial=3E=3CFONT color=3Dblack size=3D3=3Esuite of bulk email software \\nprograms=2E Its purpose is to organize your email lists in order to be \\nmore&nbsp=3B=3C=2FFONT=3E=3C=2FFONT=3E=3C=2FP=3E\\n=3CP=3E=3CFONT face=3DArial=3E=3CFONT color=3Dblack size=3D3=3Eeffective with your email marketing \\ncampaign=2E Some of its features include=3A=3C=2FFONT=3E=3C=2FFONT=3E=3C=2FP=3E\\n=3CP=3E=3CB=3E=3CFONT color=3D#008000 face=3DArial=3E=3CFONT size=3D3=3E&#8255=3BCombine several lists into \\none file=2E=3C=2FFONT=3E=3CBR=3E=3CFONT size=3D3=3E&#8255=3BSplit up larger lists to make them more \\nmanageable=2E=3C=2FFONT=3E=3CBR=3E=3CFONT size=3D3=3E&#8255=3BRemove addresses from file=2E=3C=2FFONT=3E=3CBR=3E=3CFONT \\nsize=3D3=3E&#8255=3BManual editing=2C adding=2C and deleting of addresses=2E=3C=2FFONT=3E=3CBR=3E=3CFONT \\nsize=3D3=3E&#8255=3BAbility to auto clean lists=2C that is=2C remove any duplicate or unwanted \\naddresses=2E=3C=2FFONT=3E=3CBR=3E=3CFONT size=3D3=3E&#8255=3BMaintain all your address lists within the \\nprogram so you no&nbsp=3B longer need to keep all your=3C=2FFONT=3E=3C=2FFONT=3E=3C=2FB=3E=3C=2FP=3E\\n=3CP=3E=3CB=3E=3CFONT color=3D#008000 face=3DArial size=3D3=3E&nbsp=3Blists saved as separate text \\nfiles=2E=3C=2FFONT=3E=3C=2FB=3E=3C=2FP=3E\\n=3CP=3E=3CSTRONG=3E=3CA href=3D=22http=3A=2F=2Fwww=2Ewldinfo=2Ecom=2Fbj=5Fdownload=2Fbemm=5Fset=2Ezip=22=3E=3CFONT \\ncolor=3D#008000 face=3DArial size=3D3=3EDownload Now=3C=2FFONT=3E=3C=2FA=3E=3C=2FSTRONG=3E=3C=2FP=3E\\n=3CP=3E=3CFONT face=3DArial=3E&nbsp=3B=3C=2FFONT=3E=3C=2FP=3E\\n=3CP=3E&nbsp=3B=3C=2FP=3E\\n=3CDIV=3E=3CFONT face=3DArial=3Eif you want to remove your email=2C please send email to =3CA \\nhref=3D=22mailto=3Atargetemailremoval=40btamail=2Enet=2Ecn=22=3Etargetemailremoval=40btamail=2Enet=2Ecn=3C=2FA=3E=3C=2FFONT=3E \\n=3C=2FDIV=3E\\n=3CDIV=3E=3CFONT face=3DArial=3E&nbsp=3B=3C=2FFONT=3E =3C=2FDIV=3E\\n=3CDIV=3E=3CFONT face=3DArial=3E&nbsp=3B=3C=2FFONT=3E =3C=2FDIV=3E\\n=3CDIV=3E&nbsp=3B=3C=2FDIV=3E=3C=2FFONT=3E=3C=2FDIV=3E=3C=2FFONT=3E=3C=2FNOBR=3E=3C=2FFONT=3E=3C=2FFONT=3E=3C=2FDIV=3E\\n\\n\\n\\n\\n-------------------------------------------------------\\nThis sf.net email is sponsored by:ThinkGeek\\nWelcome to geek heaven.\\nhttp://thinkgeek.com/sf\\n_______________________________________________\\nwebmake-talk mailing list\\nwebmake-talk@lists.sourceforge.net\\nhttps://lists.sourceforge.net/lists/listinfo/webmake-talk\\n\\n\\n'\n",
            " ...\n",
            " 'Return-Path: <Online#3.20207.9d-Vzezlg_fmMczoRRR.1.b@newsletter.online.com>\\nReceived: from abv-sfo-acmta2.cnet.com (abv-sfo1-acmta2.cnet.com [206.16.1.161])\\n\\tby dogma.slashnull.org (8.11.6/8.11.6) with ESMTP id g6GK20J10353\\n\\tfor <qqqqqqqqqq-zdnet@example.com>; Tue, 16 Jul 2002 21:02:01 +0100\\nReceived: from abv-sfo1-ac-agent4 (206.16.0.226) by abv-sfo-acmta2.cnet.com (PowerMTA(TM) v1.5); Tue, 16 Jul 2002 16:04:05 -0700 (envelope-from <Online#3.20207.9d-Vzezlg_fmMczoRRR.1.b@newsletter.online.com>)\\nMessage-ID: <978456.1026849714876.JavaMail.root@abv-sfo1-ac-agent4>\\nDate: Tue, 16 Jul 2002 13:01:54 -0700 (PDT)\\nFrom: \"CNET News.com Daily Dispatch\" <Online#3.20207.9d-Vzezlg_fmMczoRRR.1@newsletter.online.com>\\nTo: qqqqqqqqqq-zdnet@example.com\\nSubject: CNET NEWS.COM: Microsoft reveals media XP details\\nMime-Version: 1.0\\nContent-Type: text/html; charset=ISO-8859-1\\nContent-Transfer-Encoding: 7bit\\nX-Mailer: Accucast (http://www.accucast.com)\\nX-Mailer-Version: 2.8.4-2\\n\\n<html>\\n<head>\\n        <title>Microsoft reveals media XP details</title>\\n</head>\\n<body bgcolor=\"#e5e5e5\">\\n<center>\\n<a name=\"top\"></a>\\n<!-- Logo and ad banner -->\\n<table cellpadding=0 cellspacing=0 border=0 width=612 bgcolor=\"#ffffff\">\\n\\t<tr valign=top>\\n    <td width=442 colspan=4 bgcolor=\"#e5e5e5\">\\n        <img src=\"http://home.cnet.com/i/ne/ds/dhed.gif\" alt=\"\" width=\"442\" height=\"63\" border=\"0\"><br>\\n    </td>\\n    <td width=160 rowspan=2>\\n<!-- Towerboard -->\\n\\t<div align=\"center\"><img src=\"http://i.i.com.com/cnwk.1d/Ads/common/advertisement.gif\" width=\"120\" height=\"10\" border=\"0\"></br>\\n\\n<a href=\"http://clickthru.online.com/Click?q=b2-M4pwQX0aTcwkz57jM2cmpxUCPunR\" target=\"new\">   \\n\\n<img src=\"http://ad.doubleclick.net/ad/N1090.cnet/B926801.16;sz=160x600;ord=[timestamp]?\" width=\"160\" height=\"600\" border=\"0\">\\n\\n</a></div>\\n<!-- /Towerboard -->\\n\\t<p>\\n\\t<!-- search form -->\\n\\t<TABLE border=0 cellPadding=2 cellSpacing=0 width=150>\\n\\t<TR>\\n\\t<TD>\\n\\t<form method=\"GET\" action=\"http://www.search.com/redirect/\">\\n\\t                <img src=\"/b.gif\" width=1 height=4><font face=\"arial, helvetica\" size=\"-1\"><br>&nbsp;<b>Search</b></font><br>\\n\\t                &nbsp;<input type=\"text\" name=\"q\" size=\"15\" value=\"\"><br>\\n\\t                &nbsp;<select name=\"target\">\\n\\t                <option value=\"http://news.search.com/search?tag=ex.ne.newsletter.srch.ne\" selected>News.com\\n\\t                <option value=\"http://cnet.search.com/search?tag=ex.ne.newsletter.srch.cnet\">All CNET&nbsp;&nbsp;&nbsp;&nbsp;\\n\\t                <option value=\"http://www.search.com/search?tag=ex.ne.newsletter.srch.web\">The Web\\n                </select>&nbsp;<input type=\"submit\" value=\"Go!\" name=\"submit\"></td></form>\\n    </tr></table>\\n    <!-- /search form -->\\n    <p>\\n<!-- Vertical Brick -->\\n<IMG alt=\"Also from CNET\" height=20 src=\"http://home.cnet.com/Ads/Media/Images/RHC_ALSOfromCNETnet.gif\" width=150 NOSEND=\"1\"><BR>\\n<TABLE border=0 cellPadding=2 cellSpacing=0 width=150><TBODY><TR vAlign=top>\\n<TD><FONT face=\"arial, helvetica\" size=-1><B>\\n<a href=\"http://clickthru.online.com/Click?q=c7-KG43QLPWuluHBi7NWtUoF24wxeeR\" >Live tech help NOW!</a><p>\\n<a href=\"http://clickthru.online.com/Click?q=dc-40zzQ0Lrt5wGQTSBz6gEwTinhlyR\" >April\\'s tech award</a><p>\\n<a href=\"http://clickthru.online.com/Click?q=f2-OZVTQUwWqlq9OQ-0pvVdi5Z7ednR\" >1 million open jobs</a><p>\\n<a href=\"http://clickthru.online.com/Click?q=07-HqCzI5rqvhXhh1biqzUbrvLkiDeR\" >News.com: Top CIOs</a> <p>\\n<a href=\"http://clickthru.online.com/Click?q=1c-cs_iIFr4T1qGgeEn9kgGa2oXqGyR\" >ZDNet: PeopleSoft</a>\\n</B></FONT></TD>\\n</TR></TBODY></TABLE></P>\\n<!-- End Vertical Brick-->\\n\\t\\t<p>\\n\\t</td>\\n\\t<td width=9 rowspan=2>\\n\\t\\t<table width=9 cellpadding=0 cellspacing=0 border=0>\\n\\t\\t\\t<tr><td bgcolor=\"#e5e5e5\"><img src=\"http://home.cnet.com/b.gif\" width=\"9\" height=\"50\" border=\"0\"><br></td></tr>\\n\\t\\t\\t<tr><td bgcolor=\"#000000\"><img src=\"http://home.cnet.com/b.gif\" width=\"9\" height=\"1\" border=\"0\"><br></td></tr>\\n\\t\\t\\t<tr><td bgcolor=\"#ffcc00\"><img src=\"http://home.cnet.com/b.gif\" width=\"9\" height=\"10\" border=\"0\"><br></td></tr>\\n\\t\\t\\t<tr><td bgcolor=\"#000000\"><img src=\"http://home.cnet.com/b.gif\" width=\"9\" height=\"1\" border=\"0\"><br></td></tr>\\n\\t\\t</table>\\n\\t</td>\\n\\t<td width=1 bgcolor=\"#000000\" rowspan=2><img src=\"http://home.cnet.com/i/ne/ds/bkg.gif\" width=\"1\" height=\"50\" border=\"0\"></td>\\n\\t</tr>\\n<!-- Logo and ad banner -->\\n<!-- In the News / Special Reports -->\\n<tr valign=top>\\n\\t<td width=1 bgcolor=\"#000000\"><img src=\"http://home.cnet.com/b.gif\" width=\"1\" height=\"1\" border=\"0\"></td>\\n\\t<td width=10 bgcolor=\"#ffcc00\"><img src=\"http://home.cnet.com/b.gif\" width=\"10\" height=\"1\" border=\"0\"><br></td>\\n\\t<td width=1 bgcolor=\"#000000\"><img src=\"http://home.cnet.com/b.gif\" width=\"1\" height=\"1\" border=\"0\"></td>\\n\\t<td width=430 bgcolor=\"#ffffff\">\\n<!-- START COPY FOR THE GUTS -->\\n\\t<table cellpadding=0 cellspacing=0 border=0 width=430 bgcolor=\"#eeeeee\">\\n\\t<tr valign=top>\\n\\t<td width=10><img src=\"http://home.cnet.com/b.gif\" alt=\"\" width=\"10\" height=\"1\" border=\"0\"><br></td>\\n\\t<td width=252>\\n\\t<table cellpadding=0 cellspacing=0 border=0 width=252>\\n\\t<tr>\\n\\t<td><img src=\"http://home.cnet.com/i/ne/ds/itn.gif\" alt=\"In the News\" width=\"68\" height=\"16\" border=\"0\"><br></td>\\n<!-- Date -->\\n\\t<td align=right><font face=\"Arial, Helvetica\" size=\"-2\">July 16, 2002</font><br></td>\\n\\t</tr>\\n\\t</table>\\n\\t<img src=\"http://home.cnet.com/b.gif\" alt=\"\" width=\"1\" height=\"6\" border=\"0\"><br>\\n\\t<font face=\"Arial, Helvetica\" size=\"-1\">\\n\\t <a href=\"#h1\" style=\"text-decoration:none;\"><img src=\"http://home.cnet.com/i/ne/ds/arrow.gif\" alt=\"\" width=\"11\" height=\"9\" border=\"0\"><font color=\"#000000\">\\nMicrosoft reveals media XP details</font></a><br>\\n\\t <a href=\"#h2\" style=\"text-decoration:none;\"><img src=\"http://home.cnet.com/i/ne/ds/arrow.gif\" alt=\"\" width=\"11\" height=\"9\" border=\"0\"><font color=\"#000000\">\\nMac tech show set to open in New York</font></a><br>\\n\\t <a href=\"#h3\" style=\"text-decoration:none;\"><img src=\"http://home.cnet.com/i/ne/ds/arrow.gif\" alt=\"\" width=\"11\" height=\"9\" border=\"0\"><font color=\"#000000\">\\nHP trims Jornada unit in Singapore</font></a><br>\\n\\t <a href=\"#h4\" style=\"text-decoration:none;\"><img src=\"http://home.cnet.com/i/ne/ds/arrow.gif\" alt=\"\" width=\"11\" height=\"9\" border=\"0\"><font color=\"#000000\">\\nTech giants hot on wireless union</font></a><br>\\n\\t <a href=\"#h5\" style=\"text-decoration:none;\"><img src=\"http://home.cnet.com/i/ne/ds/arrow.gif\" alt=\"\" width=\"11\" height=\"9\" border=\"0\"><font color=\"#000000\">\\nUniversal appoints head of anti-piracy</font></a><br>\\n\\t <a href=\"#h6\" style=\"text-decoration:none;\"><img src=\"http://home.cnet.com/i/ne/ds/arrow.gif\" alt=\"\" width=\"11\" height=\"9\" border=\"0\"><font color=\"#000000\">\\nReport: FDIC not protecting data</font></a><br>\\n\\t\\t</td>\\n\\t\\t<td width=8><img src=\"http://home.cnet.com/b.gif\" alt=\"\" width=\"8\" height=\"1\" border=\"0\"><br></td>\\n\\t\\t<td width=1 bgcolor=\"#999999\"><img src=\"http://home.cnet.com/b.gif\" alt=\"\" width=\"1\" height=\"1\" border=\"0\"><br></td>\\n\\t\\t<td width=159>\\n<!-- Promo Area -->\\n\\t\\t<table cellpadding=0 cellspacing=0 border=0 width=159>\\n\\t\\t<tr valign=bottom>\\n\\t\\t\\t<td width=\"8\"><img src=\"http://home.cnet.com/b.gif\" alt=\"\" width=\"8\" height=\"1\" border=\"0\"><br></td>\\n\\t\\t\\t<td width=\"8\"><img src=\"http://home.cnet.com/i/ne/ds/bug.gif\" alt=\"\" width=\"8\" height=\"24\" border=\"0\"></td>\\n\\t\\t\\t<td width=\"151\"><font face=\"Arial, Helvetica\">&nbsp;<b>Special report</b></font></td>\\n\\t\\t</tr>\\n\\t\\t<tr>\\n\\t\\t\\t<td><img src=\"http://home.cnet.com/b.gif\" alt=\"\" width=\"1\" height=\"1\" border=\"0\"></td>\\n\\t\\t\\t<td colspan=2 bgcolor=\"#000000\"><img src=\"http://home.cnet.com/b.gif\" height=1 width=1><br></td>\\n\\t\\t</tr>\\n\\t\\t</table>\\n\\t\\t<table cellpadding=8 cellspacing=0 border=0>\\n\\t\\t<tr><td>\\n\\t\\t\\t\\t<font face=\"Arial, Helvetica\" size=\"-1\">\\n\\t\\t\\t\\t<b>A clause for alarm</b><br>\\nLearn to spot red flags in corporate software contracts ere you sign on the dotted line.<br>\\n\\t\\t\\t\\t<b><a href=\"http://clickthru.online.com/Click?q=31-V_YRIjMsV6Ad70PyLxjkqVAXXblR\" >Read Full Story</a></b><br>\\n\\t\\t</td></tr>\\n\\t\\t</table>\\n<!-- /Promo Area -->\\n                                <img src=\"http://home.cnet.com/b.gif\" height=6 width=1><br>\\n                        </td>\\n                        </tr>\\n                        </table>\\n        <!-- Thin grey line -->\\n        <table cellpadding=0 cellspacing=0 border=0 width=430>\\n        <tr valign=top>\\n                <td bgcolor=\"#999999\"><img src=\"http://home.cnet.com/b.gif\" width=\"1\" height=\"1\" border=\"0\"></td>\\n        </tr>\\n        </table>\\n<table cellpadding=10 cellspacing=0 border=0>\\n<tr><td><font face=\"Arial, Helvetica\">\\n<a name=\"h1\"></a>\\n<b>Microsoft reveals media XP details</b><br>\\n<font size=\"-1\">\\nMicrosoft on Tuesday gave an official name to an upcoming version of Windows XP that aims to make the PC a permanent part of the home entertainment center.\\nOriginally code-named Freestyle, this entertainment version of Windows--which will go by the name Windows XP Media Center Edition--will appear on new PCs and PC hybrids in time for the holidays, the company revealed on Tuesday. With Windows Media Center, consumers will be able to use a TV remote control to catalog songs, videos and pictures, as well as check TV listings.\\n</font><br>\\n<font size=\"-2\">\\nJuly 16, 2002, 4:00 AM PT\\n</font> | <font size=\"-1\">\\n<a href=\"http://clickthru.online.com/Click?q=46-19zwInpD4B2Y8RXa1cN0535V0Y9R\" >\\n<b>Read Full Story</b></a></font> <img src=\"http://home.cnet.com/i/ne/ds/right_arrow.gif\" alt=\"\" width=\"9\" height=\"9\" border=\"0\">\\n<P>\\n<a name=\"h2\"><b>Mac tech show set to open in New York</b></a><br>\\n<font size=\"-1\">\\nApple\\'s iMac is all display--17 inches worth--and the \"Jaguar\" update to the Mac OS should bare its teeth as the Mac faithful gather in New York. They\\'ll be looking to get a peek at what the computer maker has planned for the future.\\n</font><br>\\n<font size=\"-2\">\\nJuly 16, 2002, 4:00 a.m. PT\\n</font> | <font size=\"-1\">\\n<a href=\"http://clickthru.online.com/Click?q=5b-5LOwIBKDBUiTY8bxCjjvDSwizzcR\" >\\n<b>Read Full Story</b></a></font> <img src=\"http://home.cnet.com/i/ne/ds/right_arrow.gif\" alt=\"\" width=\"9\" height=\"9\" border=\"0\">\\n<p>\\n<a name=\"h3\"><b>HP trims Jornada unit in Singapore</b></a><br>\\n<font size=\"-1\">\\nHewlett-Packard has shuffled employees out of its Jornada Pocket PC development unit in Singapore, as the company continues to cut costs following its merger with Compaq Computer.\\nJornada products are developed in Singapore and will be phased out by year\\'s end, with the exception of Jornada 720, which resembles a mini-notebook. The model will eventually be rebranded as an HP iPaq device.\\n</font><br>\\n<font size=\"-2\">\\nJuly 16, 2002, 11:05 AM PT</font> | <font size=\"-1\">\\n<a href=\"http://clickthru.online.com/Click?q=70-3vnJIdp6DGeoOomKns2asfI8UkRR\" >\\n<b>Read Full Story</b></a></font> <img src=\"http://home.cnet.com/i/ne/ds/right_arrow.gif\" alt=\"\" width=\"9\" height=\"9\" border=\"0\">\\n<p>\\n\\n<br>\\n<a name=\"h4\"><b>Tech giants hot on wireless union</b></a><br>\\n<font size=\"-1\">\\nSeveral tech and telecommunications giants are considering a joint venture to pepper the United States with wireless hot spots, according to reports.\\nIntel, IBM, AT&T Wireless, Verizon Communications and Cingular Wireless are discussing the creation of a company that would build a network of wireless hot spots across the country, The New York Times reported Tuesday. Hotspots are publicly available wireless networks that use the 802.11b standard to deliver Internet access.\\n</font><br>\\n<font size=\"-2\">\\nJuly 16, 2002, 7:50 AM PT\\n</font> | <font size=\"-1\">\\n<a href=\"http://clickthru.online.com/Click?q=86-8fH1QCJoJiLDBskSjaeTldfVpf4R\" >\\n<b>Read Full Story</b></a></font> <img src=\"http://home.cnet.com/i/ne/ds/right_arrow.gif\" alt=\"\" width=\"9\" height=\"9\" border=\"0\">\\n<p>\\n<a name=\"h5\"><b>Universal appoints head of anti-piracy</b></a><br>\\n<font size=\"-1\">\\nUniversal Music Group has created a new full-time position to help it combat piracy.\\nLawyer and former music-television producer David Benjamin will fill the role as UMG\\'s new senior vice president of anti-piracy.\\n</font><br>\\n<font size=\"-2\">\\nJuly 16, 2002, 11:45 AM PT\\n</font> | <font size=\"-1\">\\n<a href=\"http://clickthru.online.com/Click?q=9b-7-TFQSIo_-wLIms0dAVJ9PZAKTrR\" >\\n<b>Read Full Story</b></a></font> <img src=\"http://home.cnet.com/i/ne/ds/right_arrow.gif\" alt=\"\" width=\"9\" height=\"9\" border=\"0\">\\n<p>\\n<a name=\"h6\"><b>Report: FDIC not protecting data</b></a><br>\\n<font size=\"-1\">\\nWeaknesses in the Federal Deposit Insurance Corp.\\'s IT strategy have left financial information open to attack, a new report says.\\nThe report from the General Accounting Office identified \"new weaknesses\" in the FDIC\\'s information systems controls that affect its ability to safeguard electronic access to sensitive data.\\n</font><br>\\n<font size=\"-2\">\\nJuly 16, 2002, 8:55 AM PT\\n</font> | <font size=\"-1\">\\n<a href=\"http://clickthru.online.com/Click?q=b0-NZmfQQJrckcQeQadxQMKtNX8PQiR\" >\\n<b>Read Full Story</b></a></font> <img src=\"http://home.cnet.com/i/ne/ds/right_arrow.gif\" alt=\"\" width=\"9\" height=\"9\" border=\"0\">\\n<p>\\n<table width=\"100%\" cellpadding=0 cellspacing=0 border=0><tr><td width=\"100%\" valign=bottom>\\n<font face=\"arial, helvetica\" size=\"-1\"><font color=\"#666666\"><b>From our partners:</b></font></td></tr><tr><td colspan=2><img src=\"http://a.r.tv.com/cnet.1d/b.gif\" width=1 height=1 alt=\"\"></td></tr>\\n<tr><td colspan=2 bgcolor=\"#666666\"><img src=\"http://a.r.tv.com/cnet.1d/b.gif\" width=1 height=1 alt=\"\"></td></tr></table>\\n<b>Bezos believes</b></a><br>\\n<font size=\"-2\">\\nBusiness Week\\n</font><br>\\n<font size=\"-1\">\\n\"We\\'re still at the very beginning,\" says Amazon.com\\'s founder. \"There\\'s so much more to come.\"\\n</font><br>\\n<font size=\"-2\">\\nJuly 15, 2002\\n</font> | <font size=\"-1\">\\n<a href=\"http://clickthru.online.com/Click?q=c5-8BcDQzOaAp9JASQzSROUJEymxqPR\" >\\n<b>Read Full Story</b></a></font> <img src=\"http://home.cnet.com/i/ne/ds/right_arrow.gif\" alt=\"\" width=\"9\" height=\"9\" border=\"0\">\\n<p>\\n<b>Stronger, smarter building in less time</b></a><br>\\n<font size=\"-2\">\\nBusiness Week\\n</font><br>\\n<font size=\"-1\">\\nPioneers in computer-aided design, architects are now using advanced technology to model their designs in ever-greater detail.</font><br>\\n<font size=\"-2\">\\nJuly 16, 2002\\n</font> | <font size=\"-1\">\\n<a href=\"http://clickthru.online.com/Click?q=da-dT8jQUPq2iKG9REbjsMVKpv3DxnR\" >\\n<b>Read Full Story</b></a></font> <img src=\"http://home.cnet.com/i/ne/ds/right_arrow.gif\" alt=\"\" width=\"9\" height=\"9\" border=\"0\">\\n<p>\\n<table width=\"100%\" cellpadding=0 cellspacing=0 border=0><tr><td width=\"100%\" valign=bottom>\\n<font face=\"arial, helvetica\" size=\"-1\"><font color=\"#666666\"><b>Also from CNET:</b></font></td></tr><tr><td colspan=2><img src=\"http://a.r.tv.com/cnet.1d/b.gif\" width=1 height=1 alt=\"\"></td></tr>\\n<tr><td colspan=2 bgcolor=\"#666666\"><img src=\"http://a.r.tv.com/cnet.1d/b.gif\" width=1 height=1 alt=\"\"></td></tr></table>\\n<font face=\"arial, helvetica\" size=\"-1\">Real-time stock quotes from CNET News.com Investor.<br>30-day <a href=\"http://clickthru.online.com/Click?q=ef-04uYQmkH9uWT13bqBxDVAmoBameR\" >free trial</a>!</font>\\n        </td>\\n</tr>\\n</table>\\n        </td>\\n</tr>\\n</table>\\n<!-- Video Report -->\\n<table cellpadding=0 cellspacing=0 border=0 width=612>\\n<tr valign=top>\\n        <td width=1 bgcolor=\"#000000\"><img src=\"http://home.cnet.com/b.gif\" width=\"1\" height=\"1\" border=\"0\"></td>\\n        <td width=10 bgcolor=\"#ffcc00\"><img src=\"http://home.cnet.com/b.gif\" width=\"10\" height=\"1\" border=\"0\"></td>\\n        <td width=1 bgcolor=\"#000000\"><img src=\"http://home.cnet.com/b.gif\" width=\"1\" height=\"1\" border=\"0\"></td>\\n        <td width=12 bgcolor=\"#ffffff\"><img src=\"http://home.cnet.com/b.gif\" width=\"12\" height=\"1\" border=\"0\"></td>\\n        <td width=575 bgcolor=\"#ffffff\">\\n<!-- Leads Module -->\\n<img src=\"http://www.cnet.com/i/gl/new-cc.gif\" alt=\"Crucial Clicks\" width=\"120\" height=\"19\" border=\"0\"><br>\\n<table width=\"100%\"  cellpadding=\"0\" cellspacing=\"0\" border=\"0\" bgcolor=\"#ffffff\">\\n<tr bgcolor=\"#cccccc\"><td colspan=\"7\"><img src=\"http://home.cnet.com/b.gif\" width=\"1\" height=\"1\" border=\"0\"></td></tr>\\n<tr>\\n<td bgcolor=\"#cccccc\" rowspan=\"3\"><img src=\"http://home.cnet.com/b.gif\" height=1 width=1></td>\\n<td rowspan=\"3\"><img src=\"http://home.cnet.com/b.gif\" height=1 width=5></td>\\n<td colspan=\"3\"><img src=\"http://home.cnet.com/b.gif\" height=5 width=1></td>\\n<td rowspan=\"3\"><img src=\"http://home.cnet.com/b.gif\" height=1 width=5></td>\\n<td bgcolor=\"#cccccc\" rowspan=\"3\"><img src=\"http://home.cnet.com/b.gif\" height=1 width=1></td>\\n</tr>\\n<tr valign=\"top\">\\n<td width=\"100%\">\\n<table width=\"100%\"  cellpadding=\"0\" cellspacing=\"0\" border=\"0\">\\n<tr valign=\"top\">\\n<td width=\"85\"><a href=\"http://clickthru.online.com/Click?q=04-k9W0IFQXAWVPUR798BbBL7kOi_yR\" ><img src=\"http://a.r.tv.com/cnet.1d/i/pg/021502_pointcamera.jpg\" width=\"85\" height=\"110\" border=\"0\" alt=\"\" /></a></td>\\n<td width=\"5\"><img src=\"http://home.cnet.com/b.gif\" height=1 width=5></td>\\n<td width=\"100%\"><font face=\"arial, helvetica\" size=\"-1\">\\n<a href=\"http://clickthru.online.com/Click?q=19-BLe0I2rXwP80M1iKMZ2Fz8IR7XlR\" ><b>Digicams for summer shutterbugs</b></a><br />Going on vacation, or just headed to the beach? Indulge your summer snapshot habit with one of our picks.</font></td>\\n</tr>\\n<tr><td colspan=\"3\"><img src=\"http://home.cnet.com/b.gif\" height=3 width=1><br /><font face=\"arial, helvetica\" size=\"-1\">\\n&#149; <a href=\"http://clickthru.online.com/Click?q=2f-hYaFIqnzFV2Fj_BP26D_8gaZjMeR\" >5-megapixel shoot-out</a><br />\\n&#149; <a href=\"http://clickthru.online.com/Click?q=44-9nxfIZUtiCbfhz-EMLKlXBDgnVsR\" >Leica Digilux 1: street shooter\"s digicam</a><br />\\n</font></td></tr>\\n</table>\\n</td>\\n<td><img src=\"http://home.cnet.com/b.gif\" height=1 width=5></td>\\n<td width=\"180\">\\n<table cellpadding=\"0\" cellspacing=\"0\" width=\"180\" border=\"0\" bgcolor=\"#ffffef\">\\n<tr><td colspan=\"5\" bgcolor=\"#666666\"><img src=\"http://home.cnet.com/b.gif\" width=\"1\" height=\"1\" alt=\"\" border=\"0\" /></td></tr>\\n<tr>\\n<td bgcolor=\"#666666\"><img src=\"http://home.cnet.com/b.gif\" width=\"1\" height=\"1\" alt=\"\" border=\"0\" /></td>\\n<td><img src=\"http://home.cnet.com/b.gif\" width=\"10\" height=\"1\" alt=\"\" border=\"0\" /></td>\\n<td><font face=\"ms sans serif, geneva\" size=\"-2\"><img src=\"http://home.cnet.com/b.gif\" width=\"1\" height=\"5\" alt=\"\" border=\"0\" /><br />\\n<font face=\"arial, helvetica\" color=\"#666666\" size=\"-1\"><b>Most popular products</b></font><br /><img src=\"http://home.cnet.com/b.gif\" width=\"1\" height=\"5\" alt=\"\" border=\"0\" /><br />\\n<b>Digital cameras</b><br /><img src=\"http://home.cnet.com/b.gif\" width=\"1\" height=\"7\" alt=\"\" border=\"0\" /><br />\\n1. <a href=\"http://clickthru.online.com/Click?q=59-y53oIEntHCekwBSlpW-B_KMqztFR\" >Canon PowerShot G2</a><br /><img src=\"http://home.cnet.com/b.gif\" width=\"1\" height=\"3\" alt=\"\" border=\"0\" /><br />\\n2. <a href=\"http://clickthru.online.com/Click?q=6e-2aYjIyES_KsKfDRQA5K-fxuEL59R\" >Canon PowerShot S40</a><br /><img src=\"http://home.cnet.com/b.gif\" width=\"1\" height=\"3\" alt=\"\" border=\"0\" /><br />\\n3. <a href=\"http://clickthru.online.com/Click?q=83-U-BXQYJ71uYb87UtuoAABMMPZ9rR\" >Canon PowerShot S30</a><br /><img src=\"http://home.cnet.com/b.gif\" width=\"1\" height=\"3\" alt=\"\" border=\"0\" /><br />\\n4. <a href=\"http://clickthru.online.com/Click?q=98-FTaOQ_za61WIqRcCW5CH7esbKRiR\" >Canon PowerShot A40</a><br /><img src=\"http://home.cnet.com/b.gif\" width=\"1\" height=\"3\" alt=\"\" border=\"0\" /><br />\\n5. <a href=\"http://clickthru.online.com/Click?q=ad-_4IAQzEBSOi0NBZQhaIHsSzky0PR\" >Nikon Coolpix 995</a><br /><img src=\"http://home.cnet.com/b.gif\" width=\"1\" height=\"6\" alt=\"\" border=\"0\" /><br />\\n<img src=\"http://a.r.tv.com/cnet.1d/i/fd/yl_arrow.gif\" width=\"13\" height=\"13\" border=\"0\" alt=\"\" align=\"absmiddle\" /> <b><a href=\"http://clickthru.online.com/Click?q=c2-oXxLQUEkRhXPo4sgVnxXFZcIuInR\" >See all most popular cameras</a></b><br />\\n<img src=\"http://home.cnet.com/b.gif\" width=\"1\" height=\"10\" alt=\"\" border=\"0\" /><br />\\n</font></td>\\n<td><img src=\"http://home.cnet.com/b.gif\" width=\"10\" height=\"1\" alt=\"\" border=\"0\" /></td>\\n<td bgcolor=\"#666666\"><img src=\"http://home.cnet.com/b.gif\" width=\"1\" height=\"1\" alt=\"\" border=\"0\" /></td>\\n</tr>\\n<tr><td colspan=\"5\" bgcolor=\"#666666\"><img src=\"http://home.cnet.com/b.gif\" width=\"1\" height=\"1\" alt=\"\" border=\"0\" /></td></tr>\\n</table>\\n</td>\\n</tr>\\n<tr valign=\"top\"><td colspan=\"3\"><img src=\"http://home.cnet.com/b.gif\" height=5 width=1></td></tr>\\n<tr><td colspan=\"7\" bgcolor=\"#cccccc\"><img src=\"http://home.cnet.com/b.gif\" height=1 width=1></td></tr>\\n</table><br />\\n<!-- /Leads Module -->\\n<p>\\n        <font face=\"Arial, Helvetica\" size=\"-1\">&nbsp;<Br>\\n        <table cellpadding=0 cellspacing=0 border=0 width=560>\\n                <tr>\\n                        <td rowspan=3 width=175><img src=\"http://home.cnet.com/i/ne/ds/sub-vidreport.gif\" alt=\"\" width=\"175\" height=\"25\" border=\"0\"></td>\\n                        <td width=385><img src=\"http://home.cnet.com/b.gif\" width=\"1\" height=\"21\" border=\"0\"><br></td>\\n                </tr>\\n                <tr>\\n                        <td bgcolor=\"#cccccc\"><img src=\"http://home.cnet.com/b.gif\" width=\"1\" height=\"1\" border=\"0\"><br></td>\\n                </tr>\\n                <tr>\\n                        <td><img src=\"http://home.cnet.com/b.gif\" width=\"1\" height=\"3\" border=\"0\"><br></td>\\n                </tr>\\n        </table>\\n        <table cellpadding=0 cellspacing=0 border=0 width=560>\\n                <tr valign=top>\\n                        <td><img src=\"http://news.cnet.com/i/ne/bb/2002/07/0715_apple.jpg\" alt=\"\" width=\"96\" height=\"72\" border=\"0\"></td>\\n                        <td><img src=\"http://home.cnet.com/b.gif\" width=\"10\" height=\"1\" border=\"0\"><br></td>\\n                        <td><font face=\"Arial, Helvetica\" size=\"-1\">\\n                        <b><font size=\"+0\"><a href=\"http://clickthru.online.com/Click?q=d8-XW73QWLWMg5gz74mkSWreAgRDciR\" >\\'Jaguar\\' may show its claws at MacWorld</a></font></b><br>\\nCorrespondent Melissa Francis and CNET News.com reporter Ian Fried talk about Jaguar, the anticipated update to Mac OS X and new, larger iMac flat-panel screens, both expected to be unveiled at this week\\'s MacWorld.<br>\\n                        <a href=\"http://clickthru.online.com/Click?q=ed-jLlvQgVqRJVDZalxv3orMjEsaQPR\" ><img src=\"http://news.cnet.com/i/gl/vid-w.gif\" width=24 height=18 border=0 hspace=3 align=top></a> <a href=\"http://clickthru.online.com/Click?q=02-qia9Ilj8cJHgl11_XGuwrfzJ6nnR\" ><b>Watch Video</b></a><br>\\n</tr>\\n</table>\\n&nbsp;<br>\\n</td>\\n<td width=12 bgcolor=\"#ffffff\"><img src=\"http://home.cnet.com/b.gif\" width=\"12\" height=\"1\" border=\"0\"><br></td>\\n        <td width=1 bgcolor=\"#000000\"><img src=\"http://home.cnet.com/b.gif\" width=\"1\" height=\"1\" border=\"0\"></td>\\n</tr>\\n</table>\\n<!-- /Video Report -->\\n<!-- News by Section -->\\n<table cellpadding=0 cellspacing=0 border=0 width=612>\\n<tr valign=top>\\n        <td width=1 bgcolor=\"#000000\"><img src=\"http://home.cnet.com/b.gif\" width=\"1\" height=\"1\" border=\"0\"></td>\\n        <td width=10 bgcolor=\"#ffcc00\"><img src=\"http://home.cnet.com/b.gif\" width=\"10\" height=\"1\" border=\"0\"></td>\\n        <td width=1 bgcolor=\"#000000\"><img src=\"http://home.cnet.com/b.gif\" width=\"1\" height=\"1\" border=\"0\"></td>\\n        <td width=587 bgcolor=\"#ffffff\">\\n        <font face=\"Arial, Helvetica\" size=\"-1\">&nbsp;<Br>\\n        <table cellpadding=0 cellspacing=0 border=0 width=572>\\n                <tr>\\n                        <td rowspan=3 width=12><img src=\"http://home.cnet.com/b.gif\" width=\"12\" height=\"1\" border=\"0\"><br></td>\\n                        <td rowspan=3 width=175><img src=\"http://home.cnet.com/i/ne/ds/sub-bysection.gif\" alt=\"\" width=\"175\" height=\"25\" border=\"0\"></td>\\n                        <td width=385><img src=\"http://home.cnet.com/b.gif\" width=\"1\" height=\"21\" border=\"0\"><br></td>\\n                </tr>\\n                <tr>\\n                        <td bgcolor=\"#cccccc\"><img src=\"http://home.cnet.com/b.gif\" width=\"1\" height=\"1\" border=\"0\"><br></td>\\n                </tr>\\n                <tr>\\n                        <td><img src=\"http://home.cnet.com/b.gif\" width=\"1\" height=\"3\" border=\"0\"><br></td>\\n                </tr>\\n        </table>\\n        <table width=\"572\" cellpadding=\"0\" cellspacing=\"0\" border=\"0\">\\n        <tr valign=\"top\">\\n                <td width=\"286\"><font face=\"arial, helvetica\" size =\"-1\">\\n                        <ul>\\n                        <b>Enterprise</b><br>\\n                        <li><a href=\"http://clickthru.online.com/Click?q=17-agitI5XroK904GFIz4s1RhjGRseR\" >\\nNorway snubs exclusive Microsoft deals</a>\\n                        <li><a href=\"http://clickthru.online.com/Click?q=2c-DatOIc0DRUHv2G2c-r7MBvWpjuyR\" >\\nMcAfee.com sour on sweetened bid</a>\\n                        <li><a href=\"http://clickthru.online.com/Click?q=42-rF7cIPKS0-8eQH8pz3F7_4EMIrdR\" >\\nAT&T, Sun come up with services deal</a>\\n                        </ul>\\n                </font>\\n                </td>\\n                <td width=\"286\"><font face=\"arial, helvetica\" size =\"-1\">\\n                        <ul>\\n                        <b>E-Business</b><br>\\n                        <li><a href=\"http://clickthru.online.com/Click?q=57-YJIXII04A-MD6w7F0F_wt9Q9dZuR\" >\\nSchwab profit falls with investor confidence</a>\\n                        <li><a href=\"http://clickthru.online.com/Click?q=6c-SUL3IuPjQQ-l8wjKQCL5-NPyEdsR\" >\\nTech stocks seek good earnings news</a>\\n                        <li><a href=\"http://clickthru.online.com/Click?q=81-z1IaQ-KB8dmvu2ppqfRO9R6BpKlR\" >\\nMore hurdles await e-government</a>\\n                        </ul>\\n                </font>\\n                </td>\\n        </tr>\\n        <tr valign=\"top\">\\n                <td width=\"286\"><font face=\"arial, helvetica\" size =\"-1\">\\n                        <ul>\\n                        <b>Communications</b><br>\\n                        <li><a href=\"http://clickthru.online.com/Click?q=96-pjdWQtduIRbIk1RjZWSoS2P4Jm4R\" >\\nIndustry preps for new cell standard</a>\\n                        <li><a href=\"http://clickthru.online.com/Click?q=ab-ZcQKQYpdiyXneMuXydit0M-0OvrR\" >\\nNextel turns profit on customer demand</a>\\n                        <li><a href=\"http://clickthru.online.com/Click?q=c0-kfs-QWP2dMnNXS641H99K8FZuSiR\" >\\nTDS, U.S. Cellular end quarter with losses</a>\\n                        </ul>\\n                </font>\\n                </td>\\n                <td width=\"286\"><font face=\"arial, helvetica\" size =\"-1\">\\n                        <ul>\\n                        <b>Media</b><br>\\n                        <li><a href=\"http://clickthru.online.com/Click?q=d5-p-viQzL1GR37boNHCu4jNix1DPPR\" >\\nRadio stations appeal Web royalties</a>\\n                        <li><a href=\"http://clickthru.online.com/Click?q=ea-fjLyQhV4XV2vQ31AwQ4lAUw-5WnR\" >\\nLicensing decision ends MPEG-4 tiff</a>\\n                        <li><a href=\"http://clickthru.online.com/Click?q=ff-sVoVQms4myiy6tRZxrhBm0WHtheR\" >\\nCongress to weigh in on digital TV</a>\\n                        </ul>\\n                </font>\\n                </td>\\n       </tr>\\n        <tr valign=\"top\">\\n                <td width=\"286\"><font face=\"arial, helvetica\" size =\"-1\">\\n                        <ul>\\n                       <b>Personal Technology</b><br>\\n                        <li><a href=\"http://clickthru.online.com/Click?q=14-5MRAIF-zGNmcyuy8ZvQIzTKtR1yR\" >\\nMoxi moves into cable boxes</a>\\n                        <li><a href=\"http://clickthru.online.com/Click?q=2a-CNuWIrIPMzz5gfbabman8WccrYnR\" >\\nDell squeezes Pentiums into notebooks</a>\\n                        <li><a href=\"http://clickthru.online.com/Click?q=3f-4sAEIqMWSIVypy7Hcoh57BymNzeR\" >\\nSanta goes digital</a>\\n                        </ul>\\n                </font>\\n                </td>\\n                <td width=\"286\"><font face=\"arial, helvetica\" size =\"-1\">\\n                        </font>\\n                </td>\\n        </tr>\\n        </table>\\n<!-- END COPY FOR THE GUTS -->\\n        &nbsp;<br>\\n        </td>\\n        <td width=12 bgcolor=\"#ffffff\"><img src=\"http://home.cnet.com/b.gif\" width=\"12\" height=\"1\" border=\"0\"><br></td>\\n        <td width=1 bgcolor=\"#000000\"><img src=\"http://home.cnet.com/b.gif\" width=\"1\" height=\"1\" border=\"0\"></td>\\n</tr>\\n</table>\\n<!-- ### footer ### -->\\n<table width=\"612\" bgcolor=\"#000000\" cellpadding=\"0\" cellspacing=\"0\" border=\"0\">\\n<tr><td width=\"1\"><img src=\"http://www.cnet.com/b.gif\" width=\"1\" height=\"1\"></td>\\n<td width=\"10\" bgcolor=\"#ffcc00\"><img src=\"http://www.cnet.com/b.gif\" width=\"10\" height=\"1\"></td>\\n<td width=\"1\"><img src=\"http://www.cnet.com/b.gif\" width=\"1\" height=\"1\"></td>\\n<td width=\"599\" bgcolor=\"#cccccc\"><img src=\"http://www.cnet.com/b.gif\" width=\"1\" height=\"1\"></td>\\n<td width=\"1\"><img src=\"http://www.cnet.com/b.gif\" width=\"1\" height=\"1\"></td></tr>\\n</table>\\n<table width=\"612\" bgcolor=\"#eeeeee\" cellpadding=\"0\" cellspacing=\"0\" border=\"0\">\\n<tr><td width=\"1\" bgcolor=\"#000000\"><img src=\"http://www.cnet.com/b.gif\" width=\"1\" height=\"1\"></td>\\n<td width=\"10\" bgcolor=\"#ffcc00\"><img src=\"http://www.cnet.com/b.gif\" width=\"10\" height=\"1\"></td>\\n<td width=\"1\" bgcolor=\"#000000\"><img src=\"http://www.cnet.com/b.gif\" width=\"1\" height=\"1\"></td>\\n<td width=\"12\"><img src=\"http://www.cnet.com/b.gif\" width=\"12\" height=\"1\"></td>\\n<td width=\"575\"><img src=\"http://www.cnet.com/b.gif\" width=\"1\" height=\"10\"><br>\\n<a href=\"http://clickthru.online.com/Click?q=54-l6ovIZKA72QU4-40O9U4lR0vdksR\" ><img src=\"http://a.r.tv.com/cnet.1d/i/nl/ft.gif\" width=\"375\" height=\"18\" border=\"0\" alt=\"Sign up for more free newsletters from CNET!\"></a><p>\\n<!-- subscription management -->\\n\\n<font face=\"ms sans serif, geneva\" size=\"-2\">\\nThe e-mail address for your subscription is&nbsp;qqqqqqqqqq-zdnet@example.com<br>\\n<A NOTRACK HREF=\\'http://clickthru.online.com/Click?q=69-CYziz2WZSOPOlfdBm-5SgAlnP-RPl9RR\\'>Unsubscribe</A>&nbsp;|&nbsp;<a href=\\'http://nl.com.com/servlet/url_login?email=qqqqqqqqqq-zdnet@example.com&brand=cnet\\'>Manage My Subscriptions</a>&nbsp;|&nbsp;<a href=\"http://clickthru.online.com/Click?q=7e-XDXeInptF7HqFQwi6pURwMpopr9R\" >FAQ</A>&nbsp;|&nbsp;<a href=\"http://clickthru.online.com/Click?q=93-V4PmQSdQ3Vjt0HjcTYjvQ8Rgn5rR\" >Advertise</A><p>Please send any questions, comments, or concerns to&nbsp;<a href=\"mailto:dispatchfeedback@news.com\">dispatchfeedback@news.com</A>.<br></font>\\n<!-- /subscription management-->\\n</font><img src=\"http://www.zdnet.com/b.gif\" width=\"1\" height=\"8\"></td>\\n<td width=\"12\"><img src=\"http://www.cnet.com/b.gif\" width=\"12\" height=\"1\"></td>\\n<td width=\"1\" bgcolor=\"#000000\"><img src=\"http://www.cnet.com/b.gif\" width=\"1\" height=\"1\"></td></tr>\\n</table>\\n<table width=\"612\" bgcolor=\"#000000\" cellpadding=\"0\" cellspacing=\"0\" border=\"0\">\\n<tr><td width=\"1\"><img src=\"http://www.cnet.com/b.gif\" width=\"1\" height=\"1\"></td>\\n<td width=\"10\" bgcolor=\"#ffcc00\"><img src=\"http://www.cnet.com/b.gif\" width=\"10\" height=\"1\"></td>\\n<td width=\"601\"><img src=\"http://www.cnet.com/b.gif\" width=\"1\" height=\"1\"></td></tr>\\n</table>\\n<table width=\"612\" bgcolor=\"#ffcc00\" cellpadding=\"0\" cellspacing=\"0\" border=\"0\">\\n<tr><td width=\"1\" bgcolor=\"#000000\"><img src=\"http://www.cnet.com/b.gif\" width=\"1\" height=\"1\"></td>\\n<td width=\"10\"><img src=\"http://www.cnet.com/b.gif\" width=\"10\" height=\"1\"></td>\\n<td width=\"37\"><a href=\"http://clickthru.online.com/Click?q=a8-02XZQQZkruy8LBCDtZs6swzdONiR\" ><img src=\"http://www.cnet.com/i/dp/smrb.gif\" width=\"37\" height=\"37\" border=\"0\"></a></td>\\n<td width=\"563\" nowrap><font face=\"arial, helvetica\" size=\"-1\">\\n<a href=\"http://clickthru.online.com/Click?q=be-B7ixQCpTpl-sN_pbnY9y52GfwH4R\" ><font color=\"#000000\">Price comparisons</font></a> |\\n<a href=\"http://clickthru.online.com/Click?q=d3-GZHkQJPaYBmqH02K74p01K7fy3rR\" ><font color=\"#000000\">Product reviews</font></a> |\\n<a href=\"http://clickthru.online.com/Click?q=e8-DOJMQfk8UQBZe6FrAP_kMFIM55iR\" ><font color=\"#000000\">Tech news</font></a> |\\n<a href=\"http://clickthru.online.com/Click?q=fd-BXDMQgOr1reIyr_O_Iti64Q9t8PR\" ><font color=\"#000000\">Downloads</font></a> |\\n<a href=\"http://clickthru.online.com/Click?q=12-jaAKIl-XYrd8cbl-pEvKY-qkCKnR\" ><font color=\"#000000\">All CNET services</font></a>\\n</font></td>\\n<td width=\"1\" bgcolor=\"#000000\"><img src=\"http://www.cnet.com/b.gif\" width=\"1\" height=\"1\"></td></tr>\\n</table>\\n<table width=\"612\" cellpadding=\"0\" cellspacing=\"0\" border=\"0\">\\n<tr><td bgcolor=\"#000000\"><img src=\"http://www.cnet.com/b.gif\" width=\"1\" height=\"1\"></td></tr>\\n<tr><td height=\"25\"><font face=\"ms sans serif, geneva\" size=\"-2\"><table width=100% border=0 cellspacing=2 cellpadding=1> <tr valign=bottom> <td width=75% height=31> <p></font> <br><b><font face=Arial, Helvetica, sans-serif size=2>    Copyright 2002 CNET Networks, Inc. All rights reserved.    </font></b> </p></td><td height=31 valign=top> <div align=right> <img src=\"http://gserv-cnet.zdnet.com/clear/outbound.gif?APPID=2&EMID=25136482&NL=e433&ISSUE=2002-07-16\" height=1 width=1>    </div></td></tr><tr>  <td colspan=2><font face=Arial, Helvetica, sans-serif size=2>    </font></td></tr></table></td></tr>\\n</table>\\n<!-- ### /footer ### -->\\n</body>\\n</html>\\n<IMG HEIGHT=1 WIDTH=1 SRC=\"http://clickthru.online.com/Click?q=27-z9PmnOI34RnMMcu2DC9pyE4-j9RR\">\\n\\n'\n",
            " 'From guterman@mediaunspun.imakenews.net  Wed Aug 14 14:38:59 2002\\nReturn-Path: <guterman@mediaunspun.imakenews.net>\\nDelivered-To: zzz@localhost.netnoteinc.com\\nReceived: from localhost (localhost [127.0.0.1])\\n\\tby phobos.labs.netnoteinc.com (Postfix) with ESMTP id 87FA743C34\\n\\tfor <zzz@localhost>; Wed, 14 Aug 2002 09:38:52 -0400 (EDT)\\nReceived: from phobos [127.0.0.1]\\n\\tby localhost with IMAP (fetchmail-5.9.0)\\n\\tfor zzz@localhost (single-drop); Wed, 14 Aug 2002 14:38:52 +0100 (IST)\\nReceived: from eng.imakenews.com (mailservice4.imakenews.com\\n    [65.214.33.17]) by dogma.slashnull.org (8.11.6/8.11.6) with ESMTP id\\n    g7EDZx416820 for <zzz-unspun@example.com>; Wed, 14 Aug 2002 14:35:59 +0100\\nReceived: by eng.imakenews.com (PowerMTA(TM) v1.5); Wed, 14 Aug 2002\\n    09:35:04 -0400 (envelope-from <guterman@mediaunspun.imakenews.net>)\\nContent-Transfer-Encoding: binary\\nContent-Type: multipart/alternative;\\n    boundary=\"----------=_1029331990-31627-4\";\\n    charset=\"iso-8859-1\"\\nDate: Wed, 14 Aug 2002 09:33:10 -0400\\nErrors-To: <guterman@mediaunspun.imakenews.net>\\nFrom: \"Media Unspun\" <guterman@mediaunspun.imakenews.net>\\nMIME-Version: 1.0\\nMessage-Id: <31627$1029331990$mediaunspun$5114587@imakenews.net>\\nPrecedence: normal\\nReply-To: \"Media Unspun\" <guterman@vineyard.com>\\nSender: \"Media Unspun\" <guterman@mediaunspun.imakenews.net>\\nSubject: SEC Exposes Big Blue\\'s Pink Slips\\nTo: zzz-unspun@example.com\\nX-Imn: mediaunspun,178767,5114587,0\\nX-Pyzor: Reported 0 times.\\nX-Spam-Status: No, hits=-87.5 required=7.0\\n\\ttests=BIG_FONT,CLICK_BELOW,CLICK_HERE_LINK,EXCUSE_3,FREE_TRIAL,\\n\\t      GAPPY_TEXT,HTML_WITH_BGCOLOR,LINES_OF_YELLING,\\n\\t      LINES_OF_YELLING_2,MAILTO_LINK,MAILTO_TO_REMOVE,\\n\\t      MAILTO_TO_SPAM_ADDR,REMOVE_PAGE,SPAM_PHRASE_03_05,\\n\\t      SUPERLONG_LINE,USER_IN_WHITELIST\\n\\tversion=2.40\\nX-Spam-Level: \\n\\nThis is a multi-part message in MIME format...\\n\\n------------=_1029331990-31627-4\\nContent-Type: text/plain; charset=\"iso-8859-1\"\\nContent-Disposition: inline\\nContent-Transfer-Encoding: 7bit\\n\\nTo view this newsletter in full-color, visit:\\nhttp://newsletter.mediaunspun.com/index000018970.cfm\\n\\nM E D I A  U N S P U N\\nWhat the Press is Reporting and Why (www.mediaunspun.com)\\n-----------------------------------------------------------------\\nAugust 14, 2002\\n\\n-----------------------------------------------------------------\\nIN THIS ISSUE\\n-----------------------------------------------------------------\\n* SEC EXPOSES BIG BLUE\\'S PINK SLIPS\\n* SYNERGY AND BETRAYAL AT VIVENDI\\n* OTHER STORIES\\n\\nMedia Unspun serves business news and analysis, authoritatively\\nand irreverently, every business day. An annual subscription\\ncosts $50, less than a dollar a week. If your four-week free\\ntrial is coming to an end soon, please visit\\nhttp://www.mediaunspun.com/subscribe.html and sign up via credit card \\nor check.\\n\\n\\n-----------------------------------------------------------------\\nADVERTISEMENT\\n-----------------------------------------------------------------\\nKen Fisher offers his Quarterly Report for high net worth\\ninvestors FREE of cost & without obligation. Access the same\\ninvestment research he uses to guide his clients at:\\nhttp://pcg.fisherinvestments.com/newrespond/letter.asp?site=UNSP&KC=1229EFCAD0000\\n\\n\\n-----------------------------------------------------------------\\nSEC EXPOSES BIG BLUE\\'S PINK SLIPS\\n-----------------------------------------------------------------\\nDoes the Securities and Exchange Commission have a press pass\\nyet? It seems to be bringing us all our news lately. On the day\\nof the deadline for companies to certify their financial\\nstatements with the SEC, the business press squirmed and waited\\nfor the next Enron or WorldCom. (We might eat these words\\ntomorrow, but we doubt it.) In an unrelated confession, IBM gave \\nthe commission its latest layoff numbers.\\n\\nIBM talked about pink slips during its second-quarter earnings\\nreport, but with a vagueness worthy of your daily horoscope.\\n(\"Capricorn: Career changes may be on their way...\") Only after\\n\"months of surreptitious layoff notices\" did the company admit\\nthat it\\'s cutting more than 15,600 jobs, said the AP. That\\'s\\nabout 5% of its workforce, and a lot more than pundits expected. \\nAn IBM spokesperson told the Wall Street Journal the higher\\nnumber was due to \"rebalancing\" and more employees than expected \\ntaking voluntary layoffs. \\n\\nSorry, we\\'re still back on \"rebalancing.\" Did IBM \"rightsize\"\\nlast quarter, too?\\n\\nIBM\\'s news was still trickling out Wednesday morning, but some\\ndetails were available. About 1,400 workers got cut from IBM\\'s\\nmicroelectronics unit, and most of the rest were from IT\\nservices and consulting. (That ought to make IBM\\'s new employees \\nfrom PricewaterhouseCoopers feel all warm and fuzzy inside.)\\nLook for news updates from cities that will see the cuts, such\\nas Austin and Raleigh. \\n\\nOK, none of this is good. Two years into the tech slump, we\\'re\\nstill tired of seeing people get sacked. But was it really so\\nbad that IBM only revealed it because of new accounting\\nregulations? Nah, Big Blue was always known for \"stealth\\nlayoffs,\" as CNN put it, but current corporate scrutiny forced\\nit to \\'fess up for once. Until now, IBM would acknowledge the\\nlatest layoffs if reporters called and asked, but wouldn\\'t give\\nspecifics. Yeesh. - Jen Muehlbauer\\n\\nIBM Cut 5% of Staff in Period, Double the Expected Number\\nhttp://online.wsj.com/article/0,,SB1029282408667791835,00.html\\n(Paid subscription required.) \\n\\nIBM to Cut Over 15,000 Employees (AP)\\nhttp://tinyurl.com/10kz\\n\\nIBM confirms 15,600 job cuts (Reuters)\\nhttp://www.msnbc.com/news/793777.asp \\n\\nIBM cutting 15,000 jobs \\nhttp://news.com.com/2100-1001-949677.html\\n\\nIBM job cuts exceed 15,600\\nhttp://money.cnn.com/2002/08/13/technology/ibm/index.htm\\n\\nIBM puts job cuts at 15,600, with fewer than 50 in this state\\nhttp://seattlepi.nwsource.com/business/82508_ibm14.shtml\\n\\n-----------------------------------------------------------------\\nADVERTISEMENT\\n-----------------------------------------------------------------\\nYou\\'ve heard about identity management, but do you know about\\nthe opportunities and business models that will emerge as a\\nresult? Download a free executive summary of Esther Dyson\\'s coverage of\\nidentity management in Release 1.0. Learn more about the\\nexpanding market for these services and applications.\\nhttp://release1.edventure.com/executivesummary.cfm?MCode=Unspun\\n\\n-----------------------------------------------------------------\\nSYNERGY AND BETRAYAL AT VIVENDI\\n-----------------------------------------------------------------\\nSynergy always was a fuzzy concept. Now Vivendi Universal\\'s top\\nman has slammed the lid on it. The French company announced\\ntoday that it\\'s ready to peddle $9.8 billion in assets to rustle \\nup some cash. First up on the block? Synergy-less U.S. book\\npublisher Houghton Mifflin. \\n\\nIt\\'s unclear whether new chairman Jean-Rene Fourtou has genuine\\nturnaround muscle, or whether he and Vivendi\\'s board are simply\\nfollowing the winds of post-merger fashion. But when you owe\\n$18.7 billion, you get real practical, real fast. The Guardian\\nreported that Vivendi\\'s share price sank 5% on Tuesday when\\ninvestors got the willies about the company\\'s impending\\nannouncement on its financial health. But the company had\\npositive news to report: It\\'s making money. Revenue in the first \\nhalf was up 13%, higher than analysts\\' estimates of a 7.7%\\nboost. \\n\\nDetails are scant on the breadth of Fourtou\\'s restructuring\\nefforts, with more information expected at the next board\\nmeeting on September 25, according to reporters. Houghton\\nMifflin, acquired a year ago for $1.7 billion, and a vague\\nexplanation that included the \"Curious George\" character, were\\nthe only properties named for sale so far. The Guardian\\nspeculated that Vivendi will also sell its U.S. video games\\nbusiness and possibly its stake in the French mobile phone\\ncompany SFR, a debatable sale because of the cash it generates,\\naccording to the newspaper. \\n\\nMeanwhile, Fourtou\\'s predecessor, Jean-Marie Messier, continues\\nto advocate empire-building. The New York Post said its sources\\nsay Messier hopes his former employer will feel generous enough\\nto let him continue to reside in his $17 million Manhattan\\nabode. And Bloomberg reported earlier this week that an\\nunrepentant Messier is penning a memoir as he vacations in the\\nMediterranean. The working title? \"How I Was Betrayed.\"  -\\nDeborah Asbrand \\n\\nVivendi to Sell Publisher Houghton Mifflin (Reuters)\\nhttp://www.washingtonpost.com/wp-dyn/articles/A15954-2002Aug14.html\\n\\nVivendi investors expect the worst\\nhttp://www.guardian.co.uk/business/story/0,3604,774190,00.html\\n\\nVivendi to Sell $9.8 Billion In Assets, Including Houghton\\nhttp://online.wsj.com/article/0,,SB102931297119161715,00.html\\n(Paid subscription required.) \\n\\nOusted Messier Aims To Score $17m Vivendi Pad\\nhttp://www.nypost.com/business/54701.htm\\n\\nEx-Chief of Vivendi Plans Tell-All Book (Bloomberg)\\nhttp://www.nytimes.com/2002/08/12/business/media/12VIVE.html\\n\\n-----------------------------------------------------------------\\nOTHER STORIES\\n-----------------------------------------------------------------\\nA Top AOL Manager Has Left Company\\nhttp://www.nytimes.com/2002/08/14/technology/14AOL.html\\n\\nFed Holds Steady on Interest Rates \\nhttp://www.washingtonpost.com/wp-dyn/articles/A14636-2002Aug13.html\\n\\nAmtrak halts all high-speed service after finding cracks\\nhttp://www.sunspot.net/bal-te.train14aug14.story\\n\\nAOL lets resigning exec keep stock options \\nhttp://www.usatoday.com/money/industries/technology/2002-08-13-aol-pittman_x.htm\\n\\nLucent licensing deal with Winstar focus of probe (AP)\\nhttp://www.bayarea.com/mld/mercurynews/business/3861117.htm\\n\\nStudy Says Net Could Benefit Music Firms\\nhttp://www.latimes.com/business/la-fi-music14aug14.story\\n\\nEisner Crimping His Own Style\\nhttp://www.latimes.com/business/la-fi-disney14aug14.story\\n\\nSeverance claims by Enron former execs anger ex-workers\\nhttp://www.chron.com/cs/CDA/story.hts/business/1533657\\n\\nPrinceton removes dean after Yale Web site flap (AP)\\nhttp://www.siliconvalley.com/mld/siliconvalley/3857890.htm\\n\\nFrisbee golf creator dies, may land on someone\\'s roof (SF\\nChronicle)\\nhttp://seattlepi.nwsource.com/national/82560_frisbee14.shtml\\n\\nWill Kinsley\\'s Slate Get Wiped?\\nhttp://www.ojr.org/ojr/kramer/1029281360.php\\n\\nHollywood, Russian Bicker Over Bass\\nhttp://www.cnn.com/2002/SHOWBIZ/News/08/13/bassspace.hollywood.ap/\\n\\n-----------------------------------------------------------------\\nDo you want to reach the Net\\'s savviest audience?\\nAdvertise in Media Unspun.\\nContact Erik Vanderkolk for details at erikvanderkolk@yahoo.com \\ntoday.\\n\\n-----------------------------------------------------------------\\nSTAFF\\n-----------------------------------------------------------------\\nWritten by Deborah Asbrand (dasbrand@world.std.com), Keith\\nDawson (dawson@world.std.com), Jen Muehlbauer\\n(jen@englishmajor.com), and Lori Patel (loripatel@hotmail.com).\\n\\nCopyedited by Jim Duffy (jimduffy86@yahoo.com). \\n\\nMarketing: Cowpoke Productions (cowpokeproductions.com).\\nAdvertising: Erik Vanderkolk (erikvanderkolk@yahoo.com). \\n\\nEditor and publisher: Jimmy Guterman (guterman@vineyard.com).\\n\\nMedia Unspun is produced by The Vineyard Group Inc. \\nCopyright 2002 Media Unspun, Inc., and The Vineyard Group, Inc.\\nSubscribe already, willya? http://www.mediaunspun.com \\n\\nRedistribution by email is permitted as long as a link to\\nhttp://newsletter.mediaunspun.com is included.\\n\\n-|________________\\nPOWERED BY: http://www.imakenews.com\\nTo be removed from this list, use this link:\\nhttp://www.imakenews.com/eletra/remove.cfm?x=mediaunspun%2Czzz-unspun@example.com\\nTo receive future messages in HTML format, use this link:\\nhttp://www.imakenews.com/eletra/change.cfm?x=mediaunspun%2Czzz-unspun@example.com%2Chtm\\nTo change your subscriber information, use this link:\\nhttp://www.imakenews.com/eletra/update.cfm?x=mediaunspun%2Czzz-unspun@example.com\\n\\n\\n------------=_1029331990-31627-4\\nContent-Type: text/html; charset=\"iso-8859-1\"\\nContent-Disposition: inline\\nContent-Transfer-Encoding: 7bit\\n\\n\\n\\n\\n\\n\\n\\n\\n\\n\\n \\n\\n\\n\\n\\n\\n\\n\\n\\n\\n\\n\\n\\n\\n\\n\\n \\n \\n<HTML>\\n<HEAD>\\n<title>M E D I A  U N S P U N</title>\\n\\n \\n \\n<!--  \\n**********************************************************\\nIf you can read this message but the rest of the email \\ncontains strange characters, your email program is not\\ncapable of displaying HTML email. Use your browser to read the\\ncomplete newsletter online at: \\n   http://newsletter.mediaunspun.com/\\nTo receive future messages in plain text format, use this link:\\nhttp://www.imakenews.com/eletra/change.cfm?x=mediaunspun%2Czzz-unspun@example.com%2Ctxt\\n\\n**********************************************************\\nCREATED: August 14, 2002   \\n-->\\n<meta name=\"description\" content=\"\">\\n<meta name=\"keywords\" content=\"\">\\n<meta name=\"GENERATOR\" content=\"iMakeNews\">\\n<meta name=\"robots\" content=\"ALL\">\\n\\n \\n\\t\\n\\n\\n<style type=\"text/css\">\\n<!--\\n \\n .link {color:#000000; text-decoration:   none; }\\t.link:hover {color:#FF3300; text-decoration:underline;}\\t\\n\\n\\t.g-article_title, .g-article_url, .g-article_full_story,\\n\\t.g-article_printer_link, .g-contents_article_title,\\n\\t.g-topics_topic_title, .g-issue_issue_title, .g-issue_issue_info,\\n\\t.g-survey_results_link, .g-menu_link, .g-letter_summary_title,\\n\\t.g-letter_summary_author, .g-letter_summary_date,\\n\\t.g-letter_summary_location, .g-letter_post, .g-letter_view_title,\\n\\t.g-letter_view_author, .g-letter_view_post, .g-footer_publisher,\\n\\t.g-footer_tellafriend, .g-footer_archive, .g-footer_pdf\\n\\t{color:#000000;text-decoration:none}\\n\\t.g-article_title:hover, .g-article_url:hover,\\n\\t.g-article_full_story:hover, .g-article_printer_link:hover,\\n\\t.g-contents_article_title:hover, .g-topics_topic_title:hover,\\n\\t.g-issue_issue_title:hover, .g-issue_issue_info:hover,\\n\\t.g-survey_results_link:hover, .g-menu_link:hover,\\n\\t.g-letter_summary_title:hover, .g-letter_summary_author:hover,\\n\\t.g-letter_summary_date:hover, .g-letter_summary_location:hover, \\n\\t.g-letter_post:hover, .g-letter_view_title:hover,\\n\\t.g-letter_view_author:hover, .g-letter_view_post:hover,\\n\\t.g-footer_publisher:hover, .g-footer_tellafriend:hover,\\n\\t.g-footer_archive:hover, .g-footer_pdf:hover\\n\\t{color:#FF0000;text-decoration:underline}\\n\\t\\n\\n-->\\n</style>\\n\\n<!-- Footer Styles -->\\n<style type=\\'text/css\\'>\\n<!--\\n.a226814927149384-section_heading{color:#FFFFFF;background-color:#000000;font-family:arial;font-size:x-small;font-weight:bold;font-style:normal;text-decoration:none;text-align:left}\\n.a226814927149384-footer_publisher{color:#000000;background-color:transparent;font-family:verdana;font-size:xx-small;font-weight:normal;font-style:normal;text-decoration:none}\\n.a226814927149384-footer_publisher:hover{color:#FF0000;background-color:transparent;font-family:verdana;font-size:xx-small;font-weight:normal;font-style:normal;text-decoration:underline}\\n.a226814927149384-footer_copyright{color:#000000;background-color:transparent;font-family:verdana;font-size:xx-small;font-weight:normal;font-style:normal;text-decoration:none}\\n.a226814927149384-footer_disclaimer{color:#000000;background-color:transparent;font-family:verdana;font-size:xx-small;font-weight:normal;font-style:normal;text-decoration:none}\\n.a226814927149384-footer_tellafriend{color:#000000;background-color:transparent;font-family:verdana;font-size:xx-small;font-weight:bold;font-style:normal;text-decoration:underline}\\n.a226814927149384-footer_tellafriend:hover{color:#FF0000;background-color:transparent;font-family:verdana;font-size:xx-small;font-weight:bold;font-style:normal;text-decoration:underline}\\n.a226814927149384-footer_archive{color:#000000;background-color:transparent;font-family:verdana;font-size:xx-small;font-weight:bold;font-style:normal;text-decoration:none}\\n.a226814927149384-footer_archive:hover{color:#FF0000;background-color:transparent;font-family:verdana;font-size:xx-small;font-weight:bold;font-style:normal;text-decoration:underline}\\n.a226814927149384-footer_pdf{color:#000000;background-color:transparent;font-family:verdana;font-size:xx-small;font-weight:bold;font-style:normal;text-decoration:none}\\n.a226814927149384-footer_pdf:hover{color:#FF0000;background-color:transparent;font-family:verdana;font-size:xx-small;font-weight:bold;font-style:normal;text-decoration:underline}\\n\\n-->\\n</style>\\n\\n\\n<!-- Article View Styles -->\\n<style type=\\'text/css\\'>\\n<!--\\n.a226814927144888-section_heading{color:#FFFFFF;background-color:#000000;font-family:arial;font-size:x-small;font-weight:bold;font-style:normal;text-decoration:none;text-align:left}\\n.a226814927144888-contents_article_title{color:#000000;background-color:transparent;font-family:verdana;font-size:xx-small;font-weight:normal;font-style:normal;text-decoration:underline}\\n.a226814927144888-contents_article_title:hover{color:#FF0000;background-color:transparent;font-family:verdana;font-size:xx-small;font-weight:normal;font-style:normal;text-decoration:underline}\\n\\n-->\\n</style>\\n\\n\\n<!-- Article View Styles -->\\n<style type=\\'text/css\\'>\\n<!--\\n.a226814927144469-section_heading{color:#FFFFFF;background-color:#000000;font-family:arial;font-size:x-small;font-weight:bold;font-style:normal;text-decoration:none;text-align:left}\\n.a226814927144469-contents_article_title{color:#000000;background-color:transparent;font-family:verdana;font-size:xx-small;font-weight:normal;font-style:normal;text-decoration:underline}\\n.a226814927144469-contents_article_title:hover{color:#FF0000;background-color:transparent;font-family:verdana;font-size:xx-small;font-weight:normal;font-style:normal;text-decoration:underline}\\n\\n-->\\n</style>\\n\\n\\n<!-- Footer Styles -->\\n<style type=\\'text/css\\'>\\n<!--\\n.a226814927151492-section_heading{color:#FFFFFF;background-color:#000000;font-family:arial;font-size:x-small;font-weight:bold;font-style:normal;text-decoration:none;text-align:left}\\n.a226814927151492-footer_publisher{color:#000000;background-color:transparent;font-family:verdana;font-size:xx-small;font-weight:normal;font-style:normal;text-decoration:none}\\n.a226814927151492-footer_publisher:hover{color:#FF0000;background-color:transparent;font-family:verdana;font-size:xx-small;font-weight:normal;font-style:normal;text-decoration:underline}\\n.a226814927151492-footer_copyright{color:#000000;background-color:transparent;font-family:verdana;font-size:xx-small;font-weight:normal;font-style:normal;text-decoration:none}\\n.a226814927151492-footer_disclaimer{color:#000000;background-color:transparent;font-family:verdana;font-size:xx-small;font-weight:normal;font-style:normal;text-decoration:none}\\n.a226814927151492-footer_tellafriend{color:#000000;background-color:transparent;font-family:verdana;font-size:xx-small;font-weight:bold;font-style:normal;text-decoration:underline}\\n.a226814927151492-footer_tellafriend:hover{color:#FF0000;background-color:transparent;font-family:verdana;font-size:xx-small;font-weight:bold;font-style:normal;text-decoration:underline}\\n.a226814927151492-footer_archive{color:#000000;background-color:transparent;font-family:verdana;font-size:xx-small;font-weight:bold;font-style:normal;text-decoration:none}\\n.a226814927151492-footer_archive:hover{color:#FF0000;background-color:transparent;font-family:verdana;font-size:xx-small;font-weight:bold;font-style:normal;text-decoration:underline}\\n.a226814927151492-footer_pdf{color:#000000;background-color:transparent;font-family:verdana;font-size:xx-small;font-weight:bold;font-style:normal;text-decoration:none}\\n.a226814927151492-footer_pdf:hover{color:#FF0000;background-color:transparent;font-family:verdana;font-size:xx-small;font-weight:bold;font-style:normal;text-decoration:underline}\\n\\n-->\\n</style>\\n\\n</head> \\n<body bgcolor=\"#EEEEEE\" TEXT=\"#000000\" >\\n <div align=\"Left\"> <!--IMN:TOP--><table bgcolor=\"#000000\" border=\"0\" cellpadding=\"1\" cellspacing=\"0\" width=\"650\" >\\n<tr><td> <table bgcolor=\"#FFFFFF\" border=\"0\" cellpadding=\"0\" cellspacing=\"0\" width=\"100%\" cols=\"1\">\\n\\t<tr><td width=\"644\" valign=\"top\" bgcolor=\"#FFFFFF\"><!-- 1,1:footer -->\\n\\t\\t\\t\\n\\t\\t\\t\\t\\n\\t\\t\\t\\t\\n\\t\\t\\t\\t \\n \\n\\t\\n \\n \\n\\n\\t\\n\\t\\n\\n\\n \\n \\n\\t \\n<table width=\"100%\" border=\"0\" cellspacing=\"0\" cellpadding=\"4\" bgcolor=\"#FFFFFF\">\\n\\n<tr><td bgcolor=\"#FFFFFF\">\\n\\n\\n\\t\\n\\t<div align=\"left\">\\n\\t<table border=\"0\" cellpadding=\"2\" cellspacing=\"0\" width=\"100%\" bgcolor=\"#FFFFFF\">\\n\\t  <tr>\\n\\t    <td>\\n\\t \\n\\t\\t<font face=\"verdana,arial\" size=\"1\">\\n\\t\\t \\n\\t\\t</font>\\n\\t \\n\\t\\t</td>\\n\\t \\n\\t\\t\\t\\t<td align=\"right\" valign=\"top\">\\n\\t\\t \\n\\t\\t\\t<font face=\"verdana,arial\" size=\"1\">\\n\\t\\t\\t\\n\\t\\t\\t\\t\\n\\t\\t\\t\\n\\t\\t\\t\\n\\t\\t\\t<b>\\n\\t\\t\\t<a href=\"http://www.imakenews.com/eletra/mod_input_proc.cfm?mod_name=tell_friend_form&XXDESXXuser=mediaunspun&XXDESXXthanks=Thank%20You%2E&XXDESXXsubject=Check%20this%20out%3A%20%5B%5Btitle%5D%5D&XXDESXXheading=&XXDESXXbackto=http://newsletter.mediaunspun.com/index000018970.cfm&XXDESXXissue_id=18970&XXDESXXtitle=M%20E%20D%20I%20A%20%20U%20N%20S%20P%20U%20N\"\\n\\t\\t\\t class=\"a226814927149384-footer_tellafriend\">\\n\\t\\t\\t<font size=4>Pass it on...</font></a></b>\\n\\t\\t\\t\\n\\t\\t\\t</font>\\n\\t\\t \\n\\t\\t\\t</td>\\n\\t\\t\\n\\t\\t\\n\\t\\t\\n\\t  </tr>\\n\\t</table></div>\\n\\t \\n\\t</td></tr></table>\\n\\t\\n\\n\\t\\t\\t\\t\\n\\t\\n\\t\\n \\n\\n\\n\\n\\n\\n\\n\\n\\n\\n\\n\\n\\n\\t\\n\\n\\t\\t\\t\\n\\t\\t\\t\\n\\t\\t\\t<!-- 1,2:header -->\\n\\t\\t\\t\\n\\t\\t\\t\\t\\n\\t\\t\\t\\t\\t\\n\\t\\t\\t\\t \\n\\n\\n\\n \\n\\t\\n \\n\\t\\n \\n \\n\\t\\t\\n\\t \\n\\t\\t\\n\\t \\n\\t \\n<table width=\"100%\" border=\"0\" cellspacing=\"0\" cellpadding=\"4\" bgcolor=\"#FFFFFF\">\\n\\n<tr><td bgcolor=\"#FFFFFF\">\\n\\n\\n\\t\\t\\n\\t\\t<table border=\"0\" cellpadding=\"1\" cellspacing=\"0\" width=\"100%\">\\n\\t\\t\\n\\t\\t<tr><td colspan = 3>\\n\\n\\t\\t\\t\\n\\t\\t\\t\\n\\t\\t\\t\\n\\t\\t\\t \\t\\t\\t\\n\\t\\t\\t \\n\\t\\t\\t\\t\\n\\t\\t\\t\\t\\t\\n\\t\\t\\t\\t\\t\\t\\n\\t\\t\\t\\t\\t\\n\\t\\t\\t\\t\\n\\t\\t\\t \\n\\t\\t\\t\\t<a href=\"http://www.mediaunspun.com\">\\n\\t\\t\\t\\t\\n\\t\\t\\t\\t<img src=\"http://a298.g.akamai.net/7/298/5382/081402092715/www.imakenews.com/mediaunspun/mediaunspun_logo.GIF\" BORDER=\"0\" alt=\"M E D I A  U N S P U N\" hspace=\"6\" vspace=\"1\" align=\"top\" width=\"150\" ><br>\\n\\t\\t\\t\\t\\n\\t\\t\\t\\t</a>\\n\\t\\t\\t \\n\\t\\t\\t\\t\\n\\t\\t\\t\\t\\t<em><font face=\"Arial\" size=\"3\">\\n\\t\\t\\t\\t\\t\\n\\t\\t\\t\\t\\tWhat the Press is Reporting and Why (<a href=\"http://www.mediaunspun.com\">www.mediaunspun.com</a>)\\n\\t\\t\\t\\t\\t\\n\\t\\t\\t\\t\\t</font></em>\\n\\t\\t\\t\\t\\n\\t\\t\\t\\n\\t\\t\\t\\n\\t\\t</td></tr>\\n\\t\\t\\n\\t\\t\\n\\t \\t<tr><td colspan=\"3\"><hr noshade size=\"1\"></td></tr>\\n\\t\\t \\n\\t\\t\\n\\t\\t <tr>\\n\\t\\t \\n\\t\\t\\t\\t<td align=\"left\" width=\"33%\">\\n\\t\\t\\t \\n\\t\\t\\t\\t<font face=\"Verdana, Arial\" size=\"1\">\\n\\t\\t\\t\\t\\n\\t\\t\\t\\t\\n\\t\\t\\t\\t\\t\\n\\t\\t\\t\\t\\t\\n\\t\\t\\t\\t\\t\\t\\n\\t\\t\\t\\t\\t\\t\\tWednesday, August 14, 2002\\n\\t\\t\\t\\t\\t\\t\\n\\t\\t\\t\\t\\t\\n\\t\\t\\t\\t\\t\\n\\t\\t\\t\\t\\t\\n\\t\\t\\t\\t</font>\\n\\t\\t\\t\\n\\t\\t\\t</td>\\n\\t\\t \\n\\t\\t\\t\\t<td align=\"center\" width=\"34%\">\\n\\t\\t\\t \\n\\t\\t\\t</td>\\n\\t\\t \\n\\t\\t\\t\\t<td align=\"right\" width=\"33%\">\\n\\t\\t\\t \\n\\t\\t\\t</td>\\n\\t\\t \\n\\t\\t</tr>\\n\\t\\t</table>\\n\\t\\t \\n\\t</td></tr></table>\\n\\t\\n\\n\\t\\t\\t\\t\\n\\t\\n\\n\\n\\n\\t\\t\\t\\n\\t\\t\\t\\t\\t\\t\\t\\n\\t\\t\\t\\n\\t\\t\\t\\n\\t\\t\\t<!-- COLUMN: 1 -->\\n\\t\\t\\n\\t\\t</td></tr></table> <table bgcolor=\"#FFFFFF\" border=\"0\" cellpadding=\"0\" cellspacing=\"0\" width=\"100%\" cols=\"2\">\\n\\t<tr><td width=\"483\" valign=\"top\" bgcolor=\"#FFFFFF\"><!-- 2,1:contents -->\\n\\t\\t\\t\\n\\t\\t\\t\\t\\n\\t\\t\\t\\t \\n\\n\\n\\n \\n\\t\\t\\n\\t \\n\\t \\n \\n \\n\\t\\n \\n\\t\\n\\t\\n\\n \\n\\t \\n<font face=\"verdana,arial\" size=\"2\"><br><FONT face=Arial size=4><STRONG>Top Spins...</STRONG></FONT></font>\\n<table width=\"100%\" border=\"0\" cellspacing=\"0\" cellpadding=\"4\" bgcolor=\"#FFFFFF\">\\n\\n<tr><td bgcolor=\"#FFFFFF\">\\n\\n\\n\\t\\n\\t\\n\\t<TABLE bgcolor=\"#FFFFFF\" border=\"0\" cellpadding=\"3\" cellspacing=\"0\" width=\"100%\">\\n\\t\\n \\n\\t\\t\\n\\t \\n\\t<tr bgcolor=\"#FFFFFF\"><td>\\n\\t   \\n\\t\\t\\t\\n\\t\\t\\t\\n\\t\\t\\t<font face=\"Verdana,Arial\" size=\"1\">\\n\\t\\t\\t\\n\\t\\t\\t\\n\\t\\t\\t\\n\\t\\t\\t\\n\\t\\t\\t\\t<A HREF=\"#a87727\"\\n\\t\\t\\t\\t\\n\\t\\t\\t\\t\\t\\n\\t\\t\\t\\t\\t\\tclass=\"a226814927144888-contents_article_title\"\\n\\t\\t\\t\\t\\t\\n\\t\\t\\t\\t>\\n\\t\\t\\t\\n\\t\\t\\t\\t\\t\\t\\n\\t\\t\\t\\t\\n\\t\\t\\t\\n\\t\\t\\tSEC Exposes Big Blue\\'s Pink Slips\\n\\t\\t\\t\\n\\t\\t\\t\\t\\n\\t\\t\\t\\n\\t\\t\\t\\n\\t\\t\\t\\n\\t\\t\\t</a></font>\\n\\t\\t\\t\\n\\t\\t\\t\\n\\t\\t\\t\\n\\t\\t\\t\\n\\t\\t\\t\\n\\t\\t\\t<br>\\n\\t\\t </td></tr> \\n\\t\\t\\n\\t\\n \\n\\t</table>\\n\\t \\n\\t</td></tr></table>\\n\\t\\n\\n\\t\\t\\t\\t\\n\\n \\n\\n\\n\\n\\n\\t\\t\\t\\n\\t\\t\\t\\t\\t\\n\\t\\t\\t\\n\\t\\t\\t\\n\\t\\t\\t<!-- 2,2:contents -->\\n\\t\\t\\t\\n\\t\\t\\t\\t\\n\\t\\t\\t\\t \\n\\n\\n\\n \\n\\t\\t\\n\\t \\n\\t \\n\\t\\n \\n \\n\\t\\n \\n\\t\\n\\t\\n\\n \\n\\t \\n<table width=\"100%\" border=\"0\" cellspacing=\"0\" cellpadding=\"4\" bgcolor=\"#FFFFFF\">\\n\\n<tr><td bgcolor=\"#FFFFFF\">\\n\\n\\n\\t\\n\\t\\n\\t<TABLE bgcolor=\"#FFFFFF\" border=\"0\" cellpadding=\"3\" cellspacing=\"0\" width=\"100%\">\\n\\t\\n \\n\\t\\t \\n\\t \\n\\t<tr bgcolor=\"#FFFFFF\"><td>\\n\\t   \\n\\t\\t\\t\\n\\t\\t\\t\\n\\t\\t\\t<font face=\"Verdana,Arial\" size=\"1\">\\n\\t\\t\\t\\n\\t\\t\\t\\n\\t\\t\\t\\n\\t\\t\\t\\n\\t\\t\\t\\t<A HREF=\"#a87728\"\\n\\t\\t\\t\\t\\n\\t\\t\\t\\t\\t\\n\\t\\t\\t\\t\\t\\tclass=\"a226814927144469-contents_article_title\"\\n\\t\\t\\t\\t\\t\\n\\t\\t\\t\\t>\\n\\t\\t\\t\\n\\t\\t\\t\\t\\t\\t\\n\\t\\t\\t\\t\\n\\t\\t\\t\\n\\t\\t\\tSynergy and Betrayal at Vivendi\\n\\t\\t\\t\\n\\t\\t\\t\\t\\n\\t\\t\\t\\n\\t\\t\\t\\n\\t\\t\\t\\n\\t\\t\\t</a></font>\\n\\t\\t\\t\\n\\t\\t\\t\\n\\t\\t\\t\\n\\t\\t\\t\\n\\t\\t\\t\\n\\t\\t\\t<br>\\n\\t\\t </td></tr> <tr><td><img src=\"http://www.imakenews.com/eletra/empty.gif\" height=\"1\" width=\"1\"></td></tr> \\n\\t\\t\\n\\t \\n\\t<tr bgcolor=\"#FFFFFF\"><td>\\n\\t   \\n\\t\\t\\t\\n\\t\\t\\t\\n\\t\\t\\t<font face=\"Verdana,Arial\" size=\"1\">\\n\\t\\t\\t\\n\\t\\t\\t\\n\\t\\t\\t\\n\\t\\t\\t\\n\\t\\t\\t\\t<A HREF=\"#a87730\"\\n\\t\\t\\t\\t\\n\\t\\t\\t\\t\\t\\n\\t\\t\\t\\t\\t\\tclass=\"a226814927144469-contents_article_title\"\\n\\t\\t\\t\\t\\t\\n\\t\\t\\t\\t>\\n\\t\\t\\t\\n\\t\\t\\t\\t\\t\\t\\n\\t\\t\\t\\t\\n\\t\\t\\t\\n\\t\\t\\tOther Stories\\n\\t\\t\\t\\n\\t\\t\\t\\t\\n\\t\\t\\t\\n\\t\\t\\t\\n\\t\\t\\t\\n\\t\\t\\t</a></font>\\n\\t\\t\\t\\n\\t\\t\\t\\n\\t\\t\\t\\n\\t\\t\\t\\n\\t\\t\\t\\n\\t\\t\\t<br>\\n\\t\\t </td></tr> \\n\\t\\t\\n\\t\\n \\n\\t</table>\\n\\t \\n\\t</td></tr></table>\\n\\t\\n\\n\\t\\t\\t\\t\\n\\n \\n\\n\\n\\n\\n\\t\\t\\t\\n\\t\\t\\t\\t\\t\\n\\t\\t\\t\\n\\t\\t\\t\\n\\t\\t\\t<!-- 2,3:article_view -->\\n\\t\\t\\t\\n\\t\\t\\t\\t\\n\\t\\t\\t\\t\\n\\t\\t\\t\\t  \\n\\n\\n\\n \\n\\t\\t\\n\\t \\n\\t \\n\\t\\n \\n \\n\\t\\n \\n\\t \\n<font face=\"verdana,arial\" size=\"2\"><br></font>\\n<table width=\"100%\" border=\"0\" cellspacing=\"0\" cellpadding=\"4\" bgcolor=\"#FFFFFF\">\\n\\n<tr><td bgcolor=\"#FFFFFF\">\\n\\n\\n\\t\\n\\t\\n\\t<TABLE bgcolor=\"#FFFFFF\" border=\"0\" cellpadding=\"3\" cellspacing=\"0\" width=\"100%\">\\n\\t\\n \\n\\t\\t\\n\\t \\n\\t<tr bgcolor=\"#FFFFFF\"><td>\\n\\t <a name=\"a66461\"></a>   \\n\\t\\t\\t\\n\\t\\t\\t\\n\\t\\t\\t<font face=\"Arial\" size=\"4\"><b>\\n\\t\\t\\t\\n\\t\\t\\t\\n\\t\\t\\t\\n\\t\\t\\t\\n\\t\\t\\t\\n\\t\\t\\t\\n\\t\\t\\t\\n\\t\\t\\t\\n\\t\\t\\t</b>\\n\\t\\t\\t</font>\\n\\t\\t\\t\\n\\t\\t\\t\\n\\t\\t\\t\\n\\t\\t\\t\\n\\t\\t\\t\\n\\t\\t\\t<br>\\n\\t\\t \\n\\t\\t\\t\\n\\t\\t \\n\\t\\t\\t<font face=\"verdana,arial\" size=\"2\">\\n\\t\\t\\t \\n\\t\\t\\t\\t\\n\\t\\t\\t\\t\\t\\n\\t\\t\\t\\t\\t \\n \\n\\n\\n\\n\\n\\n\\n\\n\\n\\n\\n\\n\\n\\n\\n\\n\\n\\n\\n\\n\\n\\n\\n\\n\\n\\n\\n\\n\\t\\t\\t\\t\\t \\n\\t\\t\\n\\t\\t\\n\\t \\n\\t\\n \\n\\t\\n\\n\\n\\n\\t\\t\\t\\t\\t\\n\\t\\t\\t\\t\\t<P>Media Unspun serves business news and analysis, authoritatively and irreverently, every business day. An annual subscription costs $50, less than a dollar a week. If your four-week free trial is coming to an end soon, please visit <A HREF=\"http://www.mediaunspun.com/subscribe.html\">http://www.mediaunspun.com/subscribe.html</A>  and sign up via credit card or check.<br>\\n</P>\\n\\t\\t\\t\\t\\t\\n\\t\\t\\t\\t\\t<br>\\n\\t\\t\\t\\t\\n\\t\\t\\t\\n\\t\\t\\t</font>\\n\\t\\t </td></tr> \\n\\t\\t\\n\\t\\n \\n\\t</table>\\n\\t \\n\\t</td></tr></table>\\n\\t\\n\\n\\t\\t\\t\\t\\n\\n \\n\\n\\n\\n\\n\\n\\t\\t\\t\\t\\n\\t\\t\\t\\t\\t\\t\\t\\t\\t\\n\\n\\t\\t\\t\\n\\t\\t\\t\\n\\t\\t\\t<!-- 2,4:article_view -->\\n\\t\\t\\t\\n\\t\\t\\t\\t\\n\\t\\t\\t\\t\\n\\t\\t\\t\\t  \\n\\n\\n\\n \\n\\t\\t\\n\\t \\n\\t \\n\\t\\n \\n \\n\\t\\n \\n\\t \\n<font face=\"verdana,arial\" size=\"2\"><FONT face=Verdana size=1><STRONG>Sponsor</STRONG></FONT></font>\\n<table width=\"100%\" border=\"0\" cellspacing=\"0\" cellpadding=\"1\" bgcolor=\"#000000\"> \\n<tr><td>\\n<table width=\"100%\" border=\"0\" cellspacing=\"0\" cellpadding=\"4\" bgcolor=\"#FFFFCC\">\\n\\n<tr><td bgcolor=\"#FFFFCC\">\\n\\n\\n\\t\\n\\t\\n\\t<TABLE bgcolor=\"#FFFFCC\" border=\"0\" cellpadding=\"3\" cellspacing=\"0\" width=\"100%\">\\n\\t\\n \\n\\t\\t\\n\\t \\n\\t<tr bgcolor=\"#FFFFCC\"><td>\\n\\t <a name=\"a59384\"></a> \\n\\t\\t\\t\\n\\t\\t \\n\\t\\t\\t<font face=\"verdana,arial\" size=\"2\">\\n\\t\\t\\t \\n\\t\\t\\t\\t\\n\\t\\t\\t\\t\\t\\n\\t\\t\\t\\t\\t \\n \\n\\n\\n\\n\\n\\n\\n\\n\\n\\n\\n\\n\\n\\n\\n\\n\\n\\n\\n\\n\\n\\n\\n\\n\\n\\n\\n\\n\\t\\t\\t\\t\\t \\n\\t\\t\\n\\t\\t\\n\\t \\n\\t\\n \\n\\t\\n\\n\\n\\n\\t\\t\\t\\t\\t\\n\\t\\t\\t\\t\\t<P>Ken Fisher offers his Quarterly Report for high net worth investors FREE of cost & without obligation. Access the same investment research he uses to guide his clients at:<br>\\n<A HREF=\"http://pcg.fisherinvestments.com/newrespond/letter.asp?site=UNSP&KC=1229EFCAD0000\">http://pcg.fisherinvestments.com/newrespond/letter.asp?site=UNSP&KC=1229EFCAD0000</A> </P>\\n\\t\\t\\t\\t\\t\\n\\t\\t\\t\\t\\t<br>\\n\\t\\t\\t\\t\\n\\t\\t\\t\\n\\t\\t\\t</font>\\n\\t\\t </td></tr> \\n\\t\\t\\n\\t\\n \\n\\t</table>\\n\\t </td></tr></table>\\n\\t</td></tr></table>\\n\\t\\n\\n\\t\\t\\t\\t\\n\\n \\n\\n\\n\\n\\n\\n\\t\\t\\t\\t\\n\\t\\t\\t\\t\\t\\t\\t\\t\\t\\n\\n\\t\\t\\t\\n\\t\\t\\t\\n\\t\\t\\t<!-- 2,5:article_view -->\\n\\t\\t\\t\\n\\t\\t\\t\\t\\n\\t\\t\\t\\t\\n\\t\\t\\t\\t  \\n\\n\\n\\n \\n\\t\\t\\n\\t \\n\\t \\n \\n \\n\\t\\n \\n\\t \\n<table width=\"100%\" border=\"0\" cellspacing=\"0\" cellpadding=\"4\" bgcolor=\"#FFFFFF\">\\n\\n<tr><td bgcolor=\"#FFFFFF\">\\n\\n\\n\\t\\n\\t\\n\\t<TABLE bgcolor=\"#FFFFFF\" border=\"0\" cellpadding=\"3\" cellspacing=\"0\" width=\"100%\">\\n\\t\\n \\n\\t\\t\\n\\t \\n\\t<tr bgcolor=\"#FFFFFF\"><td>\\n\\t <a name=\"a87727\"></a>   \\n\\t\\t\\t\\n\\t\\t\\t\\n\\t\\t\\t<font face=\"Arial\" size=\"4\"><b>\\n\\t\\t\\t\\n\\t\\t\\t\\n\\t\\t\\t\\n\\t\\t\\t\\n\\t\\t\\t\\n\\t\\t\\tSEC Exposes Big Blue\\'s Pink Slips\\n\\t\\t\\t\\n\\t\\t\\t\\n\\t\\t\\t</b>\\n\\t\\t\\t</font>\\n\\t\\t\\t\\n\\t\\t\\t\\n\\t\\t\\t\\n\\t\\t\\t\\n\\t\\t\\t\\n\\t\\t\\t<br>\\n\\t\\t \\n\\t\\t\\t\\n\\t\\t \\n\\t\\t\\t<font face=\"verdana,arial\" size=\"2\">\\n\\t\\t\\t \\n\\t\\t\\t\\t\\n\\t\\t\\t\\t\\t\\n\\t\\t\\t\\t\\t \\n \\n\\n\\n\\n\\n\\n\\n\\n\\n\\n\\n\\n\\n\\n\\n\\n\\n\\n\\n\\n\\n\\n\\n\\n\\n\\n\\n\\n\\t\\t\\t\\t\\t \\n\\t\\t\\n\\t\\t\\n\\t \\n\\t\\n \\n\\t\\n\\n\\n\\n\\t\\t\\t\\t\\t\\n\\t\\t\\t\\t\\t<P>Does the Securities and Exchange Commission have a press pass yet? It seems to be bringing us all our news lately. On the day of the deadline for companies to certify their financial statements with the SEC, the business press squirmed and waited for the next Enron or WorldCom. (We might eat these words tomorrow, but we doubt it.) In an unrelated confession, IBM gave the commission its latest layoff numbers.</P><P>\\nIBM talked about pink slips during its second-quarter earnings report, but with a vagueness worthy of your daily horoscope. (\"Capricorn: Career changes may be on their way...\") Only after \"months of surreptitious layoff notices\" did the company admit that it\\'s cutting more than 15,600 jobs, said the AP. That\\'s about 5% of its workforce, and a lot more than pundits expected. An IBM spokesperson told the Wall Street Journal the higher number was due to \"rebalancing\" and more employees than\\nexpected taking voluntary layoffs. </P><P>\\nSorry, we\\'re still back on \"rebalancing.\" Did IBM \"rightsize\" last quarter, too?</P><P>\\nIBM\\'s news was still trickling out Wednesday morning, but some details were available. About 1,400 workers got cut from IBM\\'s microelectronics unit, and most of the rest were from IT services and consulting. (That ought to make IBM\\'s new employees from PricewaterhouseCoopers feel all warm and fuzzy inside.) Look for news updates from cities that will see the cuts, such as Austin and Raleigh. </P><P>\\nOK, none of this is good. Two years into the tech slump, we\\'re still tired of seeing people get sacked. But was it really so bad that IBM only revealed it because of new accounting regulations? Nah, Big Blue was always known for \"stealth layoffs,\" as CNN put it, but current corporate scrutiny forced it to \\'fess up for once. Until now, IBM would acknowledge the latest layoffs if reporters called and asked, but wouldn\\'t give specifics. Yeesh. - Jen Muehlbauer</P><P>\\nIBM Cut 5% of Staff in Period, Double the Expected Number<br>\\n<A HREF=\"http://online.wsj.com/article/0,,SB1029282408667791835,00.html\">http://online.wsj.com/article/0,,SB1029282408667791835,00.html</A> <br>\\n(Paid subscription required.) </P><P>\\nIBM to Cut Over 15,000 Employees (AP)<br>\\n<A HREF=\"http://tinyurl.com/10kz\">http://tinyurl.com/10kz</A> </P><P>\\nIBM confirms 15,600 job cuts (Reuters)<br>\\n<A HREF=\"http://www.msnbc.com/news/793777.asp\">http://www.msnbc.com/news/793777.asp</A>  </P><P>\\nIBM cutting 15,000 jobs <br>\\n<A HREF=\"http://news.com.com/2100-1001-949677.html\">http://news.com.com/2100-1001-949677.html</A> </P><P>\\nIBM job cuts exceed 15,600<br>\\n<A HREF=\"http://money.cnn.com/2002/08/13/technology/ibm/index.htm\">http://money.cnn.com/2002/08/13/technology/ibm/index.htm</A> </P><P>\\nIBM puts job cuts at 15,600, with fewer than 50 in this state<br>\\n<A HREF=\"http://seattlepi.nwsource.com/business/82508_ibm14.shtml\">http://seattlepi.nwsource.com/business/82508_ibm14.shtml</A> </P>\\n\\t\\t\\t\\t\\t\\n\\t\\t\\t\\t\\t<br>\\n\\t\\t\\t\\t\\n\\t\\t\\t\\n\\t\\t\\t</font>\\n\\t\\t </td></tr> \\n\\t\\t\\n\\t\\n \\n\\t</table>\\n\\t \\n\\t</td></tr></table>\\n\\t\\n\\n\\t\\t\\t\\t\\n\\n \\n\\n\\n\\n\\n\\n\\t\\t\\t\\t\\n\\t\\t\\t\\t\\t\\t\\t\\t\\t\\n\\n\\t\\t\\t\\n\\t\\t\\t\\n\\t\\t\\t<!-- 2,6:article_view -->\\n\\t\\t\\t\\n\\t\\t\\t\\t\\n\\t\\t\\t\\t\\n\\t\\t\\t\\t  \\n\\n\\n\\n \\n\\t\\t\\n\\t \\n\\t \\n\\t\\n \\n \\n\\t\\n \\n\\t \\n<font face=\"verdana,arial\" size=\"2\"><FONT face=Verdana size=1><STRONG>Sponsor</STRONG></FONT></font>\\n<table width=\"100%\" border=\"0\" cellspacing=\"0\" cellpadding=\"1\" bgcolor=\"#000000\"> \\n<tr><td>\\n<table width=\"100%\" border=\"0\" cellspacing=\"0\" cellpadding=\"4\" bgcolor=\"#FFFFCC\">\\n\\n<tr><td bgcolor=\"#FFFFCC\">\\n\\n\\n\\t\\n\\t\\n\\t<TABLE bgcolor=\"#FFFFCC\" border=\"0\" cellpadding=\"3\" cellspacing=\"0\" width=\"100%\">\\n\\t\\n \\n\\t\\t\\n\\t \\n\\t<tr bgcolor=\"#FFFFCC\"><td>\\n\\t <a name=\"a75853\"></a> \\n\\t\\t\\t\\n\\t\\t \\n\\t\\t\\t<font face=\"verdana,arial\" size=\"2\">\\n\\t\\t\\t \\n\\t\\t\\t\\t\\n\\t\\t\\t\\t\\t\\n\\t\\t\\t\\t\\tYou\\'ve heard about identity management, but do you know about the opportunities and business models that will emerge as a result? <a href=\"http://release1.edventure.com/executivesummary.cfm?MCode=Unspun\">Download</a> a free executive summary of Esther Dyson\\'s coverage of identity management in Release 1.0. Learn more about the expanding market for these services and applications.\\n\\t\\t\\t\\t\\t\\n\\t\\t\\t\\t\\t<br>\\n\\t\\t\\t\\t\\n\\t\\t\\t\\n\\t\\t\\t</font>\\n\\t\\t </td></tr> \\n\\t\\t\\n\\t\\n \\n\\t</table>\\n\\t </td></tr></table>\\n\\t</td></tr></table>\\n\\t\\n\\n\\t\\t\\t\\t\\n\\n \\n\\n\\n\\n\\n\\n\\t\\t\\t\\t\\n\\t\\t\\t\\t\\t\\t\\t\\t\\t\\n\\n\\t\\t\\t\\n\\t\\t\\t\\n\\t\\t\\t<!-- 2,7:article_view -->\\n\\t\\t\\t\\n\\t\\t\\t\\t\\n\\t\\t\\t\\t\\n\\t\\t\\t\\t  \\n\\n\\n\\n \\n\\t\\t\\n\\t \\n\\t \\n\\t\\n \\n \\n\\t\\n \\n\\t \\n<table width=\"100%\" border=\"0\" cellspacing=\"0\" cellpadding=\"4\" bgcolor=\"#FFFFFF\">\\n\\n<tr><td bgcolor=\"#FFFFFF\">\\n\\n\\n\\t\\n\\t\\n\\t<TABLE bgcolor=\"#FFFFFF\" border=\"0\" cellpadding=\"3\" cellspacing=\"0\" width=\"100%\">\\n\\t\\n \\n\\t\\t \\n\\t \\n\\t<tr bgcolor=\"#FFFFFF\"><td>\\n\\t <a name=\"a87728\"></a>   \\n\\t\\t\\t\\n\\t\\t\\t\\n\\t\\t\\t<font face=\"Arial\" size=\"4\"><b>\\n\\t\\t\\t\\n\\t\\t\\t\\n\\t\\t\\t\\n\\t\\t\\t\\n\\t\\t\\t\\n\\t\\t\\tSynergy and Betrayal at Vivendi\\n\\t\\t\\t\\n\\t\\t\\t\\n\\t\\t\\t</b>\\n\\t\\t\\t</font>\\n\\t\\t\\t\\n\\t\\t\\t\\n\\t\\t\\t\\n\\t\\t\\t\\n\\t\\t\\t\\n\\t\\t\\t<br>\\n\\t\\t \\n\\t\\t\\t\\n\\t\\t \\n\\t\\t\\t<font face=\"verdana,arial\" size=\"2\">\\n\\t\\t\\t \\n\\t\\t\\t\\t\\n\\t\\t\\t\\t\\t\\n\\t\\t\\t\\t\\t \\n \\n\\n\\n\\n\\n\\n\\n\\n\\n\\n\\n\\n\\n\\n\\n\\n\\n\\n\\n\\n\\n\\n\\n\\n\\n\\n\\n\\n\\t\\t\\t\\t\\t \\n\\t\\t\\n\\t\\t\\n\\t \\n\\t\\n \\n\\t\\n\\n\\n\\n\\t\\t\\t\\t\\t\\n\\t\\t\\t\\t\\t<P>Synergy always was a fuzzy concept. Now Vivendi Universal\\'s top man has slammed the lid on it. The French company announced today that it\\'s ready to peddle $9.8 billion in assets to rustle up some cash. First up on the block? Synergy-less U.S. book publisher Houghton Mifflin. </P><P>\\nIt\\'s unclear whether new chairman Jean-Rene Fourtou has genuine turnaround muscle, or whether he and Vivendi\\'s board are simply following the winds of post-merger fashion. But when you owe $18.7 billion, you get real practical, real fast. The Guardian reported that Vivendi\\'s share price sank 5% on Tuesday when investors got the willies about the company\\'s impending announcement on its financial health. But the company had positive news to report: It\\'s making money. Revenue in the first half was \\nup 13%, higher than analysts\\' estimates of a 7.7% boost. </P><P>\\nDetails are scant on the breadth of Fourtou\\'s restructuring efforts, with more information expected at the next board meeting on September 25, according to reporters. Houghton Mifflin, acquired a year ago for $1.7 billion, and a vague explanation that included the \"Curious George\" character, were the only properties named for sale so far. The Guardian speculated that Vivendi will also sell its U.S. video games business and possibly its stake in the French mobile phone company SFR, a debatable\\nsale because of the cash it generates, according to the newspaper. </P><P>\\nMeanwhile, Fourtou\\'s predecessor, Jean-Marie Messier, continues to advocate empire-building. The New York Post said its sources say Messier hopes his former employer will feel generous enough to let him continue to reside in his $17 million Manhattan abode. And Bloomberg reported earlier this week that an unrepentant Messier is penning a memoir as he vacations in the Mediterranean. The working title? \"How I Was Betrayed.\"  - Deborah Asbrand </P><P>\\nVivendi to Sell Publisher Houghton Mifflin (Reuters)<br>\\n<A HREF=\"http://www.washingtonpost.com/wp-dyn/articles/A15954-2002Aug14.html\">http://www.washingtonpost.com/wp-dyn/articles/A15954-2002Aug14.html</A> </P><P>\\nVivendi investors expect the worst<br>\\n<A HREF=\"http://www.guardian.co.uk/business/story/0,3604,774190,00.html\">http://www.guardian.co.uk/business/story/0,3604,774190,00.html</A> </P><P>\\nVivendi to Sell $9.8 Billion In Assets, Including Houghton<br>\\n<A HREF=\"http://online.wsj.com/article/0,,SB102931297119161715,00.html\">http://online.wsj.com/article/0,,SB102931297119161715,00.html</A> <br>\\n(Paid subscription required.) </P><P>\\nOusted Messier Aims To Score $17m Vivendi Pad<br>\\n<A HREF=\"http://www.nypost.com/business/54701.htm\">http://www.nypost.com/business/54701.htm</A> </P><P>\\nEx-Chief of Vivendi Plans Tell-All Book (Bloomberg)<br>\\n<A HREF=\"http://www.nytimes.com/2002/08/12/business/media/12VIVE.html\">http://www.nytimes.com/2002/08/12/business/media/12VIVE.html</A> </P>\\n\\t\\t\\t\\t\\t\\n\\t\\t\\t\\t\\t<br>\\n\\t\\t\\t\\t\\n\\t\\t\\t\\n\\t\\t\\t</font>\\n\\t\\t </td></tr> \\n\\t\\t\\n\\t \\n\\t<tr bgcolor=\"#FFFFFF\"><td>\\n\\t <a name=\"a87730\"></a>   \\n\\t\\t\\t\\n\\t\\t\\t\\n\\t\\t\\t<font face=\"Arial\" size=\"4\"><b>\\n\\t\\t\\t\\n\\t\\t\\t\\n\\t\\t\\t\\n\\t\\t\\t\\n\\t\\t\\t\\n\\t\\t\\tOther Stories\\n\\t\\t\\t\\n\\t\\t\\t\\n\\t\\t\\t</b>\\n\\t\\t\\t</font>\\n\\t\\t\\t\\n\\t\\t\\t\\n\\t\\t\\t\\n\\t\\t\\t\\n\\t\\t\\t\\n\\t\\t\\t<br>\\n\\t\\t \\n\\t\\t\\t\\n\\t\\t \\n\\t\\t\\t<font face=\"verdana,arial\" size=\"2\">\\n\\t\\t\\t \\n\\t\\t\\t\\t\\n\\t\\t\\t\\t\\t\\n\\t\\t\\t\\t\\t \\n \\n\\n\\n\\n\\n\\n\\n\\n\\n\\n\\n\\n\\n\\n\\n\\n\\n\\n\\n\\n\\n\\n\\n\\n\\n\\n\\n\\n\\t\\t\\t\\t\\t \\n\\t\\t\\n\\t\\t\\n\\t \\n\\t\\n \\n\\t\\n\\n\\n\\n\\t\\t\\t\\t\\t\\n\\t\\t\\t\\t\\t<P>A Top AOL Manager Has Left Company<br>\\n<A HREF=\"http://www.nytimes.com/2002/08/14/technology/14AOL.html\">http://www.nytimes.com/2002/08/14/technology/14AOL.html</A> </P><P>\\nFed Holds Steady on Interest Rates <br>\\n<A HREF=\"http://www.washingtonpost.com/wp-dyn/articles/A14636-2002Aug13.html\">http://www.washingtonpost.com/wp-dyn/articles/A14636-2002Aug13.html</A> </P><P>\\nAmtrak halts all high-speed service after finding cracks<br>\\n<A HREF=\"http://www.sunspot.net/bal-te.train14aug14.story\">http://www.sunspot.net/bal-te.train14aug14.story</A> </P><P>\\nAOL lets resigning exec keep stock options <br>\\n<A HREF=\"http://www.usatoday.com/money/industries/technology/2002-08-13-aol-pittman_x.htm\">http://www.usatoday.com/money/industries/technology/2002-08-13-aol-pittman_x.htm</A> </P><P>\\nLucent licensing deal with Winstar focus of probe (AP)<br>\\n<A HREF=\"http://www.bayarea.com/mld/mercurynews/business/3861117.htm\">http://www.bayarea.com/mld/mercurynews/business/3861117.htm</A> </P><P>\\nStudy Says Net Could Benefit Music Firms<br>\\n<A HREF=\"http://www.latimes.com/business/la-fi-music14aug14.story\">http://www.latimes.com/business/la-fi-music14aug14.story</A> </P><P>\\nEisner Crimping His Own Style<br>\\n<A HREF=\"http://www.latimes.com/business/la-fi-disney14aug14.story\">http://www.latimes.com/business/la-fi-disney14aug14.story</A> </P><P></P><P>\\nSeverance claims by Enron former execs anger ex-workers<br>\\n<A HREF=\"http://www.chron.com/cs/CDA/story.hts/business/1533657\">http://www.chron.com/cs/CDA/story.hts/business/1533657</A> </P><P>\\nPrinceton removes dean after Yale Web site flap (AP)<br>\\n<A HREF=\"http://www.siliconvalley.com/mld/siliconvalley/3857890.htm\">http://www.siliconvalley.com/mld/siliconvalley/3857890.htm</A> </P><P>\\nFrisbee golf creator dies, may land on someone\\'s roof (SF Chronicle)<br>\\n<A HREF=\"http://seattlepi.nwsource.com/national/82560_frisbee14.shtml\">http://seattlepi.nwsource.com/national/82560_frisbee14.shtml</A> </P><P>\\nWill Kinsley\\'s Slate Get Wiped?<br>\\n<A HREF=\"http://www.ojr.org/ojr/kramer/1029281360.php\">http://www.ojr.org/ojr/kramer/1029281360.php</A> </P><P>\\nHollywood, Russian Bicker Over Bass<br>\\n<A HREF=\"http://www.cnn.com/2002/SHOWBIZ/News/08/13/bassspace.hollywood.ap/\">http://www.cnn.com/2002/SHOWBIZ/News/08/13/bassspace.hollywood.ap/</A> </P>\\n\\t\\t\\t\\t\\t\\n\\t\\t\\t\\t\\t<br>\\n\\t\\t\\t\\t\\n\\t\\t\\t\\n\\t\\t\\t</font>\\n\\t\\t </td></tr> \\n\\t\\t\\n\\t\\n \\n\\t</table>\\n\\t \\n\\t</td></tr></table>\\n\\t\\n\\n\\t\\t\\t\\t\\n\\n \\n\\n\\n\\n\\n\\n\\t\\t\\t\\t\\n\\t\\t\\t\\t\\t\\t\\t\\t\\t\\n\\n\\t\\t\\t\\n\\t\\t\\t\\n\\t\\t\\t<!-- 2,8:article_view -->\\n\\t\\t\\t\\n\\t\\t\\t\\t\\n\\t\\t\\t\\t\\n\\t\\t\\t\\t  \\n\\n\\n\\n \\n\\t\\t\\n\\t \\n\\t \\n\\t\\n \\n \\n\\t\\n \\n\\t \\n<font face=\"verdana,arial\" size=\"2\"><FONT face=Verdana size=1><STRONG>Sponsor</STRONG></FONT></font>\\n<table width=\"100%\" border=\"0\" cellspacing=\"0\" cellpadding=\"1\" bgcolor=\"#000000\"> \\n<tr><td>\\n<table width=\"100%\" border=\"0\" cellspacing=\"0\" cellpadding=\"4\" bgcolor=\"#FFFFCC\">\\n\\n<tr><td bgcolor=\"#FFFFCC\">\\n\\n\\n\\t\\n\\t\\n\\t<TABLE bgcolor=\"#FFFFCC\" border=\"0\" cellpadding=\"3\" cellspacing=\"0\" width=\"100%\">\\n\\t\\n \\n\\t\\t\\n\\t \\n\\t<tr bgcolor=\"#FFFFCC\"><td>\\n\\t <a name=\"a59804\"></a> \\n\\t\\t\\t\\n\\t\\t \\n\\t\\t\\t<font face=\"verdana,arial\" size=\"2\">\\n\\t\\t\\t \\n\\t\\t\\t\\t\\n\\t\\t\\t\\t\\t\\n\\t\\t\\t\\t\\tDo you want to reach the Net\\'s savviest audience?<BR>\\nAdvertise in Media Unspun.<br>\\nContact Erik Vanderkolk for details at <a href=\"mailto:erikvanderkolk@yahoo.com\">erikvanderkolk@yahoo.com</A> today.\\n\\t\\t\\t\\t\\t\\n\\t\\t\\t\\t\\t<br>\\n\\t\\t\\t\\t\\n\\t\\t\\t\\n\\t\\t\\t</font>\\n\\t\\t </td></tr> \\n\\t\\t\\n\\t\\n \\n\\t</table>\\n\\t </td></tr></table>\\n\\t</td></tr></table>\\n\\t\\n\\n\\t\\t\\t\\t\\n\\n \\n\\n\\n\\n\\n\\n\\t\\t\\t\\t\\n\\t\\t\\t\\t\\t\\t\\t\\t\\t\\n\\n\\t\\t\\t\\n\\t\\t\\t\\n\\t\\t\\t<!-- 2,9:article_view -->\\n\\t\\t\\t\\n\\t\\t\\t\\t\\n\\t\\t\\t\\t\\n\\t\\t\\t\\t  \\n\\n\\n\\n \\n\\t\\t\\n\\t \\n\\t \\n\\t\\n \\n \\n\\t\\n \\n\\t \\n<table width=\"100%\" border=\"0\" cellspacing=\"0\" cellpadding=\"4\" bgcolor=\"#FFFFFF\">\\n\\n<tr><td bgcolor=\"#FFFFFF\">\\n\\n\\n\\t\\n\\t\\n\\t<TABLE bgcolor=\"#FFFFFF\" border=\"0\" cellpadding=\"3\" cellspacing=\"0\" width=\"100%\">\\n\\t\\n \\n\\t\\t\\n\\t \\n\\t<tr bgcolor=\"#FFFFFF\"><td>\\n\\t <a name=\"a59810\"></a>   \\n\\t\\t\\t\\n\\t\\t\\t\\n\\t\\t\\t<font face=\"Arial\" size=\"4\"><b>\\n\\t\\t\\t\\n\\t\\t\\t\\n\\t\\t\\t\\n\\t\\t\\t\\n\\t\\t\\t\\n\\t\\t\\tStaff\\n\\t\\t\\t\\n\\t\\t\\t\\n\\t\\t\\t</b>\\n\\t\\t\\t</font>\\n\\t\\t\\t\\n\\t\\t\\t\\n\\t\\t\\t\\n\\t\\t\\t\\n\\t\\t\\t\\n\\t\\t\\t<br>\\n\\t\\t \\n\\t\\t\\t\\n\\t\\t \\n\\t\\t\\t<font face=\"verdana,arial\" size=\"2\">\\n\\t\\t\\t \\n\\t\\t\\t\\t\\n\\t\\t\\t\\t\\t\\n\\t\\t\\t\\t\\tWritten by Deborah Asbrand (<a href=\"mailto:dasbrand@world.std.com\">dasbrand@world.std.com</a>), Keith Dawson (<a href=\"mailto:dawson@world.std.com\">dawson@world.std.com</a>), Jen Muehlbauer (<a href=\"mailto:jen@englishmajor.com\">jen@englishmajor.com</a>), and Lori Patel (<a href=\"mailto:loripatel@hotmail.com\">loripatel@hotmail.com</a>).\\n<P>\\nCopyedited by Jim Duffy (<a href=\"mailto:jimduffy86@yahoo.com\">jimduffy86@yahoo.com</a>).\\n<P>\\nMarketing: Cowpoke Productions (<a href=\"http://www.cowpokeproductions.com\">cowpokeproductions.com</a>).\\n<P>\\nAdvertising: Erik Vanderkolk (<a href=\"mailto:erikvanderkolk@yahoo.com\">erikvanderkolk@yahoo.com)</a>.\\n<P>\\nEditor and publisher: Jimmy Guterman (<a href=\"mailto:guterman@vineyard.com\">guterman@vineyard.com</a>).\\n<P>\\nMedia Unspun is produced by <a href=\"http://guterman.com\">The Vineyard Group Inc.</a>\\n<BR>Copyright 2002 Media Unspun, Inc., and The Vineyard Group, Inc.\\n<BR>Subscribe already, willya? <a href=\"http://www.mediaunspun.com\">http://www.mediaunspun.com</a>\\n<P>\\nRedistribution by email is permitted as long as a link to <a href=\"http://newsletter.mediaunspun.com\">http://newsletter.mediaunspun.com</a> is included.\\n\\t\\t\\t\\t\\t\\n\\t\\t\\t\\t\\t<br>\\n\\t\\t\\t\\t\\n\\t\\t\\t\\n\\t\\t\\t</font>\\n\\t\\t </td></tr> \\n\\t\\t\\n\\t\\n \\n\\t</table>\\n\\t \\n\\t</td></tr></table>\\n\\t\\n\\n\\t\\t\\t\\t\\n\\n \\n\\n\\n\\n\\n\\n\\t\\t\\t\\t\\n\\t\\t\\t\\t\\t\\t\\t\\t\\t\\n\\n\\t\\t\\t\\n\\t\\t\\t\\n\\t\\t\\t<!-- COLUMN: 2 -->\\n\\t\\t\\n\\t\\t</td><td width=\"5\" valign=\"top\" align=\"center\" ><img src=\"http://www.imakenews.com/eletra/empty.gif\" height=\"1\" width=\"5\"></td>\\n\\t\\t\\t<td width=\"1\" valign=\"top\" align=\"center\" bgcolor=\"#888888\"><img src=\"http://www.imakenews.com/eletra/empty.gif\" height=\"1\" width=\"1\"></td>\\n\\t\\t\\t<td width=\"5\" valign=\"top\" align=\"center\" ><img src=\"http://www.imakenews.com/eletra/empty.gif\" height=\"1\" width=\"5\"></td><td width=\"161\" valign=\"top\" bgcolor=\"#FFFFFF\"><!-- 3,1:subscription -->\\n\\t\\t\\t\\n\\t\\t\\t  \\n\\t\\t\\t  \\n\\t\\t\\t\\t\\n\\t\\t\\t\\t\\n\\t\\t\\t\\t \\n\\n\\n\\n \\n\\t\\n \\n\\t\\n \\n \\n<table width=\"100%\" border=\"0\" cellspacing=\"0\" cellpadding=\"1\" bgcolor=\"#000000\"> \\n<tr><td>\\n<table width=\"100%\" border=\"0\" cellspacing=\"0\" cellpadding=\"4\" bgcolor=\"#EEEEEE\">\\n\\n<tr><td\\nbgcolor=\"#000000\">\\n\\t<font face=\"arial\" size=\"2\" color=\"#FFFFFF\"><b>\\n\\t\\t\\n\\t\\tSUBSCRIBE\\n\\t\\t\\n\\t</b></font>\\n</td></tr>\\n<tr><td bgcolor=\"#EEEEEE\">\\n\\n\\n\\t \\n\\t\\t\\n\\t\\t\\t\\n\\t\\t\\t\\n\\t\\t\\t \\t\\t\\t\\t\\t\\t\\n\\t \\n\\t\\t\\n\\t \\n\\t\\t\\n\\t \\n\\t\\t\\n\\t \\n\\t\\t\\n\\t \\n\\t\\t<form method=\"POST\" action=\"http://www.imakenews.com/eletra/mod_input_proc.cfm\">\\n\\t\\t \\n<p><font face=\"verdana,arial\" size=\"1\">\\n Enter your email address in the box below to receive a free four-week trial of Media Unspun: \\n</font></p>\\n \\n\\t\\t\\n\\t \\n\\t\\t  <input type=\"hidden\" name=\"XXDESXXuser\" value=\"mediaunspun\">\\n\\t\\t  \\n\\t\\t  \\n\\t\\t  <input type=\"hidden\" name=\"mod_name\" value=\"subscription\">\\n\\t\\t  <input type=\"hidden\" name=\"XXDESXXfrom_address\" value=\"guterman@vineyard.com\">\\n          <input type=\"hidden\" name=\"XXDESXXfrom_name\" value=\"Media Unspun\">\\n\\t\\t  \\n\\t\\t  \\n\\t\\t  \\n\\t\\t  \\n\\t\\t  \\n \\t\\t  \\n\\t\\t\\t <input type=\"hidden\" name=\"XXDESXXpage\" value=\"http://newsletter.mediaunspun.com/index000018970.cfm\">\\t\\t  \\n\\t\\t  \\n\\t\\n\\t\\n    \\n\\n\\t\\n\\t\\n\\t\\t\\n    \\n\\t<p><input type=\"text\" name=\"XXDESXXemail_address\" size=\"15\" maxlength=\"100\">\\n\\t\\t<br><font face=\"verdana\" size=\"1\">\\n\\t \\n\\t\\t\\n\\t\\t\\t<input type=\"radio\" value=\"Add\" name=\"XXDESXXsubscribe_op\" checked>\\n\\t\\t\\t\\n\\t\\t\\tAdd\\n\\t\\t\\t\\n\\t\\t\\n\\t \\n\\t\\t<input type=\"radio\" value=\"Remove\" name=\"XXDESXXsubscribe_op\">\\n\\t\\t\\n\\t\\tRemove<br>\\n\\t\\t\\n\\t \\n\\t\\t<input type=\"checkbox\" name=\"XXDESXXemail_type\" value=\"htm\" checked>\\n\\t\\t Send\\xa0as\\xa0HTML<br>\\n\\t\\t\\n\\t   \\n\\t  <input type=\"submit\" value=\"Submit\" name=\"add\">&nbsp;\\n\\t\\n\\t</font></p>\\n    \\n\\n\\n\\t\\t</form>\\t\\n\\t\\n\\n </td></tr></table>\\n\\t</td></tr></table><font face=\"verdana,arial\" size=\"2\"><FONT face=Verdana size=1><STRONG>\\n<P align=center><BR>Newsletter Services <BR>Provided by <BR></STRONG></FONT><A href=\"http://www.imakenews.com/affiliate.cfm?a_id=unspun\"><FONT face=Verdana size=1><STRONG>iMakeNews.com</STRONG></FONT></A></P></font>\\n\\t\\n\\n\\t\\t\\t\\t\\t\\n\\t\\t\\t  \\t\\t\\n\\t\\t\\t\\t\\t\\n\\t\\t\\t\\n\\t\\t\\t\\n\\t\\t\\t<!-- 3,2:survey_view -->\\n\\t\\t\\t\\n\\t\\t\\t\\t\\n\\t\\t\\t\\t \\n\\n\\n\\n \\n \\n\\t\\n \\n\\t\\n \\n\\t\\n \\n \\n\\n\\n\\n\\n\\n\\n\\n\\n\\n\\t\\t\\t\\t\\t\\t\\t\\t\\t\\t\\t\\t\\n\\t\\t\\t\\n\\t\\t\\t\\n\\t\\t\\t<!-- 3,3:menu -->\\n\\t\\t\\t\\n\\t\\t\\t\\t\\n\\t\\t\\t\\t \\n\\t\\n \\n\\t\\n \\n\\n\\n\\n\\n\\n\\n\\n\\n\\t\\t\\t\\n\\t\\t\\t\\n\\t\\t\\t\\n\\t\\t\\t<!-- COLUMN: 3 -->\\n\\t\\t\\n\\t\\t</td></tr></table> <table bgcolor=\"#FFFFFF\" border=\"0\" cellpadding=\"0\" cellspacing=\"0\" width=\"100%\" cols=\"1\">\\n\\t<tr><td width=\"644\" valign=\"top\" bgcolor=\"#FFFFFF\"><!-- 4,1:footer -->\\n\\t\\t\\t\\n\\t\\t\\t\\t\\n\\t\\t\\t\\t\\n\\t\\t\\t\\t \\n \\n\\t\\n \\n \\n\\n\\t\\n\\t\\n\\n\\n \\n \\n\\t \\n<table width=\"100%\" border=\"0\" cellspacing=\"0\" cellpadding=\"4\" bgcolor=\"#FFFFFF\">\\n\\n<tr><td bgcolor=\"#FFFFFF\">\\n\\n\\n\\t\\n\\t<div align=\"left\">\\n\\t<table border=\"0\" cellpadding=\"2\" cellspacing=\"0\" width=\"100%\" bgcolor=\"#FFFFFF\">\\n\\t  <tr>\\n\\t    <td>\\n\\t \\n\\t\\t<font face=\"verdana,arial\" size=\"1\">\\n\\t\\t \\n\\t\\t</font>\\n\\t \\n\\t\\t</td>\\n\\t \\n\\t\\t\\t\\t<td align=\"right\" valign=\"top\">\\n\\t\\t \\n\\t\\t\\t<font face=\"verdana,arial\" size=\"1\">\\n\\t\\t\\t\\n\\t\\t\\t\\t\\n\\t\\t\\t\\n\\t\\t\\t\\n\\t\\t\\t<b>\\n\\t\\t\\t<a href=\"http://www.imakenews.com/eletra/mod_input_proc.cfm?mod_name=tell_friend_form&XXDESXXuser=mediaunspun&XXDESXXthanks=Thank%20You%2E&XXDESXXsubject=Check%20this%20out%3A%20%5B%5Btitle%5D%5D&XXDESXXheading=&XXDESXXbackto=http://newsletter.mediaunspun.com/index000018970.cfm&XXDESXXissue_id=18970&XXDESXXtitle=M%20E%20D%20I%20A%20%20U%20N%20S%20P%20U%20N\"\\n\\t\\t\\t class=\"a226814927151492-footer_tellafriend\">\\n\\t\\t\\t<font size=4>TELL A FRIEND</font></a></b>\\n\\t\\t\\t\\n\\t\\t\\t</font>\\n\\t\\t \\n\\t\\t\\t</td>\\n\\t\\t\\n\\t\\t\\n\\t\\t\\n\\t  </tr>\\n\\t</table></div>\\n\\t \\n\\t</td></tr></table>\\n\\t\\n\\n\\t\\t\\t\\t\\n\\t\\n\\t\\n \\n\\n\\n\\n\\n\\n\\n\\n\\n\\n\\n\\n\\n\\t\\n\\n\\t\\t\\t\\n\\t\\t\\t\\n\\t\\t\\t<!-- COLUMN: 4 -->\\n\\t\\t\\n\\t\\t</td></tr></table> </td></tr></table>\\n<!--IMN:BOTTOM-->\\n<table border=\"0\" cellpadding=\"2\" cellspacing=\"0\" width=\"650\">\\n  <tr><td><font face=\"verdana,arial\" size=\"1\">Powered by <strong><a href=\"http://www.imakenews.com\" target=\"_top\" class=\"link\">iMakeNews.com</a>&#153;</strong></font><br>\\n\\t<font face=\"verdana,arial\" size=\"1\">This email was sent to: zzz-unspun@example.com <br><a href=\"http://www.imakenews.com/eletra/remove.cfm?x=mediaunspun%2Czzz-unspun@example.com\">Click here</a> to be instantly removed from this list.<br><a href=\"http://www.imakenews.com/eletra/change.cfm?x=mediaunspun%2Czzz-unspun@example.com%2Ctxt\">Click here</a> to receive future messages in plain text format.<br></font><font face=\"verdana,arial\" size=\"1\"><a\\nhref=\"http://www.imakenews.com/eletra/update.cfm?x=mediaunspun%2Czzz-unspun@example.com\">Click here</a> to change your subscriber information and preferences.<br></font></tr></table>\\n<!--Ver. 7-->\\n\\n\\t\\n\\t\\t\\n\\t\\t\\t\\n\\t\\t \\n\\t\\t \\n\\t\\t  \\n\\t\\t<p>&nbsp;\\n\\t\\t   \\n\\t   \\n       <img src=\"http://machina.imakenews.com/E178767,5114587XXmediaunspunXX18970XXXXindex000018970.cfmXXemailXX5114587XXXX0Y0XX1\" alt=\"\" height=\"0\" width=\"0\">\\t\\t \\n\\t   \\n\\t   \\n\\t\\t</p>\\n\\t\\t\\n\\t\\n\\n   \\n \\n</div>\\n\\n\\n</body>\\n</html>\\n\\n\\n\\n------------=_1029331990-31627-4--\\n\\n\\n'\n",
            " 'Received: from timhunt.net (ns1.timhunt.net [216.27.147.130])\\n\\tby dogma.slashnull.org (8.11.6/8.11.6) with ESMTP id g6Q6r1430476\\n\\tfor <tim_timhunt_net@spamtraps.taint.org>; Fri, 26 Jul 2002 07:53:02 +0100\\nReceived: from minardi.isc.org (minardi.isc.org [204.152.189.14])\\n\\tby timhunt.net (8.11.3/8.11.1) with ESMTP id g6Q6qGE47635\\n\\tfor <ibarra@fsg.com>; Fri, 26 Jul 2002 02:52:17 -0400 (EDT)\\n\\t(envelope-from firewalls-bounce@isc.org)\\nReceived: from rc.isc.org (rc.isc.org [204.152.187.2])\\n\\tby minardi.isc.org (Postfix) with ESMTP\\n\\tid 2FA153D7C; Thu, 25 Jul 2002 23:51:42 -0700 (PDT)\\n\\t(envelope-from firewalls-bounce@isc.org)\\nReceived: with ECARTIS (v1.0.0; list firewalls); Thu, 25 Jul 2002 23:51:00 -0700 (PDT)\\nDate: Thu, 25 Jul 2002 23:51:00 -0700 (PDT)\\nFrom: ISC Mailing List Manager <ecartis@isc.org>\\nTo: firewalls digest users <ecartis@isc.org>\\nSubject: firewalls Digest V1 #33\\nPrecedence: bulk\\nMessage-Id: <20020726065142.2FA153D7C@minardi.isc.org>\\n\\nfirewalls Digest\\tThu, 25 Jul 2002\\tVolume: 01  Issue: 033\\n\\nIn This Issue:\\n\\t\\tRe: QOS\\n\\t\\tFW: disable some sites\\n\\t\\tDNAT with iptables question\\n\\t\\tRE: DNAT with iptables question\\n\\n----------------------------------------------------------------------\\n\\nFrom: \"George J. Jahchan\" <Firewalls@Tech.InteractiveNetworks.net>\\nSubject: Re: QOS\\nDate: Thu, 25 Jul 2002 12:11:40 +0300\\n\\n\\n> So, I\\'m forced to conclude that the PacketShaper either sucks in a major\\n> way, or that your explanation/the explanation that you have been given of\\n> it is wrong. (Sorry.)\\n\\nYou are wrong on both counts. Explanation is valid for symmetrical TCP, for\\nothers see explanations below.\\n\\n> Yes, all packets in an established TCP connection have the ACK flag set.\\n> So all packets except SYNs are candidates for delay when traffic limits\\n> are exceeded? Whoops.\\n\\nYou should change that to: ... are always candidates for predictive or\\npreventive delay.\\n\\nACKs are delayed (per flow) in such a way that WAN-bound traffic reaching\\nthe edge router\\'s Ethernet interface does not exceed WAN link speed (NO\\nROUTER QUEUES!). It does not wait for the link to be at or near saturation\\nto act -- that is why, unlike queueing, it is predictive and not reactive.\\n\\nIt slows down the rate of transmission of sending hosts (on a per-flow\\nbasis) to accommodate WAN link speed limit and current network utilization,\\nrather than fill up queues at LAN speeds and empty them at WAN speeds,\\neventually dropping the excess once the queue(s) fill up, informing hosts to\\nslow down their rate of transmission once queues are beyond a fixed\\nthreshold (90%?).\\n\\nRate control works equally well for outbound and inbound traffic. Ever heard\\nof an effective queueing technology for inbound traffic? Queueing packets\\nafter they have crossed a congested link does not make much sense, does it?\\n\\nRe: IPsec/GRE or other encapsulated traffic\\n\\nIt obviously cannot dissect IPsec/GRE or other encapsulated traffic: it sees\\nthe tunnel as one connection if the tunneling device is before the PS on the\\nLAN side (VPN gateway and router are two separate devices, PS between them).\\nIf the router does the tunneling, then the PS sees clear traffic. Typically,\\nin an organization the first scenario would be the case at headquarters and\\nthe second at branch offices. The PS at the branch sees traffic inside the\\ntunnel whereas the unit at HQ sees all traffic as one tunnel which allows\\nfull management of both tunneled and clear traffic at both ends.\\n\\nUDP and asymmetrical TCP (where the PS and router only see the outgoing\\npacket, return traffic coming back through a satellite downlink to a station\\non the LAN) are handled differently.\\n\\nFor asymmetrical TCP, it will time the release of packets to the receiving\\ndevice, thereby indirectly timing the release of acknowledgements by the\\nreceiving host. This informs the sender\\'s TCP/IP stack that it should slow\\nthe release of packets because limited bandwidth is available.\\n\\nFor UDP, it utilizes flow-based derivative random drop. It selectively drops\\nonly one packet at a time from flows that are predicted to cause congestion,\\nwhich prevents heavy retransmissions and application timeouts.\\n\\nICMP packets exceeding policy limits are dropped.\\n\\n>_Maybe_ you can do a special case for TCP and try to offload some of the\\nqueueing on\\n> the endpoints, but I really don\\'t see the real gain in that.\\n\\nThe real gain is manageability and control. A LAN host only knows about the\\nstate of its own connections and is oblivious to WAN conditions until its\\nTCP/IP stack learns (when router queues are nearly full) that the WAN is\\ncongested. A PS will predict and inform the LAN hosts\\' TCP/IP stacks of the\\n\"speed limit to obey\" for every connection (based on policies and network\\nconditions), avoiding congestion. Control for asymmetrical TCP and UDP may\\nnot be as \"tight\" as for symmetrical TCP, but it does work.\\n\\nQueueing is akin to deploying cops only when traffic jams occur, vs. rate\\ncontrol where cops are permanently deployed throughout town, communicating\\nwith each other and with a central control point, predicting upcoming\\ncongestion and regulating traffic, ensuring a smooth flow of traffic. If\\nthere is potential for congestion, it will take a driver a hell of lot\\nlonger to cross town with first approach than it will with the second. Do\\nyou agree?\\n\\n----- Original Message -----\\nFrom: \"Mikael Olsson\" <mikael.olsson@clavister.com>\\nTo: \"George J. Jahchan\" <Firewalls@Tech.InteractiveNetworks.net>\\nCc: \"Firewalls List\" <Firewalls@ISC.org>\\nSent: Wednesday, July 24, 2002 4:50 pm\\nSubject: Re: QOS\\n\\n\\n\\n\\n\"George J. Jahchan\" wrote:\\n>\\n> The whole purpose of the device is to pro-actively prevent WAN\\ncongestion --\\n> it sits between client and server (client inside/server outside or client\\n> outside/server inside -- it does not make any difference) and pro-actively\\n> adjusts the TCP window size (by delaying the acknowledgement) to get the\\n> sending host to honor the speed limit for that individual connection\\n> (calculated in real-time based on user-defined policies and current\\nnetwork\\n> conditions).\\n\\nUmm, don\\'t get me wrong here, but I think you\\'ve been fed a less-than-\\naccurate sales pitch.\\n\\nLet\\'s ponder this for a minute.\\n\\nThe device works by delaying ACKs... that is: packets with the ACK\\nflag set, right?\\n\\n...\\n\\n[letting this sink in for a while]\\n\\n...\\n\\nYes, all packets in an established TCP connection have the ACK flag set.\\nSo all packets except SYNs are candidates for delay when traffic limits\\nare exceeded? Whoops.\\n\\n\\nOkay, let\\'s assume for a second that the packets aren\\'t actually delayed,\\nbut that the ACK sequence numbers or TCP window size fields are re-written\\n(dicey). All you\\'ve accomplished is move the queueing (delaying) from\\nthe traffic shaper to the endpoints. You still get L7-to-L7 delays. Big\\ndeal if it happens on the wire or in the stack. Also, convincing endpoints\\nto do delays probably results in less-than-perfect shaping since stack\\nretransmit timings suddenly affect the actual bandwidth available rather\\nthan having the shaper itself do it; the shaper knows exactly when there\\nis bandwidth available.\\n\\nBut this doesn\\'t even begin to touch on other protocols like UDP or\\nICMP. Or, for that matter, IPsec/GRE/whatever tunneled traffic.\\nNeither of them have sequence numbers or window sizes that you can\\nmanipulate.\\n\\n\\nSo, I\\'m forced to conclude that the PacketShaper either sucks in a major\\nway, or that your explanation/the explanation that you have been given of\\nit is wrong. (Sorry.)\\n\\nWhat I think happens is that the delay is <=2msec as long as traffic\\nlimits aren\\'t exceeded. This is reasonable. BUT when traffic exceeds\\nthe limits, things will begin to be queued. Now, with a well-behaved\\nTCP stack, this _will_ mean that it will fall back to lower transmission\\nrates; this is how TCP was designed, so that part isn\\'t all wrong.\\n\\nAnd, again, this kind of shaping isn\\'t rocket science. That is not to\\nsay that there are shapers out there that are just being plain dumb\\n(always queueing and the selecting what gets transmitted out of the\\nqueue), but, well, I just can\\'t see that you can get any smarter\\nthan queueing when limits are actually exceeded.  _Maybe_ you can do\\na special case for TCP and try to offload some of the queueing on the\\nendpoints, but I really don\\'t see the real gain in that.\\n\\n\\nRespectfully,\\n/Mikael Olsson\\n\\n--\\nMikael Olsson, Clavister AB\\nStorgatan 12, Box 393, SE-891 28 ÖRNSKÖLDSVIK, Sweden\\nPhone: +46 (0)660 29 92 00   Mobile: +46 (0)70 26 222 05\\nFax: +46 (0)660 122 50       WWW: http://www.clavister.com\\n\\n\"It\\'s July. I\\'m on vacation. Can\\'t you tell? :)\"\\n--\\nFirewalls mailing list - [ firewalls@isc.org ]\\nTo unsubscribe: http://www.isc.org/services/public/lists/firewalls.html\\n\\n\\n\\n------------------------------\\n\\nFrom: \"Hiemstra, Brenno\" <brenno.hiemstra@ignite.nl>\\nSubject: FW: disable some sites\\nDate: Thu, 25 Jul 2002 13:44:18 +0200\\n\\n\\nThe list addy changed ofcourse   :o)\\n\\n> -----Original Message-----\\n> From:\\tHiemstra, Brenno \\n> Sent:\\tdonderdag 25 juli 2002 12:27\\n> To:\\t\\'Michael Zhao\\'; Hiemstra, Brenno\\n> Cc:\\tfirewalls@lists.gnac.net\\n> Subject:\\tRE: disable some sites\\n> \\n> Michael,\\n> \\n> If I was in your shoes I would first investigate if there\\n> is a security policy in your organisation. If you dont know\\n> what I mean by a security policy I would advice you to \\n> start reading about it. A search on google would be of a\\n> big help for you.\\n> \\n> If there is a security policy I would read it and investigate\\n> what is tells about how employees are able to use their\\n> workstations for performing their function. In a security \\n> policy there should be things what employees are allowed\\n> to do on the network / internet and what not.\\n> \\n> If there isnt a security policy I would advice you to implement\\n> one in your company. Because without one you cant punish\\n> employees by violating the policy and if there is a court case\\n> you dont have any rock solid thing to smack around with.\\n> \\n> Without a policy you are just implementing solutions to prevent\\n> employees in doing things that, im my opinion, they arent allowed\\n> to do on their workstations anyway. I dont like the idea that \\n> employees play games, use kazaa, ICQ, MSN, etc etc in stead\\n> of working what we pay them to do. This is why a security policy\\n> is important because then you can say to employees that they\\n> violated it and that there are consequences for that (deny internet\\n> access, etc etc).\\n> \\n> Owkee...    now that this is out of the way time to proceed about\\n> the proxy thingie.\\n> \\n> A proxy dont have to be the default gateway of your network to\\n> use it. It is a function in Internet Explorer or whatever browser you\\n> use in your network.\\n> \\n> If you ask me Checkpoint Firewalls are just good in using for what\\n> their real purpose is and that is firewalling a network. I dont like the\\n> idea that my firewall is also CVS http thingie because I dont think\\n> a firewall is its purpose to do that. Proxies are a much better solutions\\n> for that and they are also developed for that purpose.\\n> \\n> Depending on your network setup and the OS and Proxy brand of your\\n> current proxy you have several solutions which was already provided \\n> by people on this list. My favorite proxy is Squid and there are probably\\n> a lot of http blacklist programs that work with Squid to block websites\\n> and stuff.\\n> \\n> I still think you should first deny direct internet traffic from\\n> workstations.\\n> and only allow traffic to the internet from servers that are allowed to do\\n> so. You should think about proxies, email servers, etc etc. This should\\n> also prevent people from playing games, especially those Quake kinda\\n> games because those use ports that arent necessary for normal \\n> webbrowsing. Games running over port 80 and not http related are blocked\\n> by the proxy if that proxy is a true Layer 7 application layer proxy.\\n> These\\n> kinda proxies can view in the TCP/IP packet and see if this is legitimate \\n> http traffic or that someone tries to tunnel something over port 80.\\n> \\n> Anyway...    again food for some thoughts,\\n> \\n> Regards,\\n> \\n> \\n> \\n> Brenno\\n> \\n> \\n> -----Original Message-----\\n> From:\\tMichael Zhao [SMTP:mzhao@everlastingsystems.com]\\n> Sent:\\twoensdag 24 juli 2002 2:38\\n> To:\\tHiemstra, Brenno\\n> Cc:\\tfirewalls@lists.gnac.net\\n> Subject:\\tRe: disable some sites\\n> \\n> Thanks your reply.\\n> \\n> I built up my network three years ago . I have proxy which we only use \\n> cache to accelerate our internet accessing , it is not a gateway . It is \\n> too difficult to change the topology , many thing need to be changed.\\n> \\n> Did you have another idea to help me? Someone suggest me to buy the \\n> websence , but I dont have the budget right now.\\n> \\n> Thanks a lot\\n> \\n> Michael\\n> \\n> Hiemstra, Brenno wrote:\\n> \\n> >Michael,\\n> >\\n> >The first thing is to build a security policy that\\n> >states what people are allowed to do and what\\n> >not. Everyone needs to accept this policy and \\n> >if they violate it you can apply rules that you state\\n> >in your security policy.\\n> >\\n> >If I had the option for your network setup I would\\n> >install a proxy server and demand every client\\n> >to connect to the proxy if they want to use the \\n> >internet.\\n> >\\n> >The proxy will only allow http, ftp, and other \"approved\"\\n> >services to connect to the internet. And you can let\\n> >them check to some database which websites are\\n> >allowed and deny access to sites that aren\\'t allowed\\n> >\\n> >Your company firewall will only allow the proxy to connect\\n> >to the internet. Clients are denied.\\n> >\\n> >This way the clients cant connect directly to the internet\\n> >game servers and on the proxy you can deny clients\\n> >to connect to the game servers.\\n> >\\n> >I hope this is an option for you.\\n> >\\n> >Regards,\\n> >\\n> >\\n> >Brenno\\n> >\\n> >>-----Original Message-----\\n> >>From:\\tMichael Zhao [SMTP:mzhao@everlastingsystems.com]\\n> >>Sent:\\tdinsdag 23 juli 2002 14:10\\n> >>To:\\tfirewalls@lists.gnac.net\\n> >>Subject:\\tdisable some sites\\n> >>\\n> >>Hi , all\\n> >>\\n> >>I choose checkpoint fw-1 as my firewall . I found many company users \\n> >>play internet games like CS, ourgame . I find users download their \\n> >>clients software and install  on their local workstation , after run it \\n> >>, the programe can connect to game server automatically .\\n> >>\\n> >>Usally , there are many sites of every internet game server. I.E. I want\\n> \\n> >>disable accessing the game servers like xxx.ourgame.com from my internal\\n> \\n> >>net , how can I do that except find all of their IP address , because it\\n> \\n> >>is so complecat to do . Who can tell me .\\n> >>\\n> >>Regards,\\n> >>Michael\\n> >>\\n> >>-- \\n> >>Firewalls mailing list - [ firewalls@isc.org ]\\n> >>To unsubscribe: http://www.isc.org/services/public/lists/firewalls.html\\n> >>\\n> \\n\\n------------------------------\\n\\nDate: Thu, 25 Jul 2002 15:08:21 -0600\\nFrom: Jerry Lynde <jlynde@diligence.com>\\nSubject: DNAT with iptables question\\n\\n\\nHowdy folks,\\n\\nI\\'ve been scouring the online docs for solid info on how to accomplish DNAT \\nwith iptables.\\n\\nEssentially, I have converted the ipmasqadm lines of the form...\\n\\nipmasqadm portfw -a -P tcp -L $WEB_OUT  http    -R $WEB_IN      http\\n\\nto iptables lines of the form...\\n\\n$IPTABLES -A PREROUTING -t nat -p tcp -d $WEB_OUT --dport 80 -j DNAT --to \\n$WEB_IN:80\\n\\nwith the accompanying lines...\\n\\n\\n$IPTABLES -A FORWARD -i $INTIF -o $EXTIF -m state --state \\nESTABLISHED,RELATED -j ACCEPT\\n$IPTABLES -A FORWARD -i $EXTIF -o $INTIF -m state --state \\nESTABLISHED,RELATED -j ACCEPT\\n$IPTABLES -A FORWARD -i $EXTIF -o $INTIF -p tcp -j ACCEPT\\n\\nThe last two lines seem functionally sorta redundant, but I threw em in in \\nan effort to make this work.\\nSo far, I am unable to show that it\\'s working correctly... I even tried \\nlogging all packets...\\n\\n$IPTABLES -A FORWARD -i $INTIF -p tcp -j LOG --log-level info\\n$IPTABLES -A FORWARD -i $EXTIF -p tcp -j LOG --log-level info\\n\\nBut nothing show up in /var/log/messages or anywhere else for that matter. \\nThis is on a Redhat 7.3 box.\\nAny help, clues, flames, RT(his particular)FM, etc are appreciated.\\n\\nI read the list, so please don\\'t reply directly in addition to the list \\nresposne.\\n\\n\\nThanks,\\n\\nJer \\n\\n\\n------------------------------\\n\\nFrom: \"Reckhard, Tobias\" <tobias.reckhard@secunet.com>\\nSubject: RE: DNAT with iptables question\\nDate: Fri, 26 Jul 2002 08:32:37 +0200\\n\\n\\n> $IPTABLES -A PREROUTING -t nat -p tcp -d $WEB_OUT --dport 80 \\n> -j DNAT --to \\n> $WEB_IN:80\\n> \\n> with the accompanying lines...\\n> \\n> \\n> $IPTABLES -A FORWARD -i $INTIF -o $EXTIF -m state --state \\n> ESTABLISHED,RELATED -j ACCEPT\\n> $IPTABLES -A FORWARD -i $EXTIF -o $INTIF -m state --state \\n> ESTABLISHED,RELATED -j ACCEPT\\n> $IPTABLES -A FORWARD -i $EXTIF -o $INTIF -p tcp -j ACCEPT\\n> \\n> The last two lines seem functionally sorta redundant, but I \\n> threw em in in \\n> an effort to make this work.\\n\\nYou\\'re missing the NEW state. The initial SYN packet will not match with\\neither of the first two rules. It should match the third if it\\'s inbound,\\nthough.\\n\\n> So far, I am unable to show that it\\'s working correctly... I \\n> even tried \\n> logging all packets...\\n> \\n> $IPTABLES -A FORWARD -i $INTIF -p tcp -j LOG --log-level info\\n> $IPTABLES -A FORWARD -i $EXTIF -p tcp -j LOG --log-level info\\n> \\n> But nothing show up in /var/log/messages or anywhere else for \\n> that matter. \\n\\nYou need to insert those logging rules above any ACCEPT, REJECT or DENY\\nrules for them to be of any use. Are you sure the packets are hitting the\\nbox at all? Try moving the log rules to the top of the FORWARD chain,\\nintroduce logging rules to the PREROUTING, POSTROUTING, INPUT and OUTPUT\\nchains, and/or use tcpdump as well to see where the packets are travelling.\\n\\nCheers\\nTobias\\n\\n------------------------------\\n\\nEnd of firewalls Digest V1 #33\\n******************************\\n\\n\\n']\n"
          ],
          "name": "stdout"
        }
      ]
    },
    {
      "cell_type": "code",
      "metadata": {
        "id": "OQcecjwxOHM4"
      },
      "source": [
        "def count_email_types(arr):\n",
        "  parts = {}\n",
        "  parts_decoded = {}\n",
        "  for text in arr:\n",
        "    msg = email.message_from_string(text)\n",
        "    if msg.is_multipart():\n",
        "      for part in msg.walk():\n",
        "        parts[part.get_content_type()] = part.get_payload()\n",
        "        parts_decoded[part.get_content_type()] = part.get_payload(decode=True)\n",
        "    else:\n",
        "        parts[msg.get_content_type()] = part.get_payload()\n",
        "        parts_decoded[msg.get_content_type()] = msg.get_payload(decode=True)\n",
        "  return parts, parts_decoded\n",
        "\n",
        "with tf.device('/device:GPU:0'):\n",
        "  trec_types, trec_decoded = count_email_types(trec_texts)"
      ],
      "execution_count": null,
      "outputs": []
    },
    {
      "cell_type": "code",
      "metadata": {
        "colab": {
          "base_uri": "https://localhost:8080/",
          "height": 172
        },
        "id": "fSL18aAVRJdV",
        "outputId": "ca6be58e-b6bc-4b09-ae8c-4d3e16e1d810"
      },
      "source": [
        "print(trec_types['message/rfc822']"
      ],
      "execution_count": null,
      "outputs": [
        {
          "output_type": "error",
          "ename": "AttributeError",
          "evalue": "ignored",
          "traceback": [
            "\u001b[0;31m---------------------------------------------------------------------------\u001b[0m",
            "\u001b[0;31mAttributeError\u001b[0m                            Traceback (most recent call last)",
            "\u001b[0;32m<ipython-input-13-cb836d762b6e>\u001b[0m in \u001b[0;36m<module>\u001b[0;34m()\u001b[0m\n\u001b[0;32m----> 1\u001b[0;31m \u001b[0mprint\u001b[0m\u001b[0;34m(\u001b[0m\u001b[0mtrec_types\u001b[0m\u001b[0;34m[\u001b[0m\u001b[0;34m'message/rfc822'\u001b[0m\u001b[0;34m]\u001b[0m\u001b[0;34m.\u001b[0m\u001b[0mget_payload\u001b[0m\u001b[0;34m(\u001b[0m\u001b[0;34m)\u001b[0m\u001b[0;34m)\u001b[0m\u001b[0;34m\u001b[0m\u001b[0;34m\u001b[0m\u001b[0m\n\u001b[0m",
            "\u001b[0;31mAttributeError\u001b[0m: 'list' object has no attribute 'get_payload'"
          ]
        }
      ]
    },
    {
      "cell_type": "code",
      "metadata": {
        "id": "fhA6k8hiObVU"
      },
      "source": [
        "def tag_visible(element):\n",
        "  if element.parent.name in ['style', 'script', 'head', 'title', 'meta', '[document]'] or isinstance(element, Comment):\n",
        "      return False\n",
        "  else:\n",
        "      return True\n",
        "\n",
        "def process_html(txt):\n",
        "  soup = BeautifulSoup(txt, 'html.parser')\n",
        "  texts = soup.findAll(text=True)\n",
        "  visible_texts = filter(tag_visible, texts)\n",
        "  return ' '.join(visible_texts) \n",
        "\n",
        "def process_part(part):\n",
        "  if part.get_content_type() == 'text/':\n",
        "    return part.get_payload(decode=True).decode('latin-1')\n",
        "  if part.get_content_maintype() == \"text\" or part.get_content_maintype() == \"plain\":\n",
        "    txt = part.get_payload(decode=True).decode('latin-1')\n",
        "    if bool(BeautifulSoup(txt, \"html.parser\").find()):\n",
        "      return process_html(txt)\n",
        "    elif part.get_content_subtype() == 'plain' or part.get_content_subtype() == 'enriched' or part.get_content_subtype() == 'text':\n",
        "      return txt\n",
        "    else:\n",
        "      return ''\n",
        "  else:\n",
        "    return ''\n",
        "    \n",
        "\n",
        "def process_email(email):\n",
        "  email_txt = ''\n",
        "  if email.is_multipart():\n",
        "    for part in email.walk():\n",
        "      if part.get_content_maintype() == \"multipart\" or part.get_content_maintype() == 'image':\n",
        "        continue\n",
        "      email_txt += process_part(part)\n",
        "  else:\n",
        "    email_txt = process_part(email)\n",
        "  return email_txt\n",
        "\n",
        "def get_processed_arr(texts):\n",
        "  for i in range(len(texts)):\n",
        "    texts[i] = process_email(email.message_from_string(texts[i]))\n",
        "  return texts"
      ],
      "execution_count": null,
      "outputs": []
    },
    {
      "cell_type": "code",
      "metadata": {
        "colab": {
          "base_uri": "https://localhost:8080/"
        },
        "id": "gYGBmZNIIiBb",
        "outputId": "cdaa9237-e3e7-40fc-95fe-dd850e670aae"
      },
      "source": [
        "sa_texts = get_processed_arr(sa_texts)"
      ],
      "execution_count": null,
      "outputs": [
        {
          "output_type": "stream",
          "text": [
            "/usr/local/lib/python3.6/dist-packages/bs4/__init__.py:336: UserWarning: \"http://www.rebackee.com/cursos2/contraloria.htm\n",
            "\" looks like a URL. Beautiful Soup is not an HTTP client. You should probably use an HTTP client like requests to get the document behind the URL, and feed that document to Beautiful Soup.\n",
            "  ' that document to Beautiful Soup.' % decoded_markup\n",
            "/usr/local/lib/python3.6/dist-packages/bs4/__init__.py:336: UserWarning: \"http://www.post-gazette.com/columnists/20020905brian5.asp\n",
            "\n",
            "\n",
            "\n",
            "\" looks like a URL. Beautiful Soup is not an HTTP client. You should probably use an HTTP client like requests to get the document behind the URL, and feed that document to Beautiful Soup.\n",
            "  ' that document to Beautiful Soup.' % decoded_markup\n"
          ],
          "name": "stderr"
        }
      ]
    },
    {
      "cell_type": "code",
      "metadata": {
        "id": "1-GFpjSZpGyB"
      },
      "source": [
        "trec_texts = get_processed_arr(trec_texts)\n",
        "trec1_texts, trec2_texts, trec1_classes, trec2_classes = train_test_split(trec_texts, trec_classes, test_size=0.5, random_state=42)\n",
        "trec1_texts, trec3_texts, trec1_classes, trec3_classes = train_test_split(trec1_texts, trec1_classes, test_size=0.5, random_state=42)\n",
        "trec4_texts, trec2_texts, trec4_classes, trec2_classes = train_test_split(trec2_texts, trec2_classes, test_size=0.5, random_state=42)\n",
        "trec1_texts, trec5_texts, trec1_classes, trec5_classes = train_test_split(trec1_texts, trec1_classes, test_size=0.5, random_state=42)\n",
        "trec6_texts, trec2_texts, trec6_classes, trec2_classes = train_test_split(trec2_texts, trec2_classes, test_size=0.5, random_state=42)\n",
        "trec3_texts, trec7_texts, trec3_classes, trec7_classes = train_test_split(trec3_texts, trec3_classes, test_size=0.5, random_state=42)\n",
        "trec4_texts, trec8_texts, trec4_classes, trec8_classes = train_test_split(trec4_texts, trec4_classes, test_size=0.5, random_state=42)"
      ],
      "execution_count": null,
      "outputs": []
    },
    {
      "cell_type": "code",
      "metadata": {
        "id": "Qe-yekBNqcgz"
      },
      "source": [
        "ceas_texts = get_processed_arr(ceas_texts)\n",
        "ceas1_texts, ceas2_texts, ceas1_classes, ceas2_classes = train_test_split(ceas_texts, ceas_classes, test_size=0.5, random_state=42)\n",
        "ceas1_texts, ceas3_texts, ceas1_classes, ceas3_classes = train_test_split(ceas1_texts, ceas1_classes, test_size=0.5, random_state=42)\n",
        "ceas2_texts, ceas4_texts, ceas2_classes, ceas4_classes = train_test_split(ceas2_texts, ceas2_classes, test_size=0.5, random_state=42)\n",
        "ceas1_texts, ceas5_texts, ceas1_classes, ceas5_classes = train_test_split(ceas1_texts, ceas1_classes, test_size=0.5, random_state=42)\n",
        "ceas2_texts, ceas6_texts, ceas2_classes, ceas6_classes = train_test_split(ceas2_texts, ceas2_classes, test_size=0.5, random_state=42)\n",
        "ceas3_texts, ceas7_texts, ceas3_classes, ceas7_classes = train_test_split(ceas3_texts, ceas3_classes, test_size=0.5, random_state=42)\n",
        "ceas4_texts, ceas8_texts, ceas4_classes, ceas8_classes = train_test_split(ceas4_texts, ceas4_classes, test_size=0.5, random_state=42)"
      ],
      "execution_count": null,
      "outputs": []
    },
    {
      "cell_type": "code",
      "metadata": {
        "id": "T7v84rikge0x"
      },
      "source": [
        "\"\"\"\n",
        "Tokenize and lemmatize document\n",
        "\"\"\"\n",
        "def tokenize_and_lemmatize(raw_text):\n",
        "    regex = re.compile('[^a-zA-Z ]')\n",
        "    raw_text = regex.sub(' ', raw_text)\n",
        "    tokens = nltk.word_tokenize(raw_text)\n",
        "    stop_words = stopwords.words('english')\n",
        "    lemmatizer = WordNetLemmatizer()\n",
        "    tokens = [lemmatizer.lemmatize(word) for word in tokens if word not in stop_words]     \n",
        "    return tokens\n",
        "\n",
        "def get_tokens_arr(email_texts):\n",
        "  tokens_arr = []\n",
        "  for raw_text in email_texts:\n",
        "    tokens_arr.append(tokenize_and_lemmatize(raw_text.lower()))\n",
        "  return tokens_arr"
      ],
      "execution_count": null,
      "outputs": []
    },
    {
      "cell_type": "code",
      "metadata": {
        "id": "kGsoosl504Jh"
      },
      "source": [
        "INF = 1000000000\n",
        "N_FEATURES = 10000\n",
        "UNIQUE_FEATURE_THR = 50\n",
        "\n",
        "\n",
        "\"\"\"\n",
        "Afgorithm TFDCR of feature selection with BOW\n",
        "\"\"\"\n",
        "def tfdcr(tokens, classes):\n",
        "  features = np.unique(np.concatenate(tokens, axis=None))\n",
        "  features_weight = np.zeros(len(features))\n",
        "  leg_docs = np.array([tokens[i] for i in range(len(tokens)) if not classes[i]])\n",
        "  spam_docs = np.array([tokens[i] for i in range(len(tokens)) if classes[i]])\n",
        "  counter_leg = [Counter(email) for email in leg_docs]\n",
        "  counter_spam = [Counter(email) for email in spam_docs]\n",
        "  counter_all = [Counter(email) for email in tokens]\n",
        "  for i, term in enumerate(features):\n",
        "    term_freq_spam = 0\n",
        "    term_freq_leg = 0\n",
        "    doc_freq_spam = 0\n",
        "    doc_freq_leg = 0\n",
        "    for j in range(len(leg_docs)):\n",
        "        if counter_leg[j][term] != 0:\n",
        "            doc_freq_leg += 1\n",
        "            term_freq_leg += counter_leg[j][term]\n",
        "    for j in range(len(spam_docs)):\n",
        "        if counter_spam[j][term] != 0:\n",
        "            doc_freq_spam += 1\n",
        "            term_freq_spam += counter_spam[j][term]\n",
        "    if doc_freq_leg == 0 or doc_freq_spam == 0:\n",
        "      if term_freq_leg + term_freq_spam >= UNIQUE_FEATURE_THR:\n",
        "        features_weight[i] = INF\n",
        "      else:\n",
        "        features_weight[i] = 0\n",
        "    else:\n",
        "      product = doc_freq_spam / len(spam_docs) * len(leg_docs) / doc_freq_leg if doc_freq_spam / len(spam_docs) > doc_freq_leg / len(leg_docs) else doc_freq_leg / len(leg_docs) * len(spam_docs) / doc_freq_spam\n",
        "      features_weight[i] = np.abs(term_freq_leg - term_freq_spam) * product\n",
        "  ids = features_weight.argsort()\n",
        "  best_features = features[ids[::-1]][:min(N_FEATURES, len(features)):]\n",
        "  vectors = np.zeros((len(tokens), len(best_features)))\n",
        "  for i in range(len(tokens)):\n",
        "    for j in range(len(best_features)):\n",
        "      vectors[i][j] = counter_all[i][best_features[j]]\n",
        "  return vectors"
      ],
      "execution_count": null,
      "outputs": []
    },
    {
      "cell_type": "code",
      "metadata": {
        "id": "9QipoMYnczRb"
      },
      "source": [
        "INF = 1000000000\n",
        "N_FEATURES = 10000\n",
        "UNIQUE_FEATURE_THR = 50\n",
        "\n",
        "\n",
        "\"\"\"\n",
        "Afgorithm TFDCR of feature selection with TFIDF\n",
        "\"\"\"\n",
        "def tfdcr(tokens, classes):\n",
        "  features = np.unique(np.concatenate(tokens, axis=None))\n",
        "  features_weight = np.zeros(len(features))\n",
        "  leg_docs = np.array([tokens[i] for i in range(len(tokens)) if not classes[i]])\n",
        "  spam_docs = np.array([tokens[i] for i in range(len(tokens)) if classes[i]])\n",
        "  counter_leg = [Counter(email) for email in leg_docs]\n",
        "  counter_spam = [Counter(email) for email in spam_docs]\n",
        "  counter_all = [Counter(email) for email in tokens]\n",
        "  for i, term in enumerate(features):\n",
        "    term_freq_spam = 0\n",
        "    term_freq_leg = 0\n",
        "    doc_freq_spam = 0\n",
        "    doc_freq_leg = 0\n",
        "    for j in range(len(leg_docs)):\n",
        "        if counter_leg[j][term] != 0:\n",
        "            doc_freq_leg += 1\n",
        "            term_freq_leg += counter_leg[j][term]\n",
        "    for j in range(len(spam_docs)):\n",
        "        if counter_spam[j][term] != 0:\n",
        "            doc_freq_spam += 1\n",
        "            term_freq_spam += counter_spam[j][term]\n",
        "    if doc_freq_leg == 0 or doc_freq_spam == 0:\n",
        "      if term_freq_leg + term_freq_spam >= UNIQUE_FEATURE_THR:\n",
        "        features_weight[i] = INF\n",
        "      else:\n",
        "        features_weight[i] = 0\n",
        "    else:\n",
        "      product = doc_freq_spam / len(spam_docs) * len(leg_docs) / doc_freq_leg if doc_freq_spam / len(spam_docs) > doc_freq_leg / len(leg_docs) else doc_freq_leg / len(leg_docs) * len(spam_docs) / doc_freq_spam\n",
        "      features_weight[i] = np.abs(term_freq_leg - term_freq_spam) * product\n",
        "  ids = features_weight.argsort()\n",
        "  best_features = features[ids[::-1]][:min(N_FEATURES, len(features)):]\n",
        "  vectors = np.zeros((len(tokens), len(best_features)))\n",
        "  for i in range(len(tokens)):\n",
        "    for j in range(len(best_features)):\n",
        "      vectors[i][j] = counter_all[i][best_features[j]]\n",
        "  tf  = TfidfTransformer()\n",
        "  return tf.fit_transform(vectors, classes)"
      ],
      "execution_count": null,
      "outputs": []
    },
    {
      "cell_type": "code",
      "metadata": {
        "id": "Bc9GRPE1kn0G"
      },
      "source": [
        "ALPHA = 0.5\n",
        "BETA = 0.5\n",
        "\n",
        "def find_best_solution(features, classes, whales, validation_X, validation_y):\n",
        "  clf = KNeighborsClassifier()\n",
        "  ans = None\n",
        "  best_score = 0\n",
        "  for whale in whales:\n",
        "    print(1)\n",
        "    cur_features = features[:, whale.astype(np.bool)]\n",
        "    clf.fit(cur_features, classes)\n",
        "    score = clf.score(validation_X[:, whale.astype(np.bool)], validation_y)\n",
        "    score = ALPHA * (1 - score) + BETA * len(cur_features[0]) / len(features[0])\n",
        "    if score < best_score:\n",
        "      best_score = score\n",
        "      ans = whale\n",
        "  return ans\n",
        "\n",
        "\n",
        "def woa(features, classes, n_whales, validation_X, validation_y, max_iters, B):\n",
        "  whales = np.random.randint(0, 2, (n_whales, len(features[0])))\n",
        "  prey = find_best_solution(features, classes, whales, validation_X, validation_y)\n",
        "  for t in range(max_iters):\n",
        "    print(t)\n",
        "    a = 2 - 2 * t / max_iters\n",
        "    for i in len(whales):\n",
        "      r = np.random.random(len(whales[0]))\n",
        "      print(r)\n",
        "      A = 2 * a * r - a\n",
        "      C = 2 * r\n",
        "      if (np.random.random() >= 0.5):\n",
        "        D = np.abs(whales[i] - prey)\n",
        "        l = np.random.random() * 2.0 - 1\n",
        "        whales[i] = D * np.exp(B * l) * np.cos(2 * np.pi * l) + prey\n",
        "      elif np.linalg.norm(A) < 1:\n",
        "        D = np.abs(C * prey - whales[i])\n",
        "        whales[i] = prey - A * D\n",
        "      else:\n",
        "        rand_whale = whales[np.random.randint(0, n_whales)]\n",
        "        D = np.abs(C * rand_whale - whales[i])\n",
        "        whales[i] = rand_whale - A * D\n",
        "      whales[i] = (whales[i] >= 0.5).astype('int')\n",
        "    prey = find_best_solution(features, classes, whales, validation_X, validation_y)\n",
        "  return features[:, prey.astype(np.bool)]"
      ],
      "execution_count": null,
      "outputs": []
    },
    {
      "cell_type": "code",
      "metadata": {
        "colab": {
          "base_uri": "https://localhost:8080/",
          "height": 362
        },
        "id": "8AfEAWn6wPmX",
        "outputId": "327cb174-3d31-4a30-9eac-d9c570d53d12"
      },
      "source": [
        "def do_tests_with_woa(clf, texts, classes, out_prefix):\n",
        "  with tf.device('/device:GPU:0'):\n",
        "    cv = CountVectorizer(tokenizer=tmp, preprocessor=tmp)\n",
        "    vecs = cv.fit_transform(get_tokens_arr(texts)).toarray()\n",
        "    X, X_val, y, y_val = train_test_split(vecs, classes, test_size=0.33)\n",
        "    print(woa(X, y, 10, X_val, y_val, 12, 1))\n",
        "\n",
        "do_tests_with_woa(1, sa_texts, sa_classes, \"\")"
      ],
      "execution_count": null,
      "outputs": [
        {
          "output_type": "error",
          "ename": "KeyboardInterrupt",
          "evalue": "ignored",
          "traceback": [
            "\u001b[0;31m---------------------------------------------------------------------------\u001b[0m",
            "\u001b[0;31mKeyboardInterrupt\u001b[0m                         Traceback (most recent call last)",
            "\u001b[0;32m<ipython-input-14-4815be155956>\u001b[0m in \u001b[0;36m<module>\u001b[0;34m()\u001b[0m\n\u001b[1;32m      6\u001b[0m     \u001b[0mprint\u001b[0m\u001b[0;34m(\u001b[0m\u001b[0mwoa\u001b[0m\u001b[0;34m(\u001b[0m\u001b[0mX\u001b[0m\u001b[0;34m,\u001b[0m \u001b[0my\u001b[0m\u001b[0;34m,\u001b[0m \u001b[0;36m10\u001b[0m\u001b[0;34m,\u001b[0m \u001b[0mX_val\u001b[0m\u001b[0;34m,\u001b[0m \u001b[0my_val\u001b[0m\u001b[0;34m,\u001b[0m \u001b[0;36m12\u001b[0m\u001b[0;34m,\u001b[0m \u001b[0;36m1\u001b[0m\u001b[0;34m)\u001b[0m\u001b[0;34m)\u001b[0m\u001b[0;34m\u001b[0m\u001b[0;34m\u001b[0m\u001b[0m\n\u001b[1;32m      7\u001b[0m \u001b[0;34m\u001b[0m\u001b[0m\n\u001b[0;32m----> 8\u001b[0;31m \u001b[0mdo_tests_with_woa\u001b[0m\u001b[0;34m(\u001b[0m\u001b[0;36m1\u001b[0m\u001b[0;34m,\u001b[0m \u001b[0msa_texts\u001b[0m\u001b[0;34m,\u001b[0m \u001b[0msa_classes\u001b[0m\u001b[0;34m,\u001b[0m \u001b[0;34m\"\"\u001b[0m\u001b[0;34m)\u001b[0m\u001b[0;34m\u001b[0m\u001b[0;34m\u001b[0m\u001b[0m\n\u001b[0m",
            "\u001b[0;32m<ipython-input-14-4815be155956>\u001b[0m in \u001b[0;36mdo_tests_with_woa\u001b[0;34m(clf, texts, classes, out_prefix)\u001b[0m\n\u001b[1;32m      4\u001b[0m     \u001b[0mvecs\u001b[0m \u001b[0;34m=\u001b[0m \u001b[0mcv\u001b[0m\u001b[0;34m.\u001b[0m\u001b[0mfit_transform\u001b[0m\u001b[0;34m(\u001b[0m\u001b[0mget_tokens_arr\u001b[0m\u001b[0;34m(\u001b[0m\u001b[0mtexts\u001b[0m\u001b[0;34m)\u001b[0m\u001b[0;34m)\u001b[0m\u001b[0;34m.\u001b[0m\u001b[0mtoarray\u001b[0m\u001b[0;34m(\u001b[0m\u001b[0;34m)\u001b[0m\u001b[0;34m\u001b[0m\u001b[0;34m\u001b[0m\u001b[0m\n\u001b[1;32m      5\u001b[0m     \u001b[0mX\u001b[0m\u001b[0;34m,\u001b[0m \u001b[0mX_val\u001b[0m\u001b[0;34m,\u001b[0m \u001b[0my\u001b[0m\u001b[0;34m,\u001b[0m \u001b[0my_val\u001b[0m \u001b[0;34m=\u001b[0m \u001b[0mtrain_test_split\u001b[0m\u001b[0;34m(\u001b[0m\u001b[0mvecs\u001b[0m\u001b[0;34m,\u001b[0m \u001b[0mclasses\u001b[0m\u001b[0;34m,\u001b[0m \u001b[0mtest_size\u001b[0m\u001b[0;34m=\u001b[0m\u001b[0;36m0.33\u001b[0m\u001b[0;34m)\u001b[0m\u001b[0;34m\u001b[0m\u001b[0;34m\u001b[0m\u001b[0m\n\u001b[0;32m----> 6\u001b[0;31m     \u001b[0mprint\u001b[0m\u001b[0;34m(\u001b[0m\u001b[0mwoa\u001b[0m\u001b[0;34m(\u001b[0m\u001b[0mX\u001b[0m\u001b[0;34m,\u001b[0m \u001b[0my\u001b[0m\u001b[0;34m,\u001b[0m \u001b[0;36m10\u001b[0m\u001b[0;34m,\u001b[0m \u001b[0mX_val\u001b[0m\u001b[0;34m,\u001b[0m \u001b[0my_val\u001b[0m\u001b[0;34m,\u001b[0m \u001b[0;36m12\u001b[0m\u001b[0;34m,\u001b[0m \u001b[0;36m1\u001b[0m\u001b[0;34m)\u001b[0m\u001b[0;34m)\u001b[0m\u001b[0;34m\u001b[0m\u001b[0;34m\u001b[0m\u001b[0m\n\u001b[0m\u001b[1;32m      7\u001b[0m \u001b[0;34m\u001b[0m\u001b[0m\n\u001b[1;32m      8\u001b[0m \u001b[0mdo_tests_with_woa\u001b[0m\u001b[0;34m(\u001b[0m\u001b[0;36m1\u001b[0m\u001b[0;34m,\u001b[0m \u001b[0msa_texts\u001b[0m\u001b[0;34m,\u001b[0m \u001b[0msa_classes\u001b[0m\u001b[0;34m,\u001b[0m \u001b[0;34m\"\"\u001b[0m\u001b[0;34m)\u001b[0m\u001b[0;34m\u001b[0m\u001b[0;34m\u001b[0m\u001b[0m\n",
            "\u001b[0;32m<ipython-input-9-87470487a2e4>\u001b[0m in \u001b[0;36mwoa\u001b[0;34m(features, classes, n_whales, validation_X, validation_y, max_iters, B)\u001b[0m\n\u001b[1;32m     19\u001b[0m \u001b[0;32mdef\u001b[0m \u001b[0mwoa\u001b[0m\u001b[0;34m(\u001b[0m\u001b[0mfeatures\u001b[0m\u001b[0;34m,\u001b[0m \u001b[0mclasses\u001b[0m\u001b[0;34m,\u001b[0m \u001b[0mn_whales\u001b[0m\u001b[0;34m,\u001b[0m \u001b[0mvalidation_X\u001b[0m\u001b[0;34m,\u001b[0m \u001b[0mvalidation_y\u001b[0m\u001b[0;34m,\u001b[0m \u001b[0mmax_iters\u001b[0m\u001b[0;34m,\u001b[0m \u001b[0mB\u001b[0m\u001b[0;34m)\u001b[0m\u001b[0;34m:\u001b[0m\u001b[0;34m\u001b[0m\u001b[0;34m\u001b[0m\u001b[0m\n\u001b[1;32m     20\u001b[0m   \u001b[0mwhales\u001b[0m \u001b[0;34m=\u001b[0m \u001b[0mnp\u001b[0m\u001b[0;34m.\u001b[0m\u001b[0mrandom\u001b[0m\u001b[0;34m.\u001b[0m\u001b[0mrandint\u001b[0m\u001b[0;34m(\u001b[0m\u001b[0;36m0\u001b[0m\u001b[0;34m,\u001b[0m \u001b[0;36m2\u001b[0m\u001b[0;34m,\u001b[0m \u001b[0;34m(\u001b[0m\u001b[0mn_whales\u001b[0m\u001b[0;34m,\u001b[0m \u001b[0mlen\u001b[0m\u001b[0;34m(\u001b[0m\u001b[0mfeatures\u001b[0m\u001b[0;34m[\u001b[0m\u001b[0;36m0\u001b[0m\u001b[0;34m]\u001b[0m\u001b[0;34m)\u001b[0m\u001b[0;34m)\u001b[0m\u001b[0;34m)\u001b[0m\u001b[0;34m\u001b[0m\u001b[0;34m\u001b[0m\u001b[0m\n\u001b[0;32m---> 21\u001b[0;31m   \u001b[0mprey\u001b[0m \u001b[0;34m=\u001b[0m \u001b[0mfind_best_solution\u001b[0m\u001b[0;34m(\u001b[0m\u001b[0mfeatures\u001b[0m\u001b[0;34m,\u001b[0m \u001b[0mclasses\u001b[0m\u001b[0;34m,\u001b[0m \u001b[0mwhales\u001b[0m\u001b[0;34m,\u001b[0m \u001b[0mvalidation_X\u001b[0m\u001b[0;34m,\u001b[0m \u001b[0mvalidation_y\u001b[0m\u001b[0;34m)\u001b[0m\u001b[0;34m\u001b[0m\u001b[0;34m\u001b[0m\u001b[0m\n\u001b[0m\u001b[1;32m     22\u001b[0m   \u001b[0;32mfor\u001b[0m \u001b[0mt\u001b[0m \u001b[0;32min\u001b[0m \u001b[0mrange\u001b[0m\u001b[0;34m(\u001b[0m\u001b[0mmax_iters\u001b[0m\u001b[0;34m)\u001b[0m\u001b[0;34m:\u001b[0m\u001b[0;34m\u001b[0m\u001b[0;34m\u001b[0m\u001b[0m\n\u001b[1;32m     23\u001b[0m     \u001b[0mprint\u001b[0m\u001b[0;34m(\u001b[0m\u001b[0mt\u001b[0m\u001b[0;34m)\u001b[0m\u001b[0;34m\u001b[0m\u001b[0;34m\u001b[0m\u001b[0m\n",
            "\u001b[0;32m<ipython-input-9-87470487a2e4>\u001b[0m in \u001b[0;36mfind_best_solution\u001b[0;34m(features, classes, whales, validation_X, validation_y)\u001b[0m\n\u001b[1;32m      9\u001b[0m     \u001b[0mcur_features\u001b[0m \u001b[0;34m=\u001b[0m \u001b[0mfeatures\u001b[0m\u001b[0;34m[\u001b[0m\u001b[0;34m:\u001b[0m\u001b[0;34m,\u001b[0m \u001b[0mwhale\u001b[0m\u001b[0;34m.\u001b[0m\u001b[0mastype\u001b[0m\u001b[0;34m(\u001b[0m\u001b[0mnp\u001b[0m\u001b[0;34m.\u001b[0m\u001b[0mbool\u001b[0m\u001b[0;34m)\u001b[0m\u001b[0;34m]\u001b[0m\u001b[0;34m\u001b[0m\u001b[0;34m\u001b[0m\u001b[0m\n\u001b[1;32m     10\u001b[0m     \u001b[0mclf\u001b[0m\u001b[0;34m.\u001b[0m\u001b[0mfit\u001b[0m\u001b[0;34m(\u001b[0m\u001b[0mcur_features\u001b[0m\u001b[0;34m,\u001b[0m \u001b[0mclasses\u001b[0m\u001b[0;34m)\u001b[0m\u001b[0;34m\u001b[0m\u001b[0;34m\u001b[0m\u001b[0m\n\u001b[0;32m---> 11\u001b[0;31m     \u001b[0mscore\u001b[0m \u001b[0;34m=\u001b[0m \u001b[0mclf\u001b[0m\u001b[0;34m.\u001b[0m\u001b[0mscore\u001b[0m\u001b[0;34m(\u001b[0m\u001b[0mvalidation_X\u001b[0m\u001b[0;34m[\u001b[0m\u001b[0;34m:\u001b[0m\u001b[0;34m,\u001b[0m \u001b[0mwhale\u001b[0m\u001b[0;34m.\u001b[0m\u001b[0mastype\u001b[0m\u001b[0;34m(\u001b[0m\u001b[0mnp\u001b[0m\u001b[0;34m.\u001b[0m\u001b[0mbool\u001b[0m\u001b[0;34m)\u001b[0m\u001b[0;34m]\u001b[0m\u001b[0;34m,\u001b[0m \u001b[0mvalidation_y\u001b[0m\u001b[0;34m)\u001b[0m\u001b[0;34m\u001b[0m\u001b[0;34m\u001b[0m\u001b[0m\n\u001b[0m\u001b[1;32m     12\u001b[0m     \u001b[0mscore\u001b[0m \u001b[0;34m=\u001b[0m \u001b[0mALPHA\u001b[0m \u001b[0;34m*\u001b[0m \u001b[0;34m(\u001b[0m\u001b[0;36m1\u001b[0m \u001b[0;34m-\u001b[0m \u001b[0mscore\u001b[0m\u001b[0;34m)\u001b[0m \u001b[0;34m+\u001b[0m \u001b[0mBETA\u001b[0m \u001b[0;34m*\u001b[0m \u001b[0mlen\u001b[0m\u001b[0;34m(\u001b[0m\u001b[0mcur_features\u001b[0m\u001b[0;34m[\u001b[0m\u001b[0;36m0\u001b[0m\u001b[0;34m]\u001b[0m\u001b[0;34m)\u001b[0m \u001b[0;34m/\u001b[0m \u001b[0mlen\u001b[0m\u001b[0;34m(\u001b[0m\u001b[0mfeatures\u001b[0m\u001b[0;34m[\u001b[0m\u001b[0;36m0\u001b[0m\u001b[0;34m]\u001b[0m\u001b[0;34m)\u001b[0m\u001b[0;34m\u001b[0m\u001b[0;34m\u001b[0m\u001b[0m\n\u001b[1;32m     13\u001b[0m     \u001b[0;32mif\u001b[0m \u001b[0mscore\u001b[0m \u001b[0;34m<\u001b[0m \u001b[0mbest_score\u001b[0m\u001b[0;34m:\u001b[0m\u001b[0;34m\u001b[0m\u001b[0;34m\u001b[0m\u001b[0m\n",
            "\u001b[0;32m/usr/local/lib/python3.6/dist-packages/sklearn/base.py\u001b[0m in \u001b[0;36mscore\u001b[0;34m(self, X, y, sample_weight)\u001b[0m\n\u001b[1;32m    367\u001b[0m         \"\"\"\n\u001b[1;32m    368\u001b[0m         \u001b[0;32mfrom\u001b[0m \u001b[0;34m.\u001b[0m\u001b[0mmetrics\u001b[0m \u001b[0;32mimport\u001b[0m \u001b[0maccuracy_score\u001b[0m\u001b[0;34m\u001b[0m\u001b[0;34m\u001b[0m\u001b[0m\n\u001b[0;32m--> 369\u001b[0;31m         \u001b[0;32mreturn\u001b[0m \u001b[0maccuracy_score\u001b[0m\u001b[0;34m(\u001b[0m\u001b[0my\u001b[0m\u001b[0;34m,\u001b[0m \u001b[0mself\u001b[0m\u001b[0;34m.\u001b[0m\u001b[0mpredict\u001b[0m\u001b[0;34m(\u001b[0m\u001b[0mX\u001b[0m\u001b[0;34m)\u001b[0m\u001b[0;34m,\u001b[0m \u001b[0msample_weight\u001b[0m\u001b[0;34m=\u001b[0m\u001b[0msample_weight\u001b[0m\u001b[0;34m)\u001b[0m\u001b[0;34m\u001b[0m\u001b[0;34m\u001b[0m\u001b[0m\n\u001b[0m\u001b[1;32m    370\u001b[0m \u001b[0;34m\u001b[0m\u001b[0m\n\u001b[1;32m    371\u001b[0m \u001b[0;34m\u001b[0m\u001b[0m\n",
            "\u001b[0;32m/usr/local/lib/python3.6/dist-packages/sklearn/neighbors/_classification.py\u001b[0m in \u001b[0;36mpredict\u001b[0;34m(self, X)\u001b[0m\n\u001b[1;32m    171\u001b[0m         \u001b[0mX\u001b[0m \u001b[0;34m=\u001b[0m \u001b[0mcheck_array\u001b[0m\u001b[0;34m(\u001b[0m\u001b[0mX\u001b[0m\u001b[0;34m,\u001b[0m \u001b[0maccept_sparse\u001b[0m\u001b[0;34m=\u001b[0m\u001b[0;34m'csr'\u001b[0m\u001b[0;34m)\u001b[0m\u001b[0;34m\u001b[0m\u001b[0;34m\u001b[0m\u001b[0m\n\u001b[1;32m    172\u001b[0m \u001b[0;34m\u001b[0m\u001b[0m\n\u001b[0;32m--> 173\u001b[0;31m         \u001b[0mneigh_dist\u001b[0m\u001b[0;34m,\u001b[0m \u001b[0mneigh_ind\u001b[0m \u001b[0;34m=\u001b[0m \u001b[0mself\u001b[0m\u001b[0;34m.\u001b[0m\u001b[0mkneighbors\u001b[0m\u001b[0;34m(\u001b[0m\u001b[0mX\u001b[0m\u001b[0;34m)\u001b[0m\u001b[0;34m\u001b[0m\u001b[0;34m\u001b[0m\u001b[0m\n\u001b[0m\u001b[1;32m    174\u001b[0m         \u001b[0mclasses_\u001b[0m \u001b[0;34m=\u001b[0m \u001b[0mself\u001b[0m\u001b[0;34m.\u001b[0m\u001b[0mclasses_\u001b[0m\u001b[0;34m\u001b[0m\u001b[0;34m\u001b[0m\u001b[0m\n\u001b[1;32m    175\u001b[0m         \u001b[0m_y\u001b[0m \u001b[0;34m=\u001b[0m \u001b[0mself\u001b[0m\u001b[0;34m.\u001b[0m\u001b[0m_y\u001b[0m\u001b[0;34m\u001b[0m\u001b[0;34m\u001b[0m\u001b[0m\n",
            "\u001b[0;32m/usr/local/lib/python3.6/dist-packages/sklearn/neighbors/_base.py\u001b[0m in \u001b[0;36mkneighbors\u001b[0;34m(self, X, n_neighbors, return_distance)\u001b[0m\n\u001b[1;32m    662\u001b[0m                 delayed_query(\n\u001b[1;32m    663\u001b[0m                     self._tree, X[s], n_neighbors, return_distance)\n\u001b[0;32m--> 664\u001b[0;31m                 \u001b[0;32mfor\u001b[0m \u001b[0ms\u001b[0m \u001b[0;32min\u001b[0m \u001b[0mgen_even_slices\u001b[0m\u001b[0;34m(\u001b[0m\u001b[0mX\u001b[0m\u001b[0;34m.\u001b[0m\u001b[0mshape\u001b[0m\u001b[0;34m[\u001b[0m\u001b[0;36m0\u001b[0m\u001b[0;34m]\u001b[0m\u001b[0;34m,\u001b[0m \u001b[0mn_jobs\u001b[0m\u001b[0;34m)\u001b[0m\u001b[0;34m\u001b[0m\u001b[0;34m\u001b[0m\u001b[0m\n\u001b[0m\u001b[1;32m    665\u001b[0m             )\n\u001b[1;32m    666\u001b[0m         \u001b[0;32melse\u001b[0m\u001b[0;34m:\u001b[0m\u001b[0;34m\u001b[0m\u001b[0;34m\u001b[0m\u001b[0m\n",
            "\u001b[0;32m/usr/local/lib/python3.6/dist-packages/joblib/parallel.py\u001b[0m in \u001b[0;36m__call__\u001b[0;34m(self, iterable)\u001b[0m\n\u001b[1;32m   1046\u001b[0m             \u001b[0;31m# remaining jobs.\u001b[0m\u001b[0;34m\u001b[0m\u001b[0;34m\u001b[0m\u001b[0;34m\u001b[0m\u001b[0m\n\u001b[1;32m   1047\u001b[0m             \u001b[0mself\u001b[0m\u001b[0;34m.\u001b[0m\u001b[0m_iterating\u001b[0m \u001b[0;34m=\u001b[0m \u001b[0;32mFalse\u001b[0m\u001b[0;34m\u001b[0m\u001b[0;34m\u001b[0m\u001b[0m\n\u001b[0;32m-> 1048\u001b[0;31m             \u001b[0;32mif\u001b[0m \u001b[0mself\u001b[0m\u001b[0;34m.\u001b[0m\u001b[0mdispatch_one_batch\u001b[0m\u001b[0;34m(\u001b[0m\u001b[0miterator\u001b[0m\u001b[0;34m)\u001b[0m\u001b[0;34m:\u001b[0m\u001b[0;34m\u001b[0m\u001b[0;34m\u001b[0m\u001b[0m\n\u001b[0m\u001b[1;32m   1049\u001b[0m                 \u001b[0mself\u001b[0m\u001b[0;34m.\u001b[0m\u001b[0m_iterating\u001b[0m \u001b[0;34m=\u001b[0m \u001b[0mself\u001b[0m\u001b[0;34m.\u001b[0m\u001b[0m_original_iterator\u001b[0m \u001b[0;32mis\u001b[0m \u001b[0;32mnot\u001b[0m \u001b[0;32mNone\u001b[0m\u001b[0;34m\u001b[0m\u001b[0;34m\u001b[0m\u001b[0m\n\u001b[1;32m   1050\u001b[0m \u001b[0;34m\u001b[0m\u001b[0m\n",
            "\u001b[0;32m/usr/local/lib/python3.6/dist-packages/joblib/parallel.py\u001b[0m in \u001b[0;36mdispatch_one_batch\u001b[0;34m(self, iterator)\u001b[0m\n\u001b[1;32m    864\u001b[0m                 \u001b[0;32mreturn\u001b[0m \u001b[0;32mFalse\u001b[0m\u001b[0;34m\u001b[0m\u001b[0;34m\u001b[0m\u001b[0m\n\u001b[1;32m    865\u001b[0m             \u001b[0;32melse\u001b[0m\u001b[0;34m:\u001b[0m\u001b[0;34m\u001b[0m\u001b[0;34m\u001b[0m\u001b[0m\n\u001b[0;32m--> 866\u001b[0;31m                 \u001b[0mself\u001b[0m\u001b[0;34m.\u001b[0m\u001b[0m_dispatch\u001b[0m\u001b[0;34m(\u001b[0m\u001b[0mtasks\u001b[0m\u001b[0;34m)\u001b[0m\u001b[0;34m\u001b[0m\u001b[0;34m\u001b[0m\u001b[0m\n\u001b[0m\u001b[1;32m    867\u001b[0m                 \u001b[0;32mreturn\u001b[0m \u001b[0;32mTrue\u001b[0m\u001b[0;34m\u001b[0m\u001b[0;34m\u001b[0m\u001b[0m\n\u001b[1;32m    868\u001b[0m \u001b[0;34m\u001b[0m\u001b[0m\n",
            "\u001b[0;32m/usr/local/lib/python3.6/dist-packages/joblib/parallel.py\u001b[0m in \u001b[0;36m_dispatch\u001b[0;34m(self, batch)\u001b[0m\n\u001b[1;32m    782\u001b[0m         \u001b[0;32mwith\u001b[0m \u001b[0mself\u001b[0m\u001b[0;34m.\u001b[0m\u001b[0m_lock\u001b[0m\u001b[0;34m:\u001b[0m\u001b[0;34m\u001b[0m\u001b[0;34m\u001b[0m\u001b[0m\n\u001b[1;32m    783\u001b[0m             \u001b[0mjob_idx\u001b[0m \u001b[0;34m=\u001b[0m \u001b[0mlen\u001b[0m\u001b[0;34m(\u001b[0m\u001b[0mself\u001b[0m\u001b[0;34m.\u001b[0m\u001b[0m_jobs\u001b[0m\u001b[0;34m)\u001b[0m\u001b[0;34m\u001b[0m\u001b[0;34m\u001b[0m\u001b[0m\n\u001b[0;32m--> 784\u001b[0;31m             \u001b[0mjob\u001b[0m \u001b[0;34m=\u001b[0m \u001b[0mself\u001b[0m\u001b[0;34m.\u001b[0m\u001b[0m_backend\u001b[0m\u001b[0;34m.\u001b[0m\u001b[0mapply_async\u001b[0m\u001b[0;34m(\u001b[0m\u001b[0mbatch\u001b[0m\u001b[0;34m,\u001b[0m \u001b[0mcallback\u001b[0m\u001b[0;34m=\u001b[0m\u001b[0mcb\u001b[0m\u001b[0;34m)\u001b[0m\u001b[0;34m\u001b[0m\u001b[0;34m\u001b[0m\u001b[0m\n\u001b[0m\u001b[1;32m    785\u001b[0m             \u001b[0;31m# A job can complete so quickly than its callback is\u001b[0m\u001b[0;34m\u001b[0m\u001b[0;34m\u001b[0m\u001b[0;34m\u001b[0m\u001b[0m\n\u001b[1;32m    786\u001b[0m             \u001b[0;31m# called before we get here, causing self._jobs to\u001b[0m\u001b[0;34m\u001b[0m\u001b[0;34m\u001b[0m\u001b[0;34m\u001b[0m\u001b[0m\n",
            "\u001b[0;32m/usr/local/lib/python3.6/dist-packages/joblib/_parallel_backends.py\u001b[0m in \u001b[0;36mapply_async\u001b[0;34m(self, func, callback)\u001b[0m\n\u001b[1;32m    206\u001b[0m     \u001b[0;32mdef\u001b[0m \u001b[0mapply_async\u001b[0m\u001b[0;34m(\u001b[0m\u001b[0mself\u001b[0m\u001b[0;34m,\u001b[0m \u001b[0mfunc\u001b[0m\u001b[0;34m,\u001b[0m \u001b[0mcallback\u001b[0m\u001b[0;34m=\u001b[0m\u001b[0;32mNone\u001b[0m\u001b[0;34m)\u001b[0m\u001b[0;34m:\u001b[0m\u001b[0;34m\u001b[0m\u001b[0;34m\u001b[0m\u001b[0m\n\u001b[1;32m    207\u001b[0m         \u001b[0;34m\"\"\"Schedule a func to be run\"\"\"\u001b[0m\u001b[0;34m\u001b[0m\u001b[0;34m\u001b[0m\u001b[0m\n\u001b[0;32m--> 208\u001b[0;31m         \u001b[0mresult\u001b[0m \u001b[0;34m=\u001b[0m \u001b[0mImmediateResult\u001b[0m\u001b[0;34m(\u001b[0m\u001b[0mfunc\u001b[0m\u001b[0;34m)\u001b[0m\u001b[0;34m\u001b[0m\u001b[0;34m\u001b[0m\u001b[0m\n\u001b[0m\u001b[1;32m    209\u001b[0m         \u001b[0;32mif\u001b[0m \u001b[0mcallback\u001b[0m\u001b[0;34m:\u001b[0m\u001b[0;34m\u001b[0m\u001b[0;34m\u001b[0m\u001b[0m\n\u001b[1;32m    210\u001b[0m             \u001b[0mcallback\u001b[0m\u001b[0;34m(\u001b[0m\u001b[0mresult\u001b[0m\u001b[0;34m)\u001b[0m\u001b[0;34m\u001b[0m\u001b[0;34m\u001b[0m\u001b[0m\n",
            "\u001b[0;32m/usr/local/lib/python3.6/dist-packages/joblib/_parallel_backends.py\u001b[0m in \u001b[0;36m__init__\u001b[0;34m(self, batch)\u001b[0m\n\u001b[1;32m    570\u001b[0m         \u001b[0;31m# Don't delay the application, to avoid keeping the input\u001b[0m\u001b[0;34m\u001b[0m\u001b[0;34m\u001b[0m\u001b[0;34m\u001b[0m\u001b[0m\n\u001b[1;32m    571\u001b[0m         \u001b[0;31m# arguments in memory\u001b[0m\u001b[0;34m\u001b[0m\u001b[0;34m\u001b[0m\u001b[0;34m\u001b[0m\u001b[0m\n\u001b[0;32m--> 572\u001b[0;31m         \u001b[0mself\u001b[0m\u001b[0;34m.\u001b[0m\u001b[0mresults\u001b[0m \u001b[0;34m=\u001b[0m \u001b[0mbatch\u001b[0m\u001b[0;34m(\u001b[0m\u001b[0;34m)\u001b[0m\u001b[0;34m\u001b[0m\u001b[0;34m\u001b[0m\u001b[0m\n\u001b[0m\u001b[1;32m    573\u001b[0m \u001b[0;34m\u001b[0m\u001b[0m\n\u001b[1;32m    574\u001b[0m     \u001b[0;32mdef\u001b[0m \u001b[0mget\u001b[0m\u001b[0;34m(\u001b[0m\u001b[0mself\u001b[0m\u001b[0;34m)\u001b[0m\u001b[0;34m:\u001b[0m\u001b[0;34m\u001b[0m\u001b[0;34m\u001b[0m\u001b[0m\n",
            "\u001b[0;32m/usr/local/lib/python3.6/dist-packages/joblib/parallel.py\u001b[0m in \u001b[0;36m__call__\u001b[0;34m(self)\u001b[0m\n\u001b[1;32m    261\u001b[0m         \u001b[0;32mwith\u001b[0m \u001b[0mparallel_backend\u001b[0m\u001b[0;34m(\u001b[0m\u001b[0mself\u001b[0m\u001b[0;34m.\u001b[0m\u001b[0m_backend\u001b[0m\u001b[0;34m,\u001b[0m \u001b[0mn_jobs\u001b[0m\u001b[0;34m=\u001b[0m\u001b[0mself\u001b[0m\u001b[0;34m.\u001b[0m\u001b[0m_n_jobs\u001b[0m\u001b[0;34m)\u001b[0m\u001b[0;34m:\u001b[0m\u001b[0;34m\u001b[0m\u001b[0;34m\u001b[0m\u001b[0m\n\u001b[1;32m    262\u001b[0m             return [func(*args, **kwargs)\n\u001b[0;32m--> 263\u001b[0;31m                     for func, args, kwargs in self.items]\n\u001b[0m\u001b[1;32m    264\u001b[0m \u001b[0;34m\u001b[0m\u001b[0m\n\u001b[1;32m    265\u001b[0m     \u001b[0;32mdef\u001b[0m \u001b[0m__reduce__\u001b[0m\u001b[0;34m(\u001b[0m\u001b[0mself\u001b[0m\u001b[0;34m)\u001b[0m\u001b[0;34m:\u001b[0m\u001b[0;34m\u001b[0m\u001b[0;34m\u001b[0m\u001b[0m\n",
            "\u001b[0;32m/usr/local/lib/python3.6/dist-packages/joblib/parallel.py\u001b[0m in \u001b[0;36m<listcomp>\u001b[0;34m(.0)\u001b[0m\n\u001b[1;32m    261\u001b[0m         \u001b[0;32mwith\u001b[0m \u001b[0mparallel_backend\u001b[0m\u001b[0;34m(\u001b[0m\u001b[0mself\u001b[0m\u001b[0;34m.\u001b[0m\u001b[0m_backend\u001b[0m\u001b[0;34m,\u001b[0m \u001b[0mn_jobs\u001b[0m\u001b[0;34m=\u001b[0m\u001b[0mself\u001b[0m\u001b[0;34m.\u001b[0m\u001b[0m_n_jobs\u001b[0m\u001b[0;34m)\u001b[0m\u001b[0;34m:\u001b[0m\u001b[0;34m\u001b[0m\u001b[0;34m\u001b[0m\u001b[0m\n\u001b[1;32m    262\u001b[0m             return [func(*args, **kwargs)\n\u001b[0;32m--> 263\u001b[0;31m                     for func, args, kwargs in self.items]\n\u001b[0m\u001b[1;32m    264\u001b[0m \u001b[0;34m\u001b[0m\u001b[0m\n\u001b[1;32m    265\u001b[0m     \u001b[0;32mdef\u001b[0m \u001b[0m__reduce__\u001b[0m\u001b[0;34m(\u001b[0m\u001b[0mself\u001b[0m\u001b[0;34m)\u001b[0m\u001b[0;34m:\u001b[0m\u001b[0;34m\u001b[0m\u001b[0;34m\u001b[0m\u001b[0m\n",
            "\u001b[0;32m/usr/local/lib/python3.6/dist-packages/sklearn/neighbors/_base.py\u001b[0m in \u001b[0;36m_tree_query_parallel_helper\u001b[0;34m(tree, *args, **kwargs)\u001b[0m\n\u001b[1;32m    489\u001b[0m     \u001b[0munder\u001b[0m \u001b[0mPyPy\u001b[0m\u001b[0;34m.\u001b[0m\u001b[0;34m\u001b[0m\u001b[0;34m\u001b[0m\u001b[0m\n\u001b[1;32m    490\u001b[0m     \"\"\"\n\u001b[0;32m--> 491\u001b[0;31m     \u001b[0;32mreturn\u001b[0m \u001b[0mtree\u001b[0m\u001b[0;34m.\u001b[0m\u001b[0mquery\u001b[0m\u001b[0;34m(\u001b[0m\u001b[0;34m*\u001b[0m\u001b[0margs\u001b[0m\u001b[0;34m,\u001b[0m \u001b[0;34m**\u001b[0m\u001b[0mkwargs\u001b[0m\u001b[0;34m)\u001b[0m\u001b[0;34m\u001b[0m\u001b[0;34m\u001b[0m\u001b[0m\n\u001b[0m\u001b[1;32m    492\u001b[0m \u001b[0;34m\u001b[0m\u001b[0m\n\u001b[1;32m    493\u001b[0m \u001b[0;34m\u001b[0m\u001b[0m\n",
            "\u001b[0;31mKeyboardInterrupt\u001b[0m: "
          ]
        }
      ]
    },
    {
      "cell_type": "code",
      "metadata": {
        "id": "WJi_n2mhggND"
      },
      "source": [
        "def tmp(email):\n",
        "  return email\n",
        "\n",
        "def do_tests_with_clf(clf, texts, classes, out_prefix, n_features=N_FEATURES):\n",
        "  with tf.device('/device:GPU:0'):\n",
        "    cv = TfidfVectorizer(tokenizer=tmp, preprocessor=tmp)\n",
        "    chi = SelectKBest(chi2, k=n_features)\n",
        "    train_X, test_X, train_y, test_y = train_test_split(tfdcr(get_tokens_arr(texts), classes), classes * 2 - 1, test_size=0.33)\n",
        "    clf.fit(train_X, train_y)\n",
        "    print((\"{} TFDCR: accuracy={} roc_auc={}\").format(out_prefix, clf.score(test_X, test_y), roc_auc_score(test_y, clf.predict(test_X))))\n",
        "    gc.collect()\n",
        "    train_X, test_X, train_y, test_y = train_test_split(chi.fit_transform(cv.fit_transform(get_tokens_arr(texts)).toarray(), classes), classes * 2 - 1, test_size=0.33)\n",
        "    gc.collect()\n",
        "    clf.fit(train_X, train_y)\n",
        "    print((\"{} CHI: accuracy={} roc_auc={}\").format(out_prefix, clf.score(test_X, test_y), roc_auc_score(test_y, clf.predict(test_X))))"
      ],
      "execution_count": null,
      "outputs": []
    },
    {
      "cell_type": "code",
      "metadata": {
        "id": "I4SxyKAnviOy"
      },
      "source": [
        "def tmp(email):\n",
        "  return email\n",
        "\n",
        "def do_tests_with_clf(clf, texts, classes, out_prefix):\n",
        "  with tf.device('/device:GPU:0'):\n",
        "    cv = TfidfVectorizer(tokenizer=tmp, preprocessor=tmp)\n",
        "    gc.collect()\n",
        "    train_X, test_X, train_y, test_y = train_test_split(cv.fit_transform(get_tokens_arr(texts)).toarray(), classes * 2 - 1, test_size=0.33)\n",
        "    gc.collect()\n",
        "    clf.fit(train_X, train_y)\n",
        "    print((\"{} NO SELEC: accuracy={} roc_auc={}\").format(out_prefix, clf.score(test_X, test_y), roc_auc_score(test_y, clf.predict(test_X))))"
      ],
      "execution_count": null,
      "outputs": []
    },
    {
      "cell_type": "code",
      "metadata": {
        "colab": {
          "base_uri": "https://localhost:8080/"
        },
        "id": "UNC3vGt2sHuU",
        "outputId": "b3af2fa5-75ec-4f54-9bee-6ac94792b26d"
      },
      "source": [
        "gc.collect()\n",
        "do_tests_with_clf(cert, ceas1_texts, ceas1_classes, \"CERT CEAS1\", 4000)\n",
        "gc.collect()\n",
        "do_tests_with_clf(cert, ceas2_texts, ceas2_classes, \"CERT CEAS2\", 4000)\n",
        "gc.collect()\n",
        "do_tests_with_clf(cert, ceas3_texts, ceas3_classes, \"CERT CEAS3\", 4000)\n",
        "gc.collect()\n",
        "do_tests_with_clf(cert, ceas4_texts, ceas4_classes, \"CERT CEAS4\", 4000)\n",
        "gc.collect()\n",
        "do_tests_with_clf(cert, ceas5_texts, ceas5_classes, \"CERT CEAS5\", 4000)\n",
        "gc.collect()\n",
        "do_tests_with_clf(cert, ceas6_texts, ceas6_classes, \"CERT CEAS6\", 4000)\n",
        "gc.collect()\n",
        "do_tests_with_clf(cert, ceas7_texts, ceas7_classes, \"CERT CEAS7\", 4000)\n",
        "gc.collect()\n",
        "do_tests_with_clf(cert, ceas8_texts, ceas8_classes, \"CERT CEAS8\", 4000)\n",
        "gc.collect()\n",
        "do_tests_with_clf(svm, ceas1_texts, ceas1_classes, \"SVM CEAS1\", 4000)\n",
        "gc.collect()\n",
        "do_tests_with_clf(svm, ceas2_texts, ceas2_classes, \"SVM CEAS2\", 4000)"
      ],
      "execution_count": null,
      "outputs": [
        {
          "output_type": "stream",
          "text": [
            "CERT CEAS1 TFDCR: accuracy=0.9838126399173411 roc_auc=0.9707950468013495\n",
            "CERT CEAS1 CHI: accuracy=0.9860513173755812 roc_auc=0.9745333855405931\n",
            "CERT CEAS2 TFDCR: accuracy=0.9820905803340796 roc_auc=0.9668466969198208\n",
            "CERT CEAS2 CHI: accuracy=0.9795074909591872 roc_auc=0.9610256948356289\n",
            "CERT CEAS3 TFDCR: accuracy=0.9788186671258825 roc_auc=0.9628254194417752\n",
            "CERT CEAS3 CHI: accuracy=0.983640433959015 roc_auc=0.9677828835461677\n",
            "CERT CEAS4 TFDCR: accuracy=0.9822627862924057 roc_auc=0.965562955274943\n",
            "CERT CEAS4 CHI: accuracy=0.9834682280006888 roc_auc=0.9646555601757067\n",
            "CERT CEAS5 TFDCR: accuracy=0.978133608815427 roc_auc=0.9621677927971\n",
            "CERT CEAS5 CHI: accuracy=0.9801997245179064 roc_auc=0.9619135630554219\n",
            "CERT CEAS6 TFDCR: accuracy=0.9807162534435262 roc_auc=0.9643228503711164\n",
            "CERT CEAS6 CHI: accuracy=0.9762396694214877 roc_auc=0.9542896053492939\n",
            "CERT CEAS7 TFDCR: accuracy=0.9819214876033058 roc_auc=0.967587288597927\n",
            "CERT CEAS7 CHI: accuracy=0.9807162534435262 roc_auc=0.9618920648464163\n",
            "CERT CEAS8 TFDCR: accuracy=0.9841597796143251 roc_auc=0.9724103570005704\n",
            "CERT CEAS8 CHI: accuracy=0.9786501377410468 roc_auc=0.9600798282847771\n"
          ],
          "name": "stdout"
        },
        {
          "output_type": "stream",
          "text": [
            "/usr/local/lib/python3.6/dist-packages/sklearn/svm/_base.py:231: ConvergenceWarning: Solver terminated early (max_iter=1000).  Consider pre-processing your data with StandardScaler or MinMaxScaler.\n",
            "  % self.max_iter, ConvergenceWarning)\n"
          ],
          "name": "stderr"
        },
        {
          "output_type": "stream",
          "text": [
            "SVM CEAS1 TFDCR: accuracy=0.9213018770449457 roc_auc=0.7990570847529853\n"
          ],
          "name": "stdout"
        },
        {
          "output_type": "stream",
          "text": [
            "/usr/local/lib/python3.6/dist-packages/sklearn/svm/_base.py:231: ConvergenceWarning: Solver terminated early (max_iter=1000).  Consider pre-processing your data with StandardScaler or MinMaxScaler.\n",
            "  % self.max_iter, ConvergenceWarning)\n"
          ],
          "name": "stderr"
        },
        {
          "output_type": "stream",
          "text": [
            "SVM CEAS1 CHI: accuracy=0.9355949715860169 roc_auc=0.8369110739246884\n"
          ],
          "name": "stdout"
        },
        {
          "output_type": "stream",
          "text": [
            "/usr/local/lib/python3.6/dist-packages/sklearn/svm/_base.py:231: ConvergenceWarning: Solver terminated early (max_iter=1000).  Consider pre-processing your data with StandardScaler or MinMaxScaler.\n",
            "  % self.max_iter, ConvergenceWarning)\n"
          ],
          "name": "stderr"
        },
        {
          "output_type": "stream",
          "text": [
            "SVM CEAS2 TFDCR: accuracy=0.935767177544343 roc_auc=0.8420825125337268\n"
          ],
          "name": "stdout"
        },
        {
          "output_type": "stream",
          "text": [
            "/usr/local/lib/python3.6/dist-packages/sklearn/svm/_base.py:231: ConvergenceWarning: Solver terminated early (max_iter=1000).  Consider pre-processing your data with StandardScaler or MinMaxScaler.\n",
            "  % self.max_iter, ConvergenceWarning)\n"
          ],
          "name": "stderr"
        },
        {
          "output_type": "stream",
          "text": [
            "SVM CEAS2 CHI: accuracy=0.9483382125021526 roc_auc=0.8736012702898663\n"
          ],
          "name": "stdout"
        },
        {
          "output_type": "stream",
          "text": [
            "/usr/local/lib/python3.6/dist-packages/sklearn/svm/_base.py:231: ConvergenceWarning: Solver terminated early (max_iter=1000).  Consider pre-processing your data with StandardScaler or MinMaxScaler.\n",
            "  % self.max_iter, ConvergenceWarning)\n"
          ],
          "name": "stderr"
        }
      ]
    },
    {
      "cell_type": "code",
      "metadata": {
        "colab": {
          "base_uri": "https://localhost:8080/"
        },
        "id": "B3NIClvV-SSv",
        "outputId": "26162eee-6ece-466d-9bb0-290869be6756"
      },
      "source": [
        "cert = DecisionTreeClassifier()\n",
        "svm = SVC(max_iter=1000)\n",
        "gc.collect()\n",
        "do_tests_with_clf(svm, ceas3_texts, ceas3_classes, \"SVM CEAS3\", 4000)\n",
        "gc.collect()\n",
        "do_tests_with_clf(svm, ceas4_texts, ceas4_classes, \"SVM CEAS4\", 4000)\n",
        "gc.collect()\n",
        "do_tests_with_clf(svm, ceas5_texts, ceas5_classes, \"SVM CEAS5\", 4000)\n",
        "gc.collect()\n",
        "do_tests_with_clf(svm, ceas6_texts, ceas6_classes, \"SVM CEAS6\", 4000)\n",
        "gc.collect()\n",
        "do_tests_with_clf(svm, ceas7_texts, ceas7_classes, \"SVM CEAS7\", 4000)\n",
        "gc.collect()\n",
        "do_tests_with_clf(svm, ceas8_texts, ceas8_classes, \"SVM CEAS8\", 4000)\n",
        "gc.collect()"
      ],
      "execution_count": null,
      "outputs": [
        {
          "output_type": "stream",
          "text": [
            "/usr/local/lib/python3.6/dist-packages/sklearn/svm/_base.py:231: ConvergenceWarning: Solver terminated early (max_iter=1000).  Consider pre-processing your data with StandardScaler or MinMaxScaler.\n",
            "  % self.max_iter, ConvergenceWarning)\n"
          ],
          "name": "stderr"
        },
        {
          "output_type": "stream",
          "text": [
            "SVM CEAS3 TFDCR: accuracy=0.9187187876700534 roc_auc=0.7959964154504137\n"
          ],
          "name": "stdout"
        },
        {
          "output_type": "stream",
          "text": [
            "/usr/local/lib/python3.6/dist-packages/sklearn/svm/_base.py:231: ConvergenceWarning: Solver terminated early (max_iter=1000).  Consider pre-processing your data with StandardScaler or MinMaxScaler.\n",
            "  % self.max_iter, ConvergenceWarning)\n"
          ],
          "name": "stderr"
        },
        {
          "output_type": "stream",
          "text": [
            "SVM CEAS3 CHI: accuracy=0.8978818667125883 roc_auc=0.7467593553708474\n"
          ],
          "name": "stdout"
        },
        {
          "output_type": "stream",
          "text": [
            "/usr/local/lib/python3.6/dist-packages/sklearn/svm/_base.py:231: ConvergenceWarning: Solver terminated early (max_iter=1000).  Consider pre-processing your data with StandardScaler or MinMaxScaler.\n",
            "  % self.max_iter, ConvergenceWarning)\n"
          ],
          "name": "stderr"
        },
        {
          "output_type": "stream",
          "text": [
            "SVM CEAS4 TFDCR: accuracy=0.9442052695023248 roc_auc=0.8580649885788167\n"
          ],
          "name": "stdout"
        },
        {
          "output_type": "stream",
          "text": [
            "/usr/local/lib/python3.6/dist-packages/sklearn/svm/_base.py:231: ConvergenceWarning: Solver terminated early (max_iter=1000).  Consider pre-processing your data with StandardScaler or MinMaxScaler.\n",
            "  % self.max_iter, ConvergenceWarning)\n"
          ],
          "name": "stderr"
        },
        {
          "output_type": "stream",
          "text": [
            "SVM CEAS4 CHI: accuracy=0.8899603926295849 roc_auc=0.7157513944344539\n"
          ],
          "name": "stdout"
        },
        {
          "output_type": "stream",
          "text": [
            "/usr/local/lib/python3.6/dist-packages/sklearn/svm/_base.py:231: ConvergenceWarning: Solver terminated early (max_iter=1000).  Consider pre-processing your data with StandardScaler or MinMaxScaler.\n",
            "  % self.max_iter, ConvergenceWarning)\n"
          ],
          "name": "stderr"
        },
        {
          "output_type": "stream",
          "text": [
            "SVM CEAS5 TFDCR: accuracy=0.890495867768595 roc_auc=0.7250549966862853\n"
          ],
          "name": "stdout"
        },
        {
          "output_type": "stream",
          "text": [
            "/usr/local/lib/python3.6/dist-packages/sklearn/svm/_base.py:231: ConvergenceWarning: Solver terminated early (max_iter=1000).  Consider pre-processing your data with StandardScaler or MinMaxScaler.\n",
            "  % self.max_iter, ConvergenceWarning)\n"
          ],
          "name": "stderr"
        },
        {
          "output_type": "stream",
          "text": [
            "SVM CEAS5 CHI: accuracy=0.8978994490358126 roc_auc=0.7452186241993064\n"
          ],
          "name": "stdout"
        },
        {
          "output_type": "stream",
          "text": [
            "/usr/local/lib/python3.6/dist-packages/sklearn/svm/_base.py:231: ConvergenceWarning: Solver terminated early (max_iter=1000).  Consider pre-processing your data with StandardScaler or MinMaxScaler.\n",
            "  % self.max_iter, ConvergenceWarning)\n"
          ],
          "name": "stderr"
        },
        {
          "output_type": "stream",
          "text": [
            "SVM CEAS6 TFDCR: accuracy=0.943698347107438 roc_auc=0.8624330696076081\n"
          ],
          "name": "stdout"
        },
        {
          "output_type": "stream",
          "text": [
            "/usr/local/lib/python3.6/dist-packages/sklearn/svm/_base.py:231: ConvergenceWarning: Solver terminated early (max_iter=1000).  Consider pre-processing your data with StandardScaler or MinMaxScaler.\n",
            "  % self.max_iter, ConvergenceWarning)\n"
          ],
          "name": "stderr"
        },
        {
          "output_type": "stream",
          "text": [
            "SVM CEAS6 CHI: accuracy=0.9445592286501377 roc_auc=0.8700530235105335\n"
          ],
          "name": "stdout"
        },
        {
          "output_type": "stream",
          "text": [
            "/usr/local/lib/python3.6/dist-packages/sklearn/svm/_base.py:231: ConvergenceWarning: Solver terminated early (max_iter=1000).  Consider pre-processing your data with StandardScaler or MinMaxScaler.\n",
            "  % self.max_iter, ConvergenceWarning)\n"
          ],
          "name": "stderr"
        },
        {
          "output_type": "stream",
          "text": [
            "SVM CEAS7 TFDCR: accuracy=0.9476584022038568 roc_auc=0.8671084902601737\n"
          ],
          "name": "stdout"
        },
        {
          "output_type": "stream",
          "text": [
            "/usr/local/lib/python3.6/dist-packages/sklearn/svm/_base.py:231: ConvergenceWarning: Solver terminated early (max_iter=1000).  Consider pre-processing your data with StandardScaler or MinMaxScaler.\n",
            "  % self.max_iter, ConvergenceWarning)\n"
          ],
          "name": "stderr"
        },
        {
          "output_type": "stream",
          "text": [
            "SVM CEAS7 CHI: accuracy=0.949724517906336 roc_auc=0.8644624946352785\n"
          ],
          "name": "stdout"
        },
        {
          "output_type": "stream",
          "text": [
            "/usr/local/lib/python3.6/dist-packages/sklearn/svm/_base.py:231: ConvergenceWarning: Solver terminated early (max_iter=1000).  Consider pre-processing your data with StandardScaler or MinMaxScaler.\n",
            "  % self.max_iter, ConvergenceWarning)\n"
          ],
          "name": "stderr"
        },
        {
          "output_type": "stream",
          "text": [
            "SVM CEAS8 TFDCR: accuracy=0.9247589531680441 roc_auc=0.8089909318927262\n"
          ],
          "name": "stdout"
        },
        {
          "output_type": "stream",
          "text": [
            "/usr/local/lib/python3.6/dist-packages/sklearn/svm/_base.py:231: ConvergenceWarning: Solver terminated early (max_iter=1000).  Consider pre-processing your data with StandardScaler or MinMaxScaler.\n",
            "  % self.max_iter, ConvergenceWarning)\n"
          ],
          "name": "stderr"
        },
        {
          "output_type": "stream",
          "text": [
            "SVM CEAS8 CHI: accuracy=0.949896694214876 roc_auc=0.8777832424215328\n"
          ],
          "name": "stdout"
        },
        {
          "output_type": "execute_result",
          "data": {
            "text/plain": [
              "0"
            ]
          },
          "metadata": {
            "tags": []
          },
          "execution_count": 13
        }
      ]
    },
    {
      "cell_type": "code",
      "metadata": {
        "colab": {
          "base_uri": "https://localhost:8080/"
        },
        "id": "KpO0Byt2Zucf",
        "outputId": "8014c7a8-7852-4f05-d64a-e755296e96fc"
      },
      "source": [
        "import warnings\n",
        "warnings.filterwarnings('ignore')\n",
        "gc.collect()\n",
        "do_tests_with_clf(cert, trec1_texts, trec1_classes, \"CERT trec1\", 4000)\n",
        "gc.collect()\n",
        "do_tests_with_clf(cert, trec2_texts, trec2_classes, \"CERT trec2\", 4000)\n",
        "gc.collect()\n",
        "do_tests_with_clf(cert, trec3_texts, trec3_classes, \"CERT trec3\", 4000)\n",
        "gc.collect()\n",
        "do_tests_with_clf(cert, trec4_texts, trec4_classes, \"CERT trec4\", 4000)\n",
        "gc.collect()\n",
        "do_tests_with_clf(cert, trec5_texts, trec5_classes, \"CERT trec5\", 4000)\n",
        "gc.collect()\n",
        "do_tests_with_clf(cert, trec6_texts, trec6_classes, \"CERT trec6\", 4000)\n",
        "gc.collect()\n",
        "do_tests_with_clf(cert, trec7_texts, trec7_classes, \"CERT trec7\", 4000)\n",
        "gc.collect()\n",
        "do_tests_with_clf(cert, trec8_texts, trec8_classes, \"CERT trec8\", 4000)\n",
        "gc.collect()\n",
        "do_tests_with_clf(svm, trec1_texts, trec1_classes, \"SVM trec1\", 4000)\n",
        "gc.collect()\n",
        "do_tests_with_clf(svm, trec2_texts, trec2_classes, \"SVM trec2\", 4000)\n",
        "gc.collect()\n",
        "do_tests_with_clf(svm, trec3_texts, trec3_classes, \"SVM trec3\", 4000)\n",
        "gc.collect()\n",
        "do_tests_with_clf(svm, trec4_texts, trec4_classes, \"SVM trec4\", 4000)\n",
        "gc.collect()\n",
        "do_tests_with_clf(svm, trec5_texts, trec5_classes, \"SVM trec5\", 4000)\n",
        "gc.collect()\n",
        "do_tests_with_clf(svm, trec6_texts, trec6_classes, \"SVM trec6\", 4000)\n",
        "gc.collect()\n",
        "do_tests_with_clf(svm, trec7_texts, trec7_classes, \"SVM trec7\", 4000)\n",
        "gc.collect()\n",
        "do_tests_with_clf(svm, trec8_texts, trec8_classes, \"SVM trec8\", 4000)\n",
        "gc.collect()"
      ],
      "execution_count": null,
      "outputs": [
        {
          "output_type": "stream",
          "text": [
            "CERT trec1 TFDCR: accuracy=0.9733204757312761 roc_auc=0.9687742678982514\n",
            "CERT trec1 CHI: accuracy=0.9736419157827065 roc_auc=0.9690414873759247\n",
            "CERT trec2 TFDCR: accuracy=0.9720437017994858 roc_auc=0.966269607650745\n",
            "CERT trec2 CHI: accuracy=0.968508997429306 roc_auc=0.9620780450780915\n",
            "CERT trec3 TFDCR: accuracy=0.9736419157827065 roc_auc=0.9703921866046451\n",
            "CERT trec3 CHI: accuracy=0.9726775956284153 roc_auc=0.9688475112364177\n",
            "CERT trec4 TFDCR: accuracy=0.9697846351655416 roc_auc=0.9663106890068568\n",
            "CERT trec4 CHI: accuracy=0.9665702346512376 roc_auc=0.9631042363663899\n",
            "CERT trec5 TFDCR: accuracy=0.9723561555769848 roc_auc=0.9700750969235962\n",
            "CERT trec5 CHI: accuracy=0.9710703953712633 roc_auc=0.9667798768838888\n",
            "CERT trec6 TFDCR: accuracy=0.9614271938283511 roc_auc=0.9574492512113162\n",
            "CERT trec6 CHI: accuracy=0.9781420765027322 roc_auc=0.9727658032249531\n",
            "CERT trec7 TFDCR: accuracy=0.971401028277635 roc_auc=0.9664956746886972\n",
            "CERT trec7 CHI: accuracy=0.9723650385604113 roc_auc=0.9681925572998629\n",
            "CERT trec8 TFDCR: accuracy=0.9656169665809768 roc_auc=0.9622335956844712\n",
            "CERT trec8 CHI: accuracy=0.9675449871465296 roc_auc=0.9620661001793517\n"
          ],
          "name": "stdout"
        },
        {
          "output_type": "stream",
          "text": [
            "/usr/local/lib/python3.6/dist-packages/sklearn/svm/_base.py:231: ConvergenceWarning: Solver terminated early (max_iter=1000).  Consider pre-processing your data with StandardScaler or MinMaxScaler.\n",
            "  % self.max_iter, ConvergenceWarning)\n"
          ],
          "name": "stderr"
        },
        {
          "output_type": "stream",
          "text": [
            "SVM trec1 TFDCR: accuracy=0.9614271938283511 roc_auc=0.9482043078171392\n"
          ],
          "name": "stdout"
        },
        {
          "output_type": "stream",
          "text": [
            "/usr/local/lib/python3.6/dist-packages/sklearn/svm/_base.py:231: ConvergenceWarning: Solver terminated early (max_iter=1000).  Consider pre-processing your data with StandardScaler or MinMaxScaler.\n",
            "  % self.max_iter, ConvergenceWarning)\n"
          ],
          "name": "stderr"
        },
        {
          "output_type": "stream",
          "text": [
            "SVM trec1 CHI: accuracy=0.9549983927997429 roc_auc=0.9388704250779583\n"
          ],
          "name": "stdout"
        },
        {
          "output_type": "stream",
          "text": [
            "/usr/local/lib/python3.6/dist-packages/sklearn/svm/_base.py:231: ConvergenceWarning: Solver terminated early (max_iter=1000).  Consider pre-processing your data with StandardScaler or MinMaxScaler.\n",
            "  % self.max_iter, ConvergenceWarning)\n"
          ],
          "name": "stderr"
        },
        {
          "output_type": "stream",
          "text": [
            "SVM trec2 TFDCR: accuracy=0.9569408740359897 roc_auc=0.9410103151644157\n"
          ],
          "name": "stdout"
        },
        {
          "output_type": "stream",
          "text": [
            "/usr/local/lib/python3.6/dist-packages/sklearn/svm/_base.py:231: ConvergenceWarning: Solver terminated early (max_iter=1000).  Consider pre-processing your data with StandardScaler or MinMaxScaler.\n",
            "  % self.max_iter, ConvergenceWarning)\n"
          ],
          "name": "stderr"
        },
        {
          "output_type": "stream",
          "text": [
            "SVM trec2 CHI: accuracy=0.958547557840617 roc_auc=0.9419395132079136\n"
          ],
          "name": "stdout"
        },
        {
          "output_type": "stream",
          "text": [
            "/usr/local/lib/python3.6/dist-packages/sklearn/svm/_base.py:231: ConvergenceWarning: Solver terminated early (max_iter=1000).  Consider pre-processing your data with StandardScaler or MinMaxScaler.\n",
            "  % self.max_iter, ConvergenceWarning)\n"
          ],
          "name": "stderr"
        },
        {
          "output_type": "stream",
          "text": [
            "SVM trec3 TFDCR: accuracy=0.9196399871423979 roc_auc=0.8812956959757274\n"
          ],
          "name": "stdout"
        },
        {
          "output_type": "stream",
          "text": [
            "/usr/local/lib/python3.6/dist-packages/sklearn/svm/_base.py:231: ConvergenceWarning: Solver terminated early (max_iter=1000).  Consider pre-processing your data with StandardScaler or MinMaxScaler.\n",
            "  % self.max_iter, ConvergenceWarning)\n"
          ],
          "name": "stderr"
        },
        {
          "output_type": "stream",
          "text": [
            "SVM trec3 CHI: accuracy=0.9193185470909675 roc_auc=0.882996709798717\n"
          ],
          "name": "stdout"
        },
        {
          "output_type": "stream",
          "text": [
            "/usr/local/lib/python3.6/dist-packages/sklearn/svm/_base.py:231: ConvergenceWarning: Solver terminated early (max_iter=1000).  Consider pre-processing your data with StandardScaler or MinMaxScaler.\n",
            "  % self.max_iter, ConvergenceWarning)\n"
          ],
          "name": "stderr"
        },
        {
          "output_type": "stream",
          "text": [
            "SVM trec4 TFDCR: accuracy=0.9578913532626165 roc_auc=0.9422172487244991\n"
          ],
          "name": "stdout"
        },
        {
          "output_type": "stream",
          "text": [
            "/usr/local/lib/python3.6/dist-packages/sklearn/svm/_base.py:231: ConvergenceWarning: Solver terminated early (max_iter=1000).  Consider pre-processing your data with StandardScaler or MinMaxScaler.\n",
            "  % self.max_iter, ConvergenceWarning)\n"
          ],
          "name": "stderr"
        },
        {
          "output_type": "stream",
          "text": [
            "SVM trec4 CHI: accuracy=0.959819993571199 roc_auc=0.946929938601588\n"
          ],
          "name": "stdout"
        },
        {
          "output_type": "stream",
          "text": [
            "/usr/local/lib/python3.6/dist-packages/sklearn/svm/_base.py:231: ConvergenceWarning: Solver terminated early (max_iter=1000).  Consider pre-processing your data with StandardScaler or MinMaxScaler.\n",
            "  % self.max_iter, ConvergenceWarning)\n"
          ],
          "name": "stderr"
        },
        {
          "output_type": "stream",
          "text": [
            "SVM trec5 TFDCR: accuracy=0.9562841530054644 roc_auc=0.9372121137746036\n"
          ],
          "name": "stdout"
        },
        {
          "output_type": "stream",
          "text": [
            "/usr/local/lib/python3.6/dist-packages/sklearn/svm/_base.py:231: ConvergenceWarning: Solver terminated early (max_iter=1000).  Consider pre-processing your data with StandardScaler or MinMaxScaler.\n",
            "  % self.max_iter, ConvergenceWarning)\n"
          ],
          "name": "stderr"
        },
        {
          "output_type": "stream",
          "text": [
            "SVM trec5 CHI: accuracy=0.9495339119254259 roc_auc=0.9298826129478164\n"
          ],
          "name": "stdout"
        },
        {
          "output_type": "stream",
          "text": [
            "/usr/local/lib/python3.6/dist-packages/sklearn/svm/_base.py:231: ConvergenceWarning: Solver terminated early (max_iter=1000).  Consider pre-processing your data with StandardScaler or MinMaxScaler.\n",
            "  % self.max_iter, ConvergenceWarning)\n"
          ],
          "name": "stderr"
        },
        {
          "output_type": "stream",
          "text": [
            "SVM trec6 TFDCR: accuracy=0.9566055930568949 roc_auc=0.9429159800071274\n"
          ],
          "name": "stdout"
        },
        {
          "output_type": "stream",
          "text": [
            "/usr/local/lib/python3.6/dist-packages/sklearn/svm/_base.py:231: ConvergenceWarning: Solver terminated early (max_iter=1000).  Consider pre-processing your data with StandardScaler or MinMaxScaler.\n",
            "  % self.max_iter, ConvergenceWarning)\n"
          ],
          "name": "stderr"
        },
        {
          "output_type": "stream",
          "text": [
            "SVM trec6 CHI: accuracy=0.9662487945998072 roc_auc=0.952109756188197\n"
          ],
          "name": "stdout"
        },
        {
          "output_type": "stream",
          "text": [
            "/usr/local/lib/python3.6/dist-packages/sklearn/svm/_base.py:231: ConvergenceWarning: Solver terminated early (max_iter=1000).  Consider pre-processing your data with StandardScaler or MinMaxScaler.\n",
            "  % self.max_iter, ConvergenceWarning)\n"
          ],
          "name": "stderr"
        },
        {
          "output_type": "stream",
          "text": [
            "SVM trec7 TFDCR: accuracy=0.9566195372750642 roc_auc=0.9401043026458732\n"
          ],
          "name": "stdout"
        },
        {
          "output_type": "stream",
          "text": [
            "/usr/local/lib/python3.6/dist-packages/sklearn/svm/_base.py:231: ConvergenceWarning: Solver terminated early (max_iter=1000).  Consider pre-processing your data with StandardScaler or MinMaxScaler.\n",
            "  % self.max_iter, ConvergenceWarning)\n"
          ],
          "name": "stderr"
        },
        {
          "output_type": "stream",
          "text": [
            "SVM trec7 CHI: accuracy=0.9534061696658098 roc_auc=0.9318732425998715\n"
          ],
          "name": "stdout"
        },
        {
          "output_type": "stream",
          "text": [
            "/usr/local/lib/python3.6/dist-packages/sklearn/svm/_base.py:231: ConvergenceWarning: Solver terminated early (max_iter=1000).  Consider pre-processing your data with StandardScaler or MinMaxScaler.\n",
            "  % self.max_iter, ConvergenceWarning)\n"
          ],
          "name": "stderr"
        },
        {
          "output_type": "stream",
          "text": [
            "SVM trec8 TFDCR: accuracy=0.9550128534704371 roc_auc=0.9357805911923486\n"
          ],
          "name": "stdout"
        },
        {
          "output_type": "stream",
          "text": [
            "/usr/local/lib/python3.6/dist-packages/sklearn/svm/_base.py:231: ConvergenceWarning: Solver terminated early (max_iter=1000).  Consider pre-processing your data with StandardScaler or MinMaxScaler.\n",
            "  % self.max_iter, ConvergenceWarning)\n"
          ],
          "name": "stderr"
        },
        {
          "output_type": "stream",
          "text": [
            "SVM trec8 CHI: accuracy=0.958547557840617 roc_auc=0.9417885127282272\n"
          ],
          "name": "stdout"
        },
        {
          "output_type": "execute_result",
          "data": {
            "text/plain": [
              "0"
            ]
          },
          "metadata": {
            "tags": []
          },
          "execution_count": 10
        }
      ]
    },
    {
      "cell_type": "code",
      "metadata": {
        "colab": {
          "base_uri": "https://localhost:8080/"
        },
        "id": "zlQyex4ibl-v",
        "outputId": "0d343a64-f4ae-4ef9-cff7-5bd1c32a053a"
      },
      "source": [
        "from sklearn.tree import DecisionTreeClassifier\n",
        "cert = DecisionTreeClassifier()\n",
        "do_tests_with_clf(cert, sa_texts, sa_classes, \"CERT SA\")\n",
        "do_tests_with_clf(cert, en1t, en1c, \"CERT EN1\")\n",
        "do_tests_with_clf(cert, en2t, en2c, \"CERT EN2\")\n",
        "do_tests_with_clf(cert, en3t, en3c, \"CERT EN3\")\n",
        "do_tests_with_clf(cert, en4t, en4c, \"CERT EN4\")\n",
        "do_tests_with_clf(cert, en5t, en5c, \"CERT EN5\")\n",
        "do_tests_with_clf(cert, en6t, en6c, \"CERT EN6\")"
      ],
      "execution_count": null,
      "outputs": [
        {
          "output_type": "stream",
          "text": [
            "CERT SA TFDCR: accuracy=0.9148629148629148 roc_auc=0.916562569398179\n",
            "CERT SA CHI: accuracy=0.9098124098124099 roc_auc=0.9068238236910424\n",
            "CERT EN1 TFDCR: accuracy=0.9461042765084944 roc_auc=0.9300251404660266\n",
            "CERT EN1 CHI: accuracy=0.9443468072642062 roc_auc=0.9331159900579952\n",
            "CERT EN2 TFDCR: accuracy=0.9482669425763063 roc_auc=0.9292986741102582\n",
            "CERT EN2 CHI: accuracy=0.950336264873254 roc_auc=0.9267090994813767\n",
            "CERT EN3 TFDCR: accuracy=0.9593183067619572 roc_auc=0.9523456597493108\n",
            "CERT EN3 CHI: accuracy=0.9494227597581089 roc_auc=0.9410338902552282\n",
            "CERT EN4 TFDCR: accuracy=0.9611111111111111 roc_auc=0.9501817736149171\n",
            "CERT EN4 CHI: accuracy=0.9621212121212122 roc_auc=0.9489493181222135\n",
            "CERT EN5 TFDCR: accuracy=0.9478922716627635 roc_auc=0.9337558836114677\n",
            "CERT EN5 CHI: accuracy=0.9654566744730679 roc_auc=0.9558877814691767\n",
            "CERT EN6 TFDCR: accuracy=0.9454545454545454 roc_auc=0.9302696006135331\n",
            "CERT EN6 CHI: accuracy=0.956060606060606 roc_auc=0.9386806138378166\n"
          ],
          "name": "stdout"
        }
      ]
    },
    {
      "cell_type": "code",
      "metadata": {
        "colab": {
          "base_uri": "https://localhost:8080/"
        },
        "id": "H-mtxxFyxruh",
        "outputId": "1f44a333-7904-46f0-c7f1-7cc698a88a66"
      },
      "source": [
        "print(\"TFIDF!!!\")\n",
        "import warnings\n",
        "warnings.filterwarnings('ignore')\n",
        "gc.collect()\n",
        "do_tests_with_clf(cert, ceas1_texts, ceas1_classes, \"CERT CEAS1\", 4000)\n",
        "gc.collect()\n",
        "do_tests_with_clf(cert, ceas2_texts, ceas2_classes, \"CERT CEAS2\", 4000)\n",
        "gc.collect()\n",
        "do_tests_with_clf(cert, ceas3_texts, ceas3_classes, \"CERT CEAS3\", 4000)\n",
        "gc.collect()\n",
        "do_tests_with_clf(cert, ceas4_texts, ceas4_classes, \"CERT CEAS4\", 4000)\n",
        "gc.collect()\n",
        "do_tests_with_clf(cert, ceas5_texts, ceas5_classes, \"CERT CEAS5\", 4000)\n",
        "gc.collect()\n",
        "do_tests_with_clf(cert, ceas6_texts, ceas6_classes, \"CERT CEAS6\", 4000)\n",
        "gc.collect()\n",
        "do_tests_with_clf(cert, ceas7_texts, ceas7_classes, \"CERT CEAS7\", 4000)\n",
        "gc.collect()\n",
        "do_tests_with_clf(cert, ceas8_texts, ceas8_classes, \"CERT CEAS8\", 4000)\n",
        "gc.collect()\n",
        "do_tests_with_clf(svm, ceas1_texts, ceas1_classes, \"SVM CEAS1\", 4000)\n",
        "gc.collect()\n",
        "do_tests_with_clf(svm, ceas2_texts, ceas2_classes, \"SVM CEAS2\", 4000)\n",
        "gc.collect()\n",
        "do_tests_with_clf(svm, ceas3_texts, ceas3_classes, \"SVM CEAS3\", 4000)\n",
        "gc.collect()\n",
        "do_tests_with_clf(svm, ceas4_texts, ceas4_classes, \"SVM CEAS4\", 4000)\n",
        "gc.collect()\n",
        "do_tests_with_clf(svm, ceas5_texts, ceas5_classes, \"SVM CEAS5\", 4000)\n",
        "gc.collect()\n",
        "do_tests_with_clf(svm, ceas6_texts, ceas6_classes, \"SVM CEAS6\", 4000)\n",
        "gc.collect()\n",
        "do_tests_with_clf(svm, ceas7_texts, ceas7_classes, \"SVM CEAS7\", 4000)\n",
        "gc.collect()\n",
        "do_tests_with_clf(svm, ceas8_texts, ceas8_classes, \"SVM CEAS8\", 4000)\n",
        "gc.collect()"
      ],
      "execution_count": null,
      "outputs": [
        {
          "output_type": "stream",
          "text": [
            "TFIDF!!!\n",
            "CERT CEAS1 TFDCR: accuracy=0.9843292577923196 roc_auc=0.9709318862974178\n",
            "CERT CEAS1 CHI: accuracy=0.9857069054589289 roc_auc=0.9722357983029754\n",
            "CERT CEAS2 TFDCR: accuracy=0.9815739624591011 roc_auc=0.9630457192279269\n",
            "CERT CEAS2 CHI: accuracy=0.9796796969175133 roc_auc=0.9578471960163945\n",
            "CERT CEAS3 TFDCR: accuracy=0.9860513173755812 roc_auc=0.9733015397470779\n",
            "CERT CEAS3 CHI: accuracy=0.9850180816256242 roc_auc=0.9721171945470973\n",
            "CERT CEAS4 TFDCR: accuracy=0.9845014637506457 roc_auc=0.9696672052403558\n",
            "CERT CEAS4 CHI: accuracy=0.9838126399173411 roc_auc=0.9645059617165208\n",
            "CERT CEAS5 TFDCR: accuracy=0.9836432506887053 roc_auc=0.9680843719162887\n",
            "CERT CEAS5 CHI: accuracy=0.9803719008264463 roc_auc=0.962473902221844\n",
            "CERT CEAS6 TFDCR: accuracy=0.9841597796143251 roc_auc=0.9718811980618112\n",
            "CERT CEAS6 CHI: accuracy=0.9822658402203857 roc_auc=0.9669734222542961\n",
            "CERT CEAS7 TFDCR: accuracy=0.9793388429752066 roc_auc=0.9606083918099138\n",
            "CERT CEAS7 CHI: accuracy=0.984331955922865 roc_auc=0.9707871572870207\n",
            "CERT CEAS8 TFDCR: accuracy=0.9838154269972452 roc_auc=0.9682134883962411\n",
            "CERT CEAS8 CHI: accuracy=0.9832988980716253 roc_auc=0.9666927974983057\n",
            "SVM CEAS1 TFDCR: accuracy=0.9912174961253659 roc_auc=0.9810656823481111\n",
            "SVM CEAS1 CHI: accuracy=0.9913897020836921 roc_auc=0.98152293085193\n",
            "SVM CEAS2 TFDCR: accuracy=0.9905286722920613 roc_auc=0.977586856184561\n",
            "SVM CEAS2 CHI: accuracy=0.9925951437919752 roc_auc=0.9840066929422702\n",
            "SVM CEAS3 TFDCR: accuracy=0.9938005855002583 roc_auc=0.985597200444362\n",
            "SVM CEAS3 CHI: accuracy=0.9941449974169106 roc_auc=0.9846023100602332\n",
            "SVM CEAS4 TFDCR: accuracy=0.9922507318753229 roc_auc=0.9810226128864006\n",
            "SVM CEAS4 CHI: accuracy=0.9908730842087137 roc_auc=0.9790262577010265\n",
            "SVM CEAS5 TFDCR: accuracy=0.9894972451790633 roc_auc=0.9765605560239553\n",
            "SVM CEAS5 CHI: accuracy=0.9943181818181818 roc_auc=0.9879731853484536\n",
            "SVM CEAS6 TFDCR: accuracy=0.9920798898071626 roc_auc=0.9821572396839398\n",
            "SVM CEAS6 CHI: accuracy=0.9915633608815427 roc_auc=0.9827311792868262\n",
            "SVM CEAS7 TFDCR: accuracy=0.990530303030303 roc_auc=0.9767827378725696\n",
            "SVM CEAS7 CHI: accuracy=0.9907024793388429 roc_auc=0.9798473599501584\n",
            "SVM CEAS8 TFDCR: accuracy=0.9907024793388429 roc_auc=0.9815479495574446\n",
            "SVM CEAS8 CHI: accuracy=0.9919077134986226 roc_auc=0.9837864905354291\n"
          ],
          "name": "stdout"
        },
        {
          "output_type": "execute_result",
          "data": {
            "text/plain": [
              "0"
            ]
          },
          "metadata": {
            "tags": []
          },
          "execution_count": 13
        }
      ]
    },
    {
      "cell_type": "code",
      "metadata": {
        "colab": {
          "base_uri": "https://localhost:8080/"
        },
        "id": "JufwzlyyvjR9",
        "outputId": "4a12dfdf-b739-45ff-bd51-5798ac1f3092"
      },
      "source": [
        "print(\"TFIDF!!!\")\n",
        "import warnings\n",
        "warnings.filterwarnings('ignore')\n",
        "gc.collect()\n",
        "do_tests_with_clf(cert, trec1_texts, trec1_classes, \"CERT trec1\", 4000)\n",
        "gc.collect()\n",
        "do_tests_with_clf(cert, trec2_texts, trec2_classes, \"CERT trec2\", 4000)\n",
        "gc.collect()\n",
        "do_tests_with_clf(cert, trec3_texts, trec3_classes, \"CERT trec3\", 4000)\n",
        "gc.collect()\n",
        "do_tests_with_clf(cert, trec4_texts, trec4_classes, \"CERT trec4\", 4000)\n",
        "gc.collect()\n",
        "do_tests_with_clf(cert, trec5_texts, trec5_classes, \"CERT trec5\", 4000)\n",
        "gc.collect()\n",
        "do_tests_with_clf(cert, trec6_texts, trec6_classes, \"CERT trec6\", 4000)\n",
        "gc.collect()\n",
        "do_tests_with_clf(cert, trec7_texts, trec7_classes, \"CERT trec7\", 4000)\n",
        "gc.collect()\n",
        "do_tests_with_clf(cert, trec8_texts, trec8_classes, \"CERT trec8\", 4000)\n",
        "gc.collect()\n",
        "do_tests_with_clf(svm, trec1_texts, trec1_classes, \"SVM trec1\", 4000)\n",
        "gc.collect()\n",
        "do_tests_with_clf(svm, trec2_texts, trec2_classes, \"SVM trec2\", 4000)\n",
        "gc.collect()\n",
        "do_tests_with_clf(svm, trec3_texts, trec3_classes, \"SVM trec3\", 4000)\n",
        "gc.collect()\n",
        "do_tests_with_clf(svm, trec4_texts, trec4_classes, \"SVM trec4\", 4000)\n",
        "gc.collect()\n",
        "do_tests_with_clf(svm, trec5_texts, trec5_classes, \"SVM trec5\", 4000)\n",
        "gc.collect()\n",
        "do_tests_with_clf(svm, trec6_texts, trec6_classes, \"SVM trec6\", 4000)\n",
        "gc.collect()\n",
        "do_tests_with_clf(svm, trec7_texts, trec7_classes, \"SVM trec7\", 4000)\n",
        "gc.collect()\n",
        "do_tests_with_clf(svm, trec8_texts, trec8_classes, \"SVM trec8\", 4000)\n",
        "gc.collect()"
      ],
      "execution_count": null,
      "outputs": [
        {
          "output_type": "stream",
          "text": [
            "TFIDF!!!\n",
            "CERT trec1 TFDCR: accuracy=0.9672131147540983 roc_auc=0.965168724959729\n",
            "CERT trec1 CHI: accuracy=0.9771777563484411 roc_auc=0.9737879301179924\n",
            "CERT trec2 TFDCR: accuracy=0.9717223650385605 roc_auc=0.965083790360999\n",
            "CERT trec2 CHI: accuracy=0.9726863753213367 roc_auc=0.9689211134088811\n",
            "CERT trec3 TFDCR: accuracy=0.9707489553198329 roc_auc=0.9667835871227592\n",
            "CERT trec3 CHI: accuracy=0.9726775956284153 roc_auc=0.9653634624581539\n",
            "CERT trec4 TFDCR: accuracy=0.9652844744455159 roc_auc=0.9602601169573156\n",
            "CERT trec4 CHI: accuracy=0.9723561555769848 roc_auc=0.9687055548178235\n",
            "CERT trec5 TFDCR: accuracy=0.9723561555769848 roc_auc=0.9680402345009207\n",
            "CERT trec5 CHI: accuracy=0.9710703953712633 roc_auc=0.9659855760432755\n",
            "CERT trec6 TFDCR: accuracy=0.970106075216972 roc_auc=0.9662496898557281\n",
            "CERT trec6 CHI: accuracy=0.9784635165541626 roc_auc=0.9750911067765959\n",
            "CERT trec7 TFDCR: accuracy=0.9762210796915167 roc_auc=0.972372326092388\n",
            "CERT trec7 CHI: accuracy=0.9749357326478149 roc_auc=0.9675874087406122\n",
            "CERT trec8 TFDCR: accuracy=0.9688303341902313 roc_auc=0.9639864551542668\n",
            "CERT trec8 CHI: accuracy=0.9694730077120822 roc_auc=0.963708881467127\n",
            "SVM trec1 TFDCR: accuracy=0.98424943747991 roc_auc=0.9780684432962264\n",
            "SVM trec1 CHI: accuracy=0.9871423979427837 roc_auc=0.9817103986978868\n",
            "SVM trec2 TFDCR: accuracy=0.9832904884318766 roc_auc=0.9763897873798395\n",
            "SVM trec2 CHI: accuracy=0.9868251928020566 roc_auc=0.9822041134541134\n",
            "SVM trec3 TFDCR: accuracy=0.9852137576342013 roc_auc=0.978641614770272\n",
            "SVM trec3 CHI: accuracy=0.9868209578913533 roc_auc=0.9816551724137931\n",
            "SVM trec4 TFDCR: accuracy=0.9848923175827708 roc_auc=0.9785139324581659\n",
            "SVM trec4 CHI: accuracy=0.9890710382513661 roc_auc=0.9853531969570385\n",
            "SVM trec5 TFDCR: accuracy=0.9855351976856316 roc_auc=0.9805813715907647\n",
            "SVM trec5 CHI: accuracy=0.9855351976856316 roc_auc=0.9804965709163106\n",
            "SVM trec6 TFDCR: accuracy=0.9868209578913533 roc_auc=0.9812857450306108\n",
            "SVM trec6 CHI: accuracy=0.9890710382513661 roc_auc=0.9854689890420385\n",
            "SVM trec7 TFDCR: accuracy=0.9845758354755784 roc_auc=0.978635474329374\n",
            "SVM trec7 CHI: accuracy=0.9903598971722365 roc_auc=0.9870756477470236\n",
            "SVM trec8 TFDCR: accuracy=0.9868251928020566 roc_auc=0.9809376883076305\n",
            "SVM trec8 CHI: accuracy=0.9884318766066839 roc_auc=0.984293865174047\n"
          ],
          "name": "stdout"
        },
        {
          "output_type": "execute_result",
          "data": {
            "text/plain": [
              "0"
            ]
          },
          "metadata": {
            "tags": []
          },
          "execution_count": 10
        }
      ]
    },
    {
      "cell_type": "code",
      "metadata": {
        "colab": {
          "base_uri": "https://localhost:8080/"
        },
        "id": "dINS6Pt-etlQ",
        "outputId": "230a7162-f811-4948-d5a7-c73d6627233d"
      },
      "source": [
        "print(\"TFIDF!!!!\")\n",
        "do_tests_with_clf(cert, sa_texts, sa_classes, \"CERT SA\")\n",
        "do_tests_with_clf(cert, en1t, en1c, \"CERT EN1\")\n",
        "do_tests_with_clf(cert, en2t, en2c, \"CERT EN2\")\n",
        "do_tests_with_clf(cert, en3t, en3c, \"CERT EN3\")\n",
        "do_tests_with_clf(cert, en4t, en4c, \"CERT EN4\")\n",
        "do_tests_with_clf(cert, en5t, en5c, \"CERT EN5\")\n",
        "do_tests_with_clf(cert, en6t, en6c, \"CERT EN6\")"
      ],
      "execution_count": null,
      "outputs": [
        {
          "output_type": "stream",
          "text": [
            "TFIDF!!!!\n",
            "CERT SA TFDCR: accuracy=0.9227994227994228 roc_auc=0.9186622823836182\n",
            "CERT SA CHI: accuracy=0.911976911976912 roc_auc=0.9114573614480314\n",
            "CERT EN1 TFDCR: accuracy=0.9466900995899239 roc_auc=0.9382305099525431\n",
            "CERT EN1 CHI: accuracy=0.9548916227299356 roc_auc=0.9475346961643143\n",
            "CERT EN2 TFDCR: accuracy=0.9534402483186757 roc_auc=0.9393234147469858\n",
            "CERT EN2 CHI: accuracy=0.958613554061045 roc_auc=0.9438973199870844\n",
            "CERT EN3 TFDCR: accuracy=0.9494227597581089 roc_auc=0.9314440115621465\n",
            "CERT EN3 CHI: accuracy=0.9505222649807586 roc_auc=0.9337441957852471\n",
            "CERT EN4 TFDCR: accuracy=0.9691919191919192 roc_auc=0.9600360083630577\n",
            "CERT EN4 CHI: accuracy=0.9727272727272728 roc_auc=0.9577072270553233\n",
            "CERT EN5 TFDCR: accuracy=0.9601873536299765 roc_auc=0.9525132450331125\n",
            "CERT EN5 CHI: accuracy=0.9648711943793911 roc_auc=0.9570724841660803\n",
            "CERT EN6 TFDCR: accuracy=0.9484848484848485 roc_auc=0.931372549019608\n",
            "CERT EN6 CHI: accuracy=0.9580808080808081 roc_auc=0.9385646535036779\n"
          ],
          "name": "stdout"
        }
      ]
    },
    {
      "cell_type": "code",
      "metadata": {
        "colab": {
          "base_uri": "https://localhost:8080/"
        },
        "id": "8nY8_q7FfIDR",
        "outputId": "907576f8-d038-4cb3-ce13-b1ef7215ee77"
      },
      "source": [
        "import warnings\n",
        "warnings.filterwarnings('ignore')\n",
        "print(\"TFIDF!!!!\")\n",
        "do_tests_with_clf(svm, sa_texts, sa_classes, \"SVC SA\")\n",
        "do_tests_with_clf(svm, en1t, en1c, \"SVC EN1\")\n",
        "do_tests_with_clf(svm, en2t, en2c, \"SVC EN2\")\n",
        "do_tests_with_clf(svm, en3t, en3c, \"SVC EN3\")\n",
        "do_tests_with_clf(svm, en4t, en4c, \"SVC EN4\")\n",
        "do_tests_with_clf(svm, en5t, en5c, \"SVC EN5\")\n",
        "do_tests_with_clf(svm, en6t, en6c, \"SVC EN6\")"
      ],
      "execution_count": null,
      "outputs": [
        {
          "output_type": "stream",
          "text": [
            "TFIDF!!!!\n",
            "SVC SA TFDCR: accuracy=0.9718614718614719 roc_auc=0.9627271855087995\n",
            "SVC SA CHI: accuracy=0.9754689754689755 roc_auc=0.9664473357324872\n",
            "SVC EN1 TFDCR: accuracy=0.9818394844756884 roc_auc=0.9818654269684197\n",
            "SVC EN1 CHI: accuracy=0.9876977152899824 roc_auc=0.9882661353389595\n",
            "SVC EN2 TFDCR: accuracy=0.9870667356440765 roc_auc=0.9775829487723718\n",
            "SVC EN2 CHI: accuracy=0.9948266942576306 roc_auc=0.9911112371660332\n",
            "SVC EN3 TFDCR: accuracy=0.9950522264980759 roc_auc=0.9925929570996073\n",
            "SVC EN3 CHI: accuracy=0.9934029686641012 roc_auc=0.9930992860822846\n",
            "SVC EN4 TFDCR: accuracy=0.9792929292929293 roc_auc=0.9591633466135457\n",
            "SVC EN4 CHI: accuracy=0.9828282828282828 roc_auc=0.965931863727455\n",
            "SVC EN5 TFDCR: accuracy=0.9894613583138173 roc_auc=0.9829222011385199\n",
            "SVC EN5 CHI: accuracy=0.9929742388758782 roc_auc=0.9871794871794871\n",
            "SVC EN6 TFDCR: accuracy=0.9803030303030303 roc_auc=0.9610460923157618\n",
            "SVC EN6 CHI: accuracy=0.9863636363636363 roc_auc=0.9764728826967872\n"
          ],
          "name": "stdout"
        }
      ]
    },
    {
      "cell_type": "code",
      "metadata": {
        "colab": {
          "base_uri": "https://localhost:8080/",
          "height": 417
        },
        "id": "rlzbWrFofW5w",
        "outputId": "05d1508f-1c0a-4854-f382-f0c473dcf51a"
      },
      "source": [
        "import warnings\n",
        "warnings.filterwarnings('ignore')\n",
        "print(\"TFIDF!!!!\")\n",
        "gc.collect()\n",
        "do_tests_with_clf(rf, en1t, en1c, \"RotF EN1\")\n",
        "gc.collect()\n",
        "do_tests_with_clf(rf, en2t, en2c, \"RotF EN2\")\n",
        "gc.collect()\n",
        "do_tests_with_clf(rf, en3t, en3c, \"RotF EN3\")\n",
        "gc.collect()\n",
        "do_tests_with_clf(rf, en4t, en4c, \"RotF EN4\")\n",
        "gc.collect()\n",
        "do_tests_with_clf(rf, en5t, en5c, \"RotF EN5\")\n",
        "gc.collect()\n",
        "do_tests_with_clf(rf, en6t, en6c, \"RotF EN6\")\n",
        "gc.collect()\n",
        "do_tests_with_clf(rf, sa_texts, sa_classes, \"RotF SA\")"
      ],
      "execution_count": null,
      "outputs": [
        {
          "output_type": "stream",
          "text": [
            "TFIDF!!!!\n"
          ],
          "name": "stdout"
        },
        {
          "output_type": "error",
          "ename": "TypeError",
          "evalue": "ignored",
          "traceback": [
            "\u001b[0;31m---------------------------------------------------------------------------\u001b[0m",
            "\u001b[0;31mTypeError\u001b[0m                                 Traceback (most recent call last)",
            "\u001b[0;32m<ipython-input-19-b0ff2ea947da>\u001b[0m in \u001b[0;36m<module>\u001b[0;34m()\u001b[0m\n\u001b[1;32m      3\u001b[0m \u001b[0mprint\u001b[0m\u001b[0;34m(\u001b[0m\u001b[0;34m\"TFIDF!!!!\"\u001b[0m\u001b[0;34m)\u001b[0m\u001b[0;34m\u001b[0m\u001b[0;34m\u001b[0m\u001b[0m\n\u001b[1;32m      4\u001b[0m \u001b[0mgc\u001b[0m\u001b[0;34m.\u001b[0m\u001b[0mcollect\u001b[0m\u001b[0;34m(\u001b[0m\u001b[0;34m)\u001b[0m\u001b[0;34m\u001b[0m\u001b[0;34m\u001b[0m\u001b[0m\n\u001b[0;32m----> 5\u001b[0;31m \u001b[0mdo_tests_with_clf\u001b[0m\u001b[0;34m(\u001b[0m\u001b[0mrf\u001b[0m\u001b[0;34m,\u001b[0m \u001b[0men1t\u001b[0m\u001b[0;34m,\u001b[0m \u001b[0men1c\u001b[0m\u001b[0;34m,\u001b[0m \u001b[0;34m\"RotF EN1\"\u001b[0m\u001b[0;34m)\u001b[0m\u001b[0;34m\u001b[0m\u001b[0;34m\u001b[0m\u001b[0m\n\u001b[0m\u001b[1;32m      6\u001b[0m \u001b[0mgc\u001b[0m\u001b[0;34m.\u001b[0m\u001b[0mcollect\u001b[0m\u001b[0;34m(\u001b[0m\u001b[0;34m)\u001b[0m\u001b[0;34m\u001b[0m\u001b[0;34m\u001b[0m\u001b[0m\n\u001b[1;32m      7\u001b[0m \u001b[0mdo_tests_with_clf\u001b[0m\u001b[0;34m(\u001b[0m\u001b[0mrf\u001b[0m\u001b[0;34m,\u001b[0m \u001b[0men2t\u001b[0m\u001b[0;34m,\u001b[0m \u001b[0men2c\u001b[0m\u001b[0;34m,\u001b[0m \u001b[0;34m\"RotF EN2\"\u001b[0m\u001b[0;34m)\u001b[0m\u001b[0;34m\u001b[0m\u001b[0;34m\u001b[0m\u001b[0m\n",
            "\u001b[0;32m<ipython-input-14-95cd2f07e6fc>\u001b[0m in \u001b[0;36mdo_tests_with_clf\u001b[0;34m(clf, texts, classes, out_prefix, n_features)\u001b[0m\n\u001b[1;32m      7\u001b[0m     \u001b[0mchi\u001b[0m \u001b[0;34m=\u001b[0m \u001b[0mSelectKBest\u001b[0m\u001b[0;34m(\u001b[0m\u001b[0mchi2\u001b[0m\u001b[0;34m,\u001b[0m \u001b[0mk\u001b[0m\u001b[0;34m=\u001b[0m\u001b[0mn_features\u001b[0m\u001b[0;34m)\u001b[0m\u001b[0;34m\u001b[0m\u001b[0;34m\u001b[0m\u001b[0m\n\u001b[1;32m      8\u001b[0m     \u001b[0mtrain_X\u001b[0m\u001b[0;34m,\u001b[0m \u001b[0mtest_X\u001b[0m\u001b[0;34m,\u001b[0m \u001b[0mtrain_y\u001b[0m\u001b[0;34m,\u001b[0m \u001b[0mtest_y\u001b[0m \u001b[0;34m=\u001b[0m \u001b[0mtrain_test_split\u001b[0m\u001b[0;34m(\u001b[0m\u001b[0mtfdcr\u001b[0m\u001b[0;34m(\u001b[0m\u001b[0mget_tokens_arr\u001b[0m\u001b[0;34m(\u001b[0m\u001b[0mtexts\u001b[0m\u001b[0;34m)\u001b[0m\u001b[0;34m,\u001b[0m \u001b[0mclasses\u001b[0m\u001b[0;34m)\u001b[0m\u001b[0;34m,\u001b[0m \u001b[0mclasses\u001b[0m \u001b[0;34m*\u001b[0m \u001b[0;36m2\u001b[0m \u001b[0;34m-\u001b[0m \u001b[0;36m1\u001b[0m\u001b[0;34m,\u001b[0m \u001b[0mtest_size\u001b[0m\u001b[0;34m=\u001b[0m\u001b[0;36m0.33\u001b[0m\u001b[0;34m)\u001b[0m\u001b[0;34m\u001b[0m\u001b[0;34m\u001b[0m\u001b[0m\n\u001b[0;32m----> 9\u001b[0;31m     \u001b[0mclf\u001b[0m\u001b[0;34m.\u001b[0m\u001b[0mfit\u001b[0m\u001b[0;34m(\u001b[0m\u001b[0mtrain_X\u001b[0m\u001b[0;34m,\u001b[0m \u001b[0mtrain_y\u001b[0m\u001b[0;34m)\u001b[0m\u001b[0;34m\u001b[0m\u001b[0;34m\u001b[0m\u001b[0m\n\u001b[0m\u001b[1;32m     10\u001b[0m     \u001b[0mprint\u001b[0m\u001b[0;34m(\u001b[0m\u001b[0;34m(\u001b[0m\u001b[0;34m\"{} TFDCR: accuracy={} roc_auc={}\"\u001b[0m\u001b[0;34m)\u001b[0m\u001b[0;34m.\u001b[0m\u001b[0mformat\u001b[0m\u001b[0;34m(\u001b[0m\u001b[0mout_prefix\u001b[0m\u001b[0;34m,\u001b[0m \u001b[0mclf\u001b[0m\u001b[0;34m.\u001b[0m\u001b[0mscore\u001b[0m\u001b[0;34m(\u001b[0m\u001b[0mtest_X\u001b[0m\u001b[0;34m,\u001b[0m \u001b[0mtest_y\u001b[0m\u001b[0;34m)\u001b[0m\u001b[0;34m,\u001b[0m \u001b[0mroc_auc_score\u001b[0m\u001b[0;34m(\u001b[0m\u001b[0mtest_y\u001b[0m\u001b[0;34m,\u001b[0m \u001b[0mclf\u001b[0m\u001b[0;34m.\u001b[0m\u001b[0mpredict\u001b[0m\u001b[0;34m(\u001b[0m\u001b[0mtest_X\u001b[0m\u001b[0;34m)\u001b[0m\u001b[0;34m)\u001b[0m\u001b[0;34m)\u001b[0m\u001b[0;34m)\u001b[0m\u001b[0;34m\u001b[0m\u001b[0;34m\u001b[0m\u001b[0m\n\u001b[1;32m     11\u001b[0m     \u001b[0mgc\u001b[0m\u001b[0;34m.\u001b[0m\u001b[0mcollect\u001b[0m\u001b[0;34m(\u001b[0m\u001b[0;34m)\u001b[0m\u001b[0;34m\u001b[0m\u001b[0;34m\u001b[0m\u001b[0m\n",
            "\u001b[0;32m/usr/local/lib/python3.6/dist-packages/sklearn/ensemble/_forest.py\u001b[0m in \u001b[0;36mfit\u001b[0;34m(self, X, y, sample_weight)\u001b[0m\n\u001b[1;32m    381\u001b[0m                     \u001b[0mverbose\u001b[0m\u001b[0;34m=\u001b[0m\u001b[0mself\u001b[0m\u001b[0;34m.\u001b[0m\u001b[0mverbose\u001b[0m\u001b[0;34m,\u001b[0m \u001b[0mclass_weight\u001b[0m\u001b[0;34m=\u001b[0m\u001b[0mself\u001b[0m\u001b[0;34m.\u001b[0m\u001b[0mclass_weight\u001b[0m\u001b[0;34m,\u001b[0m\u001b[0;34m\u001b[0m\u001b[0;34m\u001b[0m\u001b[0m\n\u001b[1;32m    382\u001b[0m                     n_samples_bootstrap=n_samples_bootstrap)\n\u001b[0;32m--> 383\u001b[0;31m                 for i, t in enumerate(trees))\n\u001b[0m\u001b[1;32m    384\u001b[0m \u001b[0;34m\u001b[0m\u001b[0m\n\u001b[1;32m    385\u001b[0m             \u001b[0;31m# Collect newly grown trees\u001b[0m\u001b[0;34m\u001b[0m\u001b[0;34m\u001b[0m\u001b[0;34m\u001b[0m\u001b[0m\n",
            "\u001b[0;32m/usr/local/lib/python3.6/dist-packages/joblib/parallel.py\u001b[0m in \u001b[0;36m__call__\u001b[0;34m(self, iterable)\u001b[0m\n\u001b[1;32m   1046\u001b[0m             \u001b[0;31m# remaining jobs.\u001b[0m\u001b[0;34m\u001b[0m\u001b[0;34m\u001b[0m\u001b[0;34m\u001b[0m\u001b[0m\n\u001b[1;32m   1047\u001b[0m             \u001b[0mself\u001b[0m\u001b[0;34m.\u001b[0m\u001b[0m_iterating\u001b[0m \u001b[0;34m=\u001b[0m \u001b[0;32mFalse\u001b[0m\u001b[0;34m\u001b[0m\u001b[0;34m\u001b[0m\u001b[0m\n\u001b[0;32m-> 1048\u001b[0;31m             \u001b[0;32mif\u001b[0m \u001b[0mself\u001b[0m\u001b[0;34m.\u001b[0m\u001b[0mdispatch_one_batch\u001b[0m\u001b[0;34m(\u001b[0m\u001b[0miterator\u001b[0m\u001b[0;34m)\u001b[0m\u001b[0;34m:\u001b[0m\u001b[0;34m\u001b[0m\u001b[0;34m\u001b[0m\u001b[0m\n\u001b[0m\u001b[1;32m   1049\u001b[0m                 \u001b[0mself\u001b[0m\u001b[0;34m.\u001b[0m\u001b[0m_iterating\u001b[0m \u001b[0;34m=\u001b[0m \u001b[0mself\u001b[0m\u001b[0;34m.\u001b[0m\u001b[0m_original_iterator\u001b[0m \u001b[0;32mis\u001b[0m \u001b[0;32mnot\u001b[0m \u001b[0;32mNone\u001b[0m\u001b[0;34m\u001b[0m\u001b[0;34m\u001b[0m\u001b[0m\n\u001b[1;32m   1050\u001b[0m \u001b[0;34m\u001b[0m\u001b[0m\n",
            "\u001b[0;32m/usr/local/lib/python3.6/dist-packages/joblib/parallel.py\u001b[0m in \u001b[0;36mdispatch_one_batch\u001b[0;34m(self, iterator)\u001b[0m\n\u001b[1;32m    864\u001b[0m                 \u001b[0;32mreturn\u001b[0m \u001b[0;32mFalse\u001b[0m\u001b[0;34m\u001b[0m\u001b[0;34m\u001b[0m\u001b[0m\n\u001b[1;32m    865\u001b[0m             \u001b[0;32melse\u001b[0m\u001b[0;34m:\u001b[0m\u001b[0;34m\u001b[0m\u001b[0;34m\u001b[0m\u001b[0m\n\u001b[0;32m--> 866\u001b[0;31m                 \u001b[0mself\u001b[0m\u001b[0;34m.\u001b[0m\u001b[0m_dispatch\u001b[0m\u001b[0;34m(\u001b[0m\u001b[0mtasks\u001b[0m\u001b[0;34m)\u001b[0m\u001b[0;34m\u001b[0m\u001b[0;34m\u001b[0m\u001b[0m\n\u001b[0m\u001b[1;32m    867\u001b[0m                 \u001b[0;32mreturn\u001b[0m \u001b[0;32mTrue\u001b[0m\u001b[0;34m\u001b[0m\u001b[0;34m\u001b[0m\u001b[0m\n\u001b[1;32m    868\u001b[0m \u001b[0;34m\u001b[0m\u001b[0m\n",
            "\u001b[0;32m/usr/local/lib/python3.6/dist-packages/joblib/parallel.py\u001b[0m in \u001b[0;36m_dispatch\u001b[0;34m(self, batch)\u001b[0m\n\u001b[1;32m    782\u001b[0m         \u001b[0;32mwith\u001b[0m \u001b[0mself\u001b[0m\u001b[0;34m.\u001b[0m\u001b[0m_lock\u001b[0m\u001b[0;34m:\u001b[0m\u001b[0;34m\u001b[0m\u001b[0;34m\u001b[0m\u001b[0m\n\u001b[1;32m    783\u001b[0m             \u001b[0mjob_idx\u001b[0m \u001b[0;34m=\u001b[0m \u001b[0mlen\u001b[0m\u001b[0;34m(\u001b[0m\u001b[0mself\u001b[0m\u001b[0;34m.\u001b[0m\u001b[0m_jobs\u001b[0m\u001b[0;34m)\u001b[0m\u001b[0;34m\u001b[0m\u001b[0;34m\u001b[0m\u001b[0m\n\u001b[0;32m--> 784\u001b[0;31m             \u001b[0mjob\u001b[0m \u001b[0;34m=\u001b[0m \u001b[0mself\u001b[0m\u001b[0;34m.\u001b[0m\u001b[0m_backend\u001b[0m\u001b[0;34m.\u001b[0m\u001b[0mapply_async\u001b[0m\u001b[0;34m(\u001b[0m\u001b[0mbatch\u001b[0m\u001b[0;34m,\u001b[0m \u001b[0mcallback\u001b[0m\u001b[0;34m=\u001b[0m\u001b[0mcb\u001b[0m\u001b[0;34m)\u001b[0m\u001b[0;34m\u001b[0m\u001b[0;34m\u001b[0m\u001b[0m\n\u001b[0m\u001b[1;32m    785\u001b[0m             \u001b[0;31m# A job can complete so quickly than its callback is\u001b[0m\u001b[0;34m\u001b[0m\u001b[0;34m\u001b[0m\u001b[0;34m\u001b[0m\u001b[0m\n\u001b[1;32m    786\u001b[0m             \u001b[0;31m# called before we get here, causing self._jobs to\u001b[0m\u001b[0;34m\u001b[0m\u001b[0;34m\u001b[0m\u001b[0;34m\u001b[0m\u001b[0m\n",
            "\u001b[0;32m/usr/local/lib/python3.6/dist-packages/joblib/_parallel_backends.py\u001b[0m in \u001b[0;36mapply_async\u001b[0;34m(self, func, callback)\u001b[0m\n\u001b[1;32m    206\u001b[0m     \u001b[0;32mdef\u001b[0m \u001b[0mapply_async\u001b[0m\u001b[0;34m(\u001b[0m\u001b[0mself\u001b[0m\u001b[0;34m,\u001b[0m \u001b[0mfunc\u001b[0m\u001b[0;34m,\u001b[0m \u001b[0mcallback\u001b[0m\u001b[0;34m=\u001b[0m\u001b[0;32mNone\u001b[0m\u001b[0;34m)\u001b[0m\u001b[0;34m:\u001b[0m\u001b[0;34m\u001b[0m\u001b[0;34m\u001b[0m\u001b[0m\n\u001b[1;32m    207\u001b[0m         \u001b[0;34m\"\"\"Schedule a func to be run\"\"\"\u001b[0m\u001b[0;34m\u001b[0m\u001b[0;34m\u001b[0m\u001b[0m\n\u001b[0;32m--> 208\u001b[0;31m         \u001b[0mresult\u001b[0m \u001b[0;34m=\u001b[0m \u001b[0mImmediateResult\u001b[0m\u001b[0;34m(\u001b[0m\u001b[0mfunc\u001b[0m\u001b[0;34m)\u001b[0m\u001b[0;34m\u001b[0m\u001b[0;34m\u001b[0m\u001b[0m\n\u001b[0m\u001b[1;32m    209\u001b[0m         \u001b[0;32mif\u001b[0m \u001b[0mcallback\u001b[0m\u001b[0;34m:\u001b[0m\u001b[0;34m\u001b[0m\u001b[0;34m\u001b[0m\u001b[0m\n\u001b[1;32m    210\u001b[0m             \u001b[0mcallback\u001b[0m\u001b[0;34m(\u001b[0m\u001b[0mresult\u001b[0m\u001b[0;34m)\u001b[0m\u001b[0;34m\u001b[0m\u001b[0;34m\u001b[0m\u001b[0m\n",
            "\u001b[0;32m/usr/local/lib/python3.6/dist-packages/joblib/_parallel_backends.py\u001b[0m in \u001b[0;36m__init__\u001b[0;34m(self, batch)\u001b[0m\n\u001b[1;32m    570\u001b[0m         \u001b[0;31m# Don't delay the application, to avoid keeping the input\u001b[0m\u001b[0;34m\u001b[0m\u001b[0;34m\u001b[0m\u001b[0;34m\u001b[0m\u001b[0m\n\u001b[1;32m    571\u001b[0m         \u001b[0;31m# arguments in memory\u001b[0m\u001b[0;34m\u001b[0m\u001b[0;34m\u001b[0m\u001b[0;34m\u001b[0m\u001b[0m\n\u001b[0;32m--> 572\u001b[0;31m         \u001b[0mself\u001b[0m\u001b[0;34m.\u001b[0m\u001b[0mresults\u001b[0m \u001b[0;34m=\u001b[0m \u001b[0mbatch\u001b[0m\u001b[0;34m(\u001b[0m\u001b[0;34m)\u001b[0m\u001b[0;34m\u001b[0m\u001b[0;34m\u001b[0m\u001b[0m\n\u001b[0m\u001b[1;32m    573\u001b[0m \u001b[0;34m\u001b[0m\u001b[0m\n\u001b[1;32m    574\u001b[0m     \u001b[0;32mdef\u001b[0m \u001b[0mget\u001b[0m\u001b[0;34m(\u001b[0m\u001b[0mself\u001b[0m\u001b[0;34m)\u001b[0m\u001b[0;34m:\u001b[0m\u001b[0;34m\u001b[0m\u001b[0;34m\u001b[0m\u001b[0m\n",
            "\u001b[0;32m/usr/local/lib/python3.6/dist-packages/joblib/parallel.py\u001b[0m in \u001b[0;36m__call__\u001b[0;34m(self)\u001b[0m\n\u001b[1;32m    261\u001b[0m         \u001b[0;32mwith\u001b[0m \u001b[0mparallel_backend\u001b[0m\u001b[0;34m(\u001b[0m\u001b[0mself\u001b[0m\u001b[0;34m.\u001b[0m\u001b[0m_backend\u001b[0m\u001b[0;34m,\u001b[0m \u001b[0mn_jobs\u001b[0m\u001b[0;34m=\u001b[0m\u001b[0mself\u001b[0m\u001b[0;34m.\u001b[0m\u001b[0m_n_jobs\u001b[0m\u001b[0;34m)\u001b[0m\u001b[0;34m:\u001b[0m\u001b[0;34m\u001b[0m\u001b[0;34m\u001b[0m\u001b[0m\n\u001b[1;32m    262\u001b[0m             return [func(*args, **kwargs)\n\u001b[0;32m--> 263\u001b[0;31m                     for func, args, kwargs in self.items]\n\u001b[0m\u001b[1;32m    264\u001b[0m \u001b[0;34m\u001b[0m\u001b[0m\n\u001b[1;32m    265\u001b[0m     \u001b[0;32mdef\u001b[0m \u001b[0m__reduce__\u001b[0m\u001b[0;34m(\u001b[0m\u001b[0mself\u001b[0m\u001b[0;34m)\u001b[0m\u001b[0;34m:\u001b[0m\u001b[0;34m\u001b[0m\u001b[0;34m\u001b[0m\u001b[0m\n",
            "\u001b[0;32m/usr/local/lib/python3.6/dist-packages/joblib/parallel.py\u001b[0m in \u001b[0;36m<listcomp>\u001b[0;34m(.0)\u001b[0m\n\u001b[1;32m    261\u001b[0m         \u001b[0;32mwith\u001b[0m \u001b[0mparallel_backend\u001b[0m\u001b[0;34m(\u001b[0m\u001b[0mself\u001b[0m\u001b[0;34m.\u001b[0m\u001b[0m_backend\u001b[0m\u001b[0;34m,\u001b[0m \u001b[0mn_jobs\u001b[0m\u001b[0;34m=\u001b[0m\u001b[0mself\u001b[0m\u001b[0;34m.\u001b[0m\u001b[0m_n_jobs\u001b[0m\u001b[0;34m)\u001b[0m\u001b[0;34m:\u001b[0m\u001b[0;34m\u001b[0m\u001b[0;34m\u001b[0m\u001b[0m\n\u001b[1;32m    262\u001b[0m             return [func(*args, **kwargs)\n\u001b[0;32m--> 263\u001b[0;31m                     for func, args, kwargs in self.items]\n\u001b[0m\u001b[1;32m    264\u001b[0m \u001b[0;34m\u001b[0m\u001b[0m\n\u001b[1;32m    265\u001b[0m     \u001b[0;32mdef\u001b[0m \u001b[0m__reduce__\u001b[0m\u001b[0;34m(\u001b[0m\u001b[0mself\u001b[0m\u001b[0;34m)\u001b[0m\u001b[0;34m:\u001b[0m\u001b[0;34m\u001b[0m\u001b[0;34m\u001b[0m\u001b[0m\n",
            "\u001b[0;32m/usr/local/lib/python3.6/dist-packages/sklearn/ensemble/_forest.py\u001b[0m in \u001b[0;36m_parallel_build_trees\u001b[0;34m(tree, forest, X, y, sample_weight, tree_idx, n_trees, verbose, class_weight, n_samples_bootstrap)\u001b[0m\n\u001b[1;32m    165\u001b[0m         \u001b[0mtree\u001b[0m\u001b[0;34m.\u001b[0m\u001b[0mfit\u001b[0m\u001b[0;34m(\u001b[0m\u001b[0mX\u001b[0m\u001b[0;34m,\u001b[0m \u001b[0my\u001b[0m\u001b[0;34m,\u001b[0m \u001b[0msample_weight\u001b[0m\u001b[0;34m=\u001b[0m\u001b[0mcurr_sample_weight\u001b[0m\u001b[0;34m,\u001b[0m \u001b[0mcheck_input\u001b[0m\u001b[0;34m=\u001b[0m\u001b[0;32mFalse\u001b[0m\u001b[0;34m)\u001b[0m\u001b[0;34m\u001b[0m\u001b[0;34m\u001b[0m\u001b[0m\n\u001b[1;32m    166\u001b[0m     \u001b[0;32melse\u001b[0m\u001b[0;34m:\u001b[0m\u001b[0;34m\u001b[0m\u001b[0;34m\u001b[0m\u001b[0m\n\u001b[0;32m--> 167\u001b[0;31m         \u001b[0mtree\u001b[0m\u001b[0;34m.\u001b[0m\u001b[0mfit\u001b[0m\u001b[0;34m(\u001b[0m\u001b[0mX\u001b[0m\u001b[0;34m,\u001b[0m \u001b[0my\u001b[0m\u001b[0;34m,\u001b[0m \u001b[0msample_weight\u001b[0m\u001b[0;34m=\u001b[0m\u001b[0msample_weight\u001b[0m\u001b[0;34m,\u001b[0m \u001b[0mcheck_input\u001b[0m\u001b[0;34m=\u001b[0m\u001b[0;32mFalse\u001b[0m\u001b[0;34m)\u001b[0m\u001b[0;34m\u001b[0m\u001b[0;34m\u001b[0m\u001b[0m\n\u001b[0m\u001b[1;32m    168\u001b[0m \u001b[0;34m\u001b[0m\u001b[0m\n\u001b[1;32m    169\u001b[0m     \u001b[0;32mreturn\u001b[0m \u001b[0mtree\u001b[0m\u001b[0;34m\u001b[0m\u001b[0;34m\u001b[0m\u001b[0m\n",
            "\u001b[0;32m/usr/local/lib/python3.6/dist-packages/rotation_forest/rotation_forest.py\u001b[0m in \u001b[0;36mfit\u001b[0;34m(self, X, y, sample_weight, check_input)\u001b[0m\n\u001b[1;32m     81\u001b[0m \u001b[0;34m\u001b[0m\u001b[0m\n\u001b[1;32m     82\u001b[0m     \u001b[0;32mdef\u001b[0m \u001b[0mfit\u001b[0m\u001b[0;34m(\u001b[0m\u001b[0mself\u001b[0m\u001b[0;34m,\u001b[0m \u001b[0mX\u001b[0m\u001b[0;34m,\u001b[0m \u001b[0my\u001b[0m\u001b[0;34m,\u001b[0m \u001b[0msample_weight\u001b[0m\u001b[0;34m=\u001b[0m\u001b[0;32mNone\u001b[0m\u001b[0;34m,\u001b[0m \u001b[0mcheck_input\u001b[0m\u001b[0;34m=\u001b[0m\u001b[0;32mTrue\u001b[0m\u001b[0;34m)\u001b[0m\u001b[0;34m:\u001b[0m\u001b[0;34m\u001b[0m\u001b[0;34m\u001b[0m\u001b[0m\n\u001b[0;32m---> 83\u001b[0;31m         \u001b[0mself\u001b[0m\u001b[0;34m.\u001b[0m\u001b[0m_fit_rotation_matrix\u001b[0m\u001b[0;34m(\u001b[0m\u001b[0mX\u001b[0m\u001b[0;34m)\u001b[0m\u001b[0;34m\u001b[0m\u001b[0;34m\u001b[0m\u001b[0m\n\u001b[0m\u001b[1;32m     84\u001b[0m         super(RotationTreeClassifier, self).fit(self.rotate(X), y,\n\u001b[1;32m     85\u001b[0m                                                 sample_weight, check_input)\n",
            "\u001b[0;32m/usr/local/lib/python3.6/dist-packages/rotation_forest/rotation_forest.py\u001b[0m in \u001b[0;36m_fit_rotation_matrix\u001b[0;34m(self, X)\u001b[0m\n\u001b[1;32m     77\u001b[0m                                 random_state=10*i)\n\u001b[1;32m     78\u001b[0m             \u001b[0mpca\u001b[0m \u001b[0;34m=\u001b[0m \u001b[0mself\u001b[0m\u001b[0;34m.\u001b[0m\u001b[0mpca_algorithm\u001b[0m\u001b[0;34m(\u001b[0m\u001b[0;34m)\u001b[0m\u001b[0;34m\u001b[0m\u001b[0;34m\u001b[0m\u001b[0m\n\u001b[0;32m---> 79\u001b[0;31m             \u001b[0mpca\u001b[0m\u001b[0;34m.\u001b[0m\u001b[0mfit\u001b[0m\u001b[0;34m(\u001b[0m\u001b[0mx_sample\u001b[0m\u001b[0;34m[\u001b[0m\u001b[0;34m:\u001b[0m\u001b[0;34m,\u001b[0m \u001b[0msubset\u001b[0m\u001b[0;34m]\u001b[0m\u001b[0;34m)\u001b[0m\u001b[0;34m\u001b[0m\u001b[0;34m\u001b[0m\u001b[0m\n\u001b[0m\u001b[1;32m     80\u001b[0m             \u001b[0mself\u001b[0m\u001b[0;34m.\u001b[0m\u001b[0mrotation_matrix\u001b[0m\u001b[0;34m[\u001b[0m\u001b[0mnp\u001b[0m\u001b[0;34m.\u001b[0m\u001b[0mix_\u001b[0m\u001b[0;34m(\u001b[0m\u001b[0msubset\u001b[0m\u001b[0;34m,\u001b[0m \u001b[0msubset\u001b[0m\u001b[0;34m)\u001b[0m\u001b[0;34m]\u001b[0m \u001b[0;34m=\u001b[0m \u001b[0mpca\u001b[0m\u001b[0;34m.\u001b[0m\u001b[0mcomponents_\u001b[0m\u001b[0;34m\u001b[0m\u001b[0;34m\u001b[0m\u001b[0m\n\u001b[1;32m     81\u001b[0m \u001b[0;34m\u001b[0m\u001b[0m\n",
            "\u001b[0;32m/usr/local/lib/python3.6/dist-packages/sklearn/decomposition/_pca.py\u001b[0m in \u001b[0;36mfit\u001b[0;34m(self, X, y)\u001b[0m\n\u001b[1;32m    342\u001b[0m             \u001b[0mReturns\u001b[0m \u001b[0mthe\u001b[0m \u001b[0minstance\u001b[0m \u001b[0mitself\u001b[0m\u001b[0;34m.\u001b[0m\u001b[0;34m\u001b[0m\u001b[0;34m\u001b[0m\u001b[0m\n\u001b[1;32m    343\u001b[0m         \"\"\"\n\u001b[0;32m--> 344\u001b[0;31m         \u001b[0mself\u001b[0m\u001b[0;34m.\u001b[0m\u001b[0m_fit\u001b[0m\u001b[0;34m(\u001b[0m\u001b[0mX\u001b[0m\u001b[0;34m)\u001b[0m\u001b[0;34m\u001b[0m\u001b[0;34m\u001b[0m\u001b[0m\n\u001b[0m\u001b[1;32m    345\u001b[0m         \u001b[0;32mreturn\u001b[0m \u001b[0mself\u001b[0m\u001b[0;34m\u001b[0m\u001b[0;34m\u001b[0m\u001b[0m\n\u001b[1;32m    346\u001b[0m \u001b[0;34m\u001b[0m\u001b[0m\n",
            "\u001b[0;32m/usr/local/lib/python3.6/dist-packages/sklearn/decomposition/_pca.py\u001b[0m in \u001b[0;36m_fit\u001b[0;34m(self, X)\u001b[0m\n\u001b[1;32m    385\u001b[0m         \u001b[0;31m# This is more informative than the generic one raised by check_array.\u001b[0m\u001b[0;34m\u001b[0m\u001b[0;34m\u001b[0m\u001b[0;34m\u001b[0m\u001b[0m\n\u001b[1;32m    386\u001b[0m         \u001b[0;32mif\u001b[0m \u001b[0missparse\u001b[0m\u001b[0;34m(\u001b[0m\u001b[0mX\u001b[0m\u001b[0;34m)\u001b[0m\u001b[0;34m:\u001b[0m\u001b[0;34m\u001b[0m\u001b[0;34m\u001b[0m\u001b[0m\n\u001b[0;32m--> 387\u001b[0;31m             raise TypeError('PCA does not support sparse input. See '\n\u001b[0m\u001b[1;32m    388\u001b[0m                             'TruncatedSVD for a possible alternative.')\n\u001b[1;32m    389\u001b[0m \u001b[0;34m\u001b[0m\u001b[0m\n",
            "\u001b[0;31mTypeError\u001b[0m: PCA does not support sparse input. See TruncatedSVD for a possible alternative."
          ]
        }
      ]
    },
    {
      "cell_type": "code",
      "metadata": {
        "colab": {
          "base_uri": "https://localhost:8080/"
        },
        "id": "b6lcXpy1lVZz",
        "outputId": "4b5c3643-c110-44c1-de91-23b817591f0a"
      },
      "source": [
        "svm = SVC(max_iter=1000)\n",
        "do_tests_with_clf(svm, sa_texts, sa_classes, \"SVC SA\")\n",
        "do_tests_with_clf(svm, en1t, en1c, \"SVC EN1\")\n",
        "do_tests_with_clf(svm, en2t, en2c, \"SVC EN2\")\n",
        "do_tests_with_clf(svm, en3t, en3c, \"SVC EN3\")\n",
        "do_tests_with_clf(svm, en4t, en4c, \"SVC EN4\")\n",
        "do_tests_with_clf(svm, en5t, en5c, \"SVC EN5\")\n",
        "do_tests_with_clf(svm, en6t, en6c, \"SVC EN6\")"
      ],
      "execution_count": null,
      "outputs": [
        {
          "output_type": "stream",
          "text": [
            "/usr/local/lib/python3.6/dist-packages/sklearn/svm/_base.py:231: ConvergenceWarning: Solver terminated early (max_iter=1000).  Consider pre-processing your data with StandardScaler or MinMaxScaler.\n",
            "  % self.max_iter, ConvergenceWarning)\n"
          ],
          "name": "stderr"
        },
        {
          "output_type": "stream",
          "text": [
            "SVC SA TFDCR: accuracy=0.8614718614718615 roc_auc=0.7796778683634918\n"
          ],
          "name": "stdout"
        },
        {
          "output_type": "stream",
          "text": [
            "/usr/local/lib/python3.6/dist-packages/sklearn/svm/_base.py:231: ConvergenceWarning: Solver terminated early (max_iter=1000).  Consider pre-processing your data with StandardScaler or MinMaxScaler.\n",
            "  % self.max_iter, ConvergenceWarning)\n"
          ],
          "name": "stderr"
        },
        {
          "output_type": "stream",
          "text": [
            "SVC SA CHI: accuracy=0.8210678210678211 roc_auc=0.7353896103896104\n"
          ],
          "name": "stdout"
        },
        {
          "output_type": "stream",
          "text": [
            "/usr/local/lib/python3.6/dist-packages/sklearn/svm/_base.py:231: ConvergenceWarning: Solver terminated early (max_iter=1000).  Consider pre-processing your data with StandardScaler or MinMaxScaler.\n",
            "  % self.max_iter, ConvergenceWarning)\n"
          ],
          "name": "stderr"
        },
        {
          "output_type": "stream",
          "text": [
            "SVC EN1 TFDCR: accuracy=0.9666080843585237 roc_auc=0.965105586911028\n"
          ],
          "name": "stdout"
        },
        {
          "output_type": "stream",
          "text": [
            "/usr/local/lib/python3.6/dist-packages/sklearn/svm/_base.py:231: ConvergenceWarning: Solver terminated early (max_iter=1000).  Consider pre-processing your data with StandardScaler or MinMaxScaler.\n",
            "  % self.max_iter, ConvergenceWarning)\n"
          ],
          "name": "stderr"
        },
        {
          "output_type": "stream",
          "text": [
            "SVC EN1 CHI: accuracy=0.9648506151142355 roc_auc=0.9692752590501053\n"
          ],
          "name": "stdout"
        },
        {
          "output_type": "stream",
          "text": [
            "/usr/local/lib/python3.6/dist-packages/sklearn/svm/_base.py:231: ConvergenceWarning: Solver terminated early (max_iter=1000).  Consider pre-processing your data with StandardScaler or MinMaxScaler.\n",
            "  % self.max_iter, ConvergenceWarning)\n"
          ],
          "name": "stderr"
        },
        {
          "output_type": "stream",
          "text": [
            "SVC EN2 TFDCR: accuracy=0.9725814795654423 roc_auc=0.9519428549009936\n"
          ],
          "name": "stdout"
        },
        {
          "output_type": "stream",
          "text": [
            "/usr/local/lib/python3.6/dist-packages/sklearn/svm/_base.py:231: ConvergenceWarning: Solver terminated early (max_iter=1000).  Consider pre-processing your data with StandardScaler or MinMaxScaler.\n",
            "  % self.max_iter, ConvergenceWarning)\n"
          ],
          "name": "stderr"
        },
        {
          "output_type": "stream",
          "text": [
            "SVC EN2 CHI: accuracy=0.9741334712881531 roc_auc=0.9573864505276036\n"
          ],
          "name": "stdout"
        },
        {
          "output_type": "stream",
          "text": [
            "/usr/local/lib/python3.6/dist-packages/sklearn/svm/_base.py:231: ConvergenceWarning: Solver terminated early (max_iter=1000).  Consider pre-processing your data with StandardScaler or MinMaxScaler.\n",
            "  % self.max_iter, ConvergenceWarning)\n"
          ],
          "name": "stderr"
        },
        {
          "output_type": "stream",
          "text": [
            "SVC EN3 TFDCR: accuracy=0.8543155579989005 roc_auc=0.7196734612537721\n"
          ],
          "name": "stdout"
        },
        {
          "output_type": "stream",
          "text": [
            "/usr/local/lib/python3.6/dist-packages/sklearn/svm/_base.py:231: ConvergenceWarning: Solver terminated early (max_iter=1000).  Consider pre-processing your data with StandardScaler or MinMaxScaler.\n",
            "  % self.max_iter, ConvergenceWarning)\n"
          ],
          "name": "stderr"
        },
        {
          "output_type": "stream",
          "text": [
            "SVC EN3 CHI: accuracy=0.8339747113798791 roc_auc=0.7079945435842391\n"
          ],
          "name": "stdout"
        },
        {
          "output_type": "stream",
          "text": [
            "/usr/local/lib/python3.6/dist-packages/sklearn/svm/_base.py:231: ConvergenceWarning: Solver terminated early (max_iter=1000).  Consider pre-processing your data with StandardScaler or MinMaxScaler.\n",
            "  % self.max_iter, ConvergenceWarning)\n"
          ],
          "name": "stderr"
        },
        {
          "output_type": "stream",
          "text": [
            "SVC EN4 TFDCR: accuracy=0.9611111111111111 roc_auc=0.9258722953046821\n"
          ],
          "name": "stdout"
        },
        {
          "output_type": "stream",
          "text": [
            "/usr/local/lib/python3.6/dist-packages/sklearn/svm/_base.py:231: ConvergenceWarning: Solver terminated early (max_iter=1000).  Consider pre-processing your data with StandardScaler or MinMaxScaler.\n",
            "  % self.max_iter, ConvergenceWarning)\n"
          ],
          "name": "stderr"
        },
        {
          "output_type": "stream",
          "text": [
            "SVC EN4 CHI: accuracy=0.9636363636363636 roc_auc=0.9272154499383646\n"
          ],
          "name": "stdout"
        },
        {
          "output_type": "stream",
          "text": [
            "/usr/local/lib/python3.6/dist-packages/sklearn/svm/_base.py:231: ConvergenceWarning: Solver terminated early (max_iter=1000).  Consider pre-processing your data with StandardScaler or MinMaxScaler.\n",
            "  % self.max_iter, ConvergenceWarning)\n"
          ],
          "name": "stderr"
        },
        {
          "output_type": "stream",
          "text": [
            "SVC EN5 TFDCR: accuracy=0.9631147540983607 roc_auc=0.9337783865148714\n"
          ],
          "name": "stdout"
        },
        {
          "output_type": "stream",
          "text": [
            "/usr/local/lib/python3.6/dist-packages/sklearn/svm/_base.py:231: ConvergenceWarning: Solver terminated early (max_iter=1000).  Consider pre-processing your data with StandardScaler or MinMaxScaler.\n",
            "  % self.max_iter, ConvergenceWarning)\n"
          ],
          "name": "stderr"
        },
        {
          "output_type": "stream",
          "text": [
            "SVC EN5 CHI: accuracy=0.9613583138173302 roc_auc=0.9345860927152317\n"
          ],
          "name": "stdout"
        },
        {
          "output_type": "stream",
          "text": [
            "/usr/local/lib/python3.6/dist-packages/sklearn/svm/_base.py:231: ConvergenceWarning: Solver terminated early (max_iter=1000).  Consider pre-processing your data with StandardScaler or MinMaxScaler.\n",
            "  % self.max_iter, ConvergenceWarning)\n"
          ],
          "name": "stderr"
        },
        {
          "output_type": "stream",
          "text": [
            "SVC EN6 TFDCR: accuracy=0.9474747474747475 roc_auc=0.896414342629482\n"
          ],
          "name": "stdout"
        },
        {
          "output_type": "stream",
          "text": [
            "/usr/local/lib/python3.6/dist-packages/sklearn/svm/_base.py:231: ConvergenceWarning: Solver terminated early (max_iter=1000).  Consider pre-processing your data with StandardScaler or MinMaxScaler.\n",
            "  % self.max_iter, ConvergenceWarning)\n"
          ],
          "name": "stderr"
        },
        {
          "output_type": "stream",
          "text": [
            "SVC EN6 CHI: accuracy=0.944949494949495 roc_auc=0.8918955172918395\n"
          ],
          "name": "stdout"
        }
      ]
    },
    {
      "cell_type": "code",
      "metadata": {
        "colab": {
          "base_uri": "https://localhost:8080/"
        },
        "id": "DNN_yeL7td6G",
        "outputId": "4cb7cbbe-6806-4669-d76d-d37f6b62afe6"
      },
      "source": [
        "import warnings\n",
        "warnings.filterwarnings('ignore')\n",
        "rf = RotationForestClassifier(max_depth=50, n_estimators=5)\n",
        "gc.collect()\n",
        "do_tests_with_clf(rf, sa_texts, sa_classes, \"RotF SA\")\n",
        "gc.collect()\n",
        "do_tests_with_clf(rf, en1t, en1c, \"RotF EN1\")\n",
        "gc.collect()\n",
        "do_tests_with_clf(rf, en2t, en2c, \"RotF EN2\")\n",
        "gc.collect()\n",
        "do_tests_with_clf(rf, en3t, en3c, \"RotF EN3\")\n",
        "gc.collect()\n",
        "do_tests_with_clf(rf, en4t, en4c, \"RotF EN4\")\n",
        "gc.collect()\n",
        "do_tests_with_clf(rf, en5t, en5c, \"RotF EN5\")\n",
        "gc.collect()\n",
        "do_tests_with_clf(rf, en6t, en6c, \"RotF EN6\")\n",
        "gc.collect()"
      ],
      "execution_count": null,
      "outputs": [
        {
          "output_type": "stream",
          "text": [
            "RotF SA TFDCR: accuracy=0.9242424242424242 roc_auc=0.913201530612245\n",
            "RotF SA CHI: accuracy=0.9307359307359307 roc_auc=0.9216903612886397\n",
            "RotF EN1 TFDCR: accuracy=0.9402460456942003 roc_auc=0.9290880476100382\n",
            "RotF EN1 CHI: accuracy=0.9414176918570591 roc_auc=0.9366005701677309\n",
            "RotF EN2 TFDCR: accuracy=0.9622348680807036 roc_auc=0.9489115893095053\n",
            "RotF EN2 CHI: accuracy=0.9580962234868081 roc_auc=0.9461866810369278\n",
            "RotF EN3 TFDCR: accuracy=0.9532710280373832 roc_auc=0.9426020018920321\n",
            "RotF EN3 CHI: accuracy=0.954370533260033 roc_auc=0.9399778128536542\n",
            "RotF EN4 TFDCR: accuracy=0.9666666666666667 roc_auc=0.9552712944327998\n",
            "RotF EN4 CHI: accuracy=0.9626262626262626 roc_auc=0.9457018356828123\n",
            "RotF EN5 TFDCR: accuracy=0.9490632318501171 roc_auc=0.9362657712155256\n",
            "RotF EN5 CHI: accuracy=0.9648711943793911 roc_auc=0.95496136936014\n",
            "RotF EN6 TFDCR: accuracy=0.95 roc_auc=0.9333677685950413\n",
            "RotF EN6 CHI: accuracy=0.9570707070707071 roc_auc=0.9296609139523578\n"
          ],
          "name": "stdout"
        },
        {
          "output_type": "execute_result",
          "data": {
            "text/plain": [
              "72"
            ]
          },
          "metadata": {
            "tags": []
          },
          "execution_count": 21
        }
      ]
    },
    {
      "cell_type": "code",
      "metadata": {
        "colab": {
          "base_uri": "https://localhost:8080/"
        },
        "id": "A99EaAmYn4_V",
        "outputId": "8fc6c9a8-86d8-4386-dc69-9160c78c2d30"
      },
      "source": [
        "import warnings\n",
        "warnings.filterwarnings('ignore')\n",
        "rf = RotationForestClassifier(max_depth=10, n_estimators=2)\n",
        "gc.collect()\n",
        "do_tests_with_clf(rf, trec1_texts, trec1_classes, \"RotF trec1\", 500)\n",
        "gc.collect()\n",
        "do_tests_with_clf(rf, trec2_texts, trec2_classes, \"RotF trec2\", 500)\n",
        "gc.collect()\n",
        "do_tests_with_clf(rf, trec3_texts, trec3_classes, \"RotF trec3\", 500)\n",
        "gc.collect()\n",
        "do_tests_with_clf(rf, trec4_texts, trec4_classes, \"RotF trec4\", 500)\n",
        "gc.collect()\n",
        "do_tests_with_clf(rf, trec5_texts, trec5_classes, \"RotF trec5\", 500)\n",
        "gc.collect()\n",
        "do_tests_with_clf(rf, trec6_texts, trec6_classes, \"RotF trec6\", 500)\n",
        "gc.collect()\n",
        "do_tests_with_clf(rf, trec7_texts, trec7_classes, \"RotF trec7\", 500)"
      ],
      "execution_count": null,
      "outputs": [
        {
          "output_type": "stream",
          "text": [
            "RotF trec1 TFDCR: accuracy=0.96849887495982 roc_auc=0.960286287293758\n",
            "RotF trec1 CHI: accuracy=0.9704275152684024 roc_auc=0.9634288077143954\n",
            "RotF trec2 TFDCR: accuracy=0.9691516709511568 roc_auc=0.9599837343588432\n",
            "RotF trec2 CHI: accuracy=0.9611182519280206 roc_auc=0.9489333021183456\n",
            "RotF trec3 TFDCR: accuracy=0.9694631951141112 roc_auc=0.9601905719144925\n",
            "RotF trec3 CHI: accuracy=0.9691417550626809 roc_auc=0.9591595247055299\n",
            "RotF trec4 TFDCR: accuracy=0.9681774349083896 roc_auc=0.958836641050511\n",
            "RotF trec4 CHI: accuracy=0.9646415943426551 roc_auc=0.9560103534206215\n",
            "RotF trec5 TFDCR: accuracy=0.9717132754741241 roc_auc=0.9665814606301064\n",
            "RotF trec5 CHI: accuracy=0.9736419157827065 roc_auc=0.9681489262371615\n",
            "RotF trec6 TFDCR: accuracy=0.9742847958855674 roc_auc=0.9690526037879174\n",
            "RotF trec6 CHI: accuracy=0.9672131147540983 roc_auc=0.959038737446198\n",
            "RotF trec7 TFDCR: accuracy=0.9707583547557841 roc_auc=0.964387771431184\n",
            "RotF trec7 CHI: accuracy=0.971401028277635 roc_auc=0.9648186194346742\n"
          ],
          "name": "stdout"
        }
      ]
    },
    {
      "cell_type": "code",
      "metadata": {
        "colab": {
          "base_uri": "https://localhost:8080/"
        },
        "id": "7GkPqQ3NDEpN",
        "outputId": "2bc05557-9ee2-4930-ba8e-3e4d8957dfb0"
      },
      "source": [
        "gc.collect()\n",
        "do_tests_with_clf(rf, trec8_texts, trec8_classes, \"RotF trec8\", 500)"
      ],
      "execution_count": null,
      "outputs": [
        {
          "output_type": "stream",
          "text": [
            "/usr/local/lib/python3.6/dist-packages/sklearn/decomposition/_pca.py:456: RuntimeWarning: invalid value encountered in true_divide\n",
            "  explained_variance_ratio_ = explained_variance_ / total_var\n",
            "/usr/local/lib/python3.6/dist-packages/sklearn/decomposition/_pca.py:456: RuntimeWarning: invalid value encountered in true_divide\n",
            "  explained_variance_ratio_ = explained_variance_ / total_var\n",
            "/usr/local/lib/python3.6/dist-packages/sklearn/decomposition/_pca.py:456: RuntimeWarning: invalid value encountered in true_divide\n",
            "  explained_variance_ratio_ = explained_variance_ / total_var\n",
            "/usr/local/lib/python3.6/dist-packages/sklearn/tree/_classes.py:319: FutureWarning: The parameter 'presort' is deprecated and has no effect. It will be removed in v0.24. You can suppress this warning by not passing any value to the 'presort' parameter.\n",
            "  FutureWarning)\n",
            "/usr/local/lib/python3.6/dist-packages/sklearn/decomposition/_pca.py:456: RuntimeWarning: invalid value encountered in true_divide\n",
            "  explained_variance_ratio_ = explained_variance_ / total_var\n",
            "/usr/local/lib/python3.6/dist-packages/sklearn/decomposition/_pca.py:456: RuntimeWarning: invalid value encountered in true_divide\n",
            "  explained_variance_ratio_ = explained_variance_ / total_var\n",
            "/usr/local/lib/python3.6/dist-packages/sklearn/decomposition/_pca.py:456: RuntimeWarning: invalid value encountered in true_divide\n",
            "  explained_variance_ratio_ = explained_variance_ / total_var\n",
            "/usr/local/lib/python3.6/dist-packages/sklearn/tree/_classes.py:319: FutureWarning: The parameter 'presort' is deprecated and has no effect. It will be removed in v0.24. You can suppress this warning by not passing any value to the 'presort' parameter.\n",
            "  FutureWarning)\n"
          ],
          "name": "stderr"
        },
        {
          "output_type": "stream",
          "text": [
            "RotF trec8 TFDCR: accuracy=0.9749357326478149 roc_auc=0.9694752326553007\n"
          ],
          "name": "stdout"
        },
        {
          "output_type": "stream",
          "text": [
            "/usr/local/lib/python3.6/dist-packages/sklearn/tree/_classes.py:319: FutureWarning: The parameter 'presort' is deprecated and has no effect. It will be removed in v0.24. You can suppress this warning by not passing any value to the 'presort' parameter.\n",
            "  FutureWarning)\n",
            "/usr/local/lib/python3.6/dist-packages/sklearn/tree/_classes.py:319: FutureWarning: The parameter 'presort' is deprecated and has no effect. It will be removed in v0.24. You can suppress this warning by not passing any value to the 'presort' parameter.\n",
            "  FutureWarning)\n"
          ],
          "name": "stderr"
        },
        {
          "output_type": "stream",
          "text": [
            "RotF trec8 CHI: accuracy=0.9691516709511568 roc_auc=0.9619592763766507\n"
          ],
          "name": "stdout"
        }
      ]
    },
    {
      "cell_type": "code",
      "metadata": {
        "colab": {
          "base_uri": "https://localhost:8080/"
        },
        "id": "oxRTcwUfwSJ-",
        "outputId": "41c60574-0ff5-4a62-9fa7-e70972f2c7fa"
      },
      "source": [
        "do_tests_with_clf(cert, sa_texts, sa_classes, \"CERT SA\")\n",
        "do_tests_with_clf(cert, en1t, en1c, \"CERT EN1\")\n",
        "do_tests_with_clf(cert, en2t, en2c, \"CERT EN2\")\n",
        "do_tests_with_clf(cert, en3t, en3c, \"CERT EN3\")\n",
        "do_tests_with_clf(cert, en4t, en4c, \"CERT EN4\")\n",
        "do_tests_with_clf(cert, en5t, en5c, \"CERT EN5\")\n",
        "do_tests_with_clf(cert, en6t, en6c, \"CERT EN6\")"
      ],
      "execution_count": null,
      "outputs": [
        {
          "output_type": "stream",
          "text": [
            "CERT SA NO SELEC: accuracy=0.9083694083694084 roc_auc=0.904551896270914\n",
            "CERT EN1 NO SELEC: accuracy=0.9338019917984769 roc_auc=0.9321553093434138\n",
            "CERT EN2 NO SELEC: accuracy=0.9539575788929125 roc_auc=0.9379009936073378\n",
            "CERT EN3 NO SELEC: accuracy=0.9571192963166575 roc_auc=0.942794613935042\n",
            "CERT EN4 NO SELEC: accuracy=0.9702020202020202 roc_auc=0.9573456898059102\n",
            "CERT EN5 NO SELEC: accuracy=0.9590163934426229 roc_auc=0.9485573299924638\n",
            "CERT EN6 NO SELEC: accuracy=0.9489898989898989 roc_auc=0.9282407407407407\n"
          ],
          "name": "stdout"
        }
      ]
    },
    {
      "cell_type": "code",
      "metadata": {
        "colab": {
          "base_uri": "https://localhost:8080/"
        },
        "id": "SaawzTlWwZXM",
        "outputId": "2326385c-3a65-49cf-a815-7e010371e4e9"
      },
      "source": [
        "import warnings\n",
        "warnings.filterwarnings('ignore')\n",
        "do_tests_with_clf(svm, sa_texts, sa_classes, \"SVC SA\")\n",
        "do_tests_with_clf(svm, en1t, en1c, \"SVC EN1\")\n",
        "do_tests_with_clf(svm, en2t, en2c, \"SVC EN2\")\n",
        "do_tests_with_clf(svm, en3t, en3c, \"SVC EN3\")\n",
        "do_tests_with_clf(svm, en4t, en4c, \"SVC EN4\")\n",
        "do_tests_with_clf(svm, en5t, en5c, \"SVC EN5\")\n",
        "do_tests_with_clf(svm, en6t, en6c, \"SVC EN6\")"
      ],
      "execution_count": null,
      "outputs": [
        {
          "output_type": "stream",
          "text": [
            "SVC SA NO SELEC: accuracy=0.9632034632034632 roc_auc=0.9526146194529088\n",
            "SVC EN1 NO SELEC: accuracy=0.9882835383714118 roc_auc=0.9882958633533485\n",
            "SVC EN2 NO SELEC: accuracy=0.9901707190894982 roc_auc=0.981712001142286\n",
            "SVC EN3 NO SELEC: accuracy=0.994502473886751 roc_auc=0.9904030311241394\n",
            "SVC EN4 NO SELEC: accuracy=0.9787878787878788 roc_auc=0.9542483660130718\n",
            "SVC EN5 NO SELEC: accuracy=0.984192037470726 roc_auc=0.9735294117647059\n",
            "SVC EN6 NO SELEC: accuracy=0.9752525252525253 roc_auc=0.950476339735846\n"
          ],
          "name": "stdout"
        }
      ]
    },
    {
      "cell_type": "code",
      "metadata": {
        "id": "KG0-aGPqSF4D"
      },
      "source": [
        "import warnings\n",
        "warnings.filterwarnings('ignore')\n",
        "gc.collect()\n",
        "do_tests_with_clf(cert, trec1_texts, trec1_classes, \"CERT trec1\")\n",
        "gc.collect()\n",
        "do_tests_with_clf(cert, trec2_texts, trec2_classes, \"CERT trec2\")\n",
        "gc.collect()\n",
        "do_tests_with_clf(cert, trec3_texts, trec3_classes, \"CERT trec3\")\n",
        "gc.collect()\n",
        "do_tests_with_clf(cert, trec4_texts, trec4_classes, \"CERT trec4\")\n",
        "gc.collect()\n",
        "do_tests_with_clf(cert, trec5_texts, trec5_classes, \"CERT trec5\")\n",
        "gc.collect()\n",
        "do_tests_with_clf(cert, trec6_texts, trec6_classes, \"CERT trec6\")\n",
        "gc.collect()\n",
        "do_tests_with_clf(cert, trec7_texts, trec7_classes, \"CERT trec7\")\n",
        "gc.collect()\n",
        "do_tests_with_clf(cert, trec8_texts, trec8_classes, \"CERT trec8\")\n",
        "gc.collect()\n",
        "do_tests_with_clf(svm, trec1_texts, trec1_classes, \"SVM trec1\")\n",
        "gc.collect()\n",
        "do_tests_with_clf(svm, trec2_texts, trec2_classes, \"SVM trec2\")\n",
        "gc.collect()\n",
        "do_tests_with_clf(svm, trec3_texts, trec3_classes, \"SVM trec3\")\n",
        "gc.collect()\n",
        "do_tests_with_clf(svm, trec4_texts, trec4_classes, \"SVM trec4\")\n",
        "gc.collect()\n",
        "do_tests_with_clf(svm, trec5_texts, trec5_classes, \"SVM trec5\")\n",
        "gc.collect()\n",
        "do_tests_with_clf(svm, trec6_texts, trec6_classes, \"SVM trec6\")\n",
        "gc.collect()\n",
        "do_tests_with_clf(svm, trec7_texts, trec7_classes, \"SVM trec7\")\n",
        "gc.collect()\n",
        "do_tests_with_clf(svm, trec8_texts, trec8_classes, \"SVM trec8\")"
      ],
      "execution_count": null,
      "outputs": []
    }
  ]
}